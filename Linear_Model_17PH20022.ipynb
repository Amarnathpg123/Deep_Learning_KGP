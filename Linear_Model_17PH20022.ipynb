{
  "nbformat": 4,
  "nbformat_minor": 0,
  "metadata": {
    "colab": {
      "name": "Linear_Model_17PH20022.ipynb",
      "provenance": [],
      "collapsed_sections": [
        "cx5ClBu_51tn",
        "u-MXdpPD57G3",
        "0-ndkaf_6Ekq",
        "HU-K6Pz66Tc-",
        "izEtgNdT6XaA",
        "LIM2qq8I6rLG",
        "HAOa6xmh6z84"
      ]
    },
    "kernelspec": {
      "name": "python3",
      "display_name": "Python 3"
    },
    "widgets": {
      "application/vnd.jupyter.widget-state+json": {
        "cca26eafabf949e5ae59a1e8ec55efe7": {
          "model_module": "@jupyter-widgets/controls",
          "model_name": "HBoxModel",
          "state": {
            "_view_name": "HBoxView",
            "_dom_classes": [],
            "_model_name": "HBoxModel",
            "_view_module": "@jupyter-widgets/controls",
            "_model_module_version": "1.5.0",
            "_view_count": null,
            "_view_module_version": "1.5.0",
            "box_style": "",
            "layout": "IPY_MODEL_5888a2649c554f348d1bcd13da4db404",
            "_model_module": "@jupyter-widgets/controls",
            "children": [
              "IPY_MODEL_212781fb500445b6a66ffe1830987c3c",
              "IPY_MODEL_edd6ae6676f64617ab53ae92deb1edee"
            ]
          }
        },
        "5888a2649c554f348d1bcd13da4db404": {
          "model_module": "@jupyter-widgets/base",
          "model_name": "LayoutModel",
          "state": {
            "_view_name": "LayoutView",
            "grid_template_rows": null,
            "right": null,
            "justify_content": null,
            "_view_module": "@jupyter-widgets/base",
            "overflow": null,
            "_model_module_version": "1.2.0",
            "_view_count": null,
            "flex_flow": null,
            "width": null,
            "min_width": null,
            "border": null,
            "align_items": null,
            "bottom": null,
            "_model_module": "@jupyter-widgets/base",
            "top": null,
            "grid_column": null,
            "overflow_y": null,
            "overflow_x": null,
            "grid_auto_flow": null,
            "grid_area": null,
            "grid_template_columns": null,
            "flex": null,
            "_model_name": "LayoutModel",
            "justify_items": null,
            "grid_row": null,
            "max_height": null,
            "align_content": null,
            "visibility": null,
            "align_self": null,
            "height": null,
            "min_height": null,
            "padding": null,
            "grid_auto_rows": null,
            "grid_gap": null,
            "max_width": null,
            "order": null,
            "_view_module_version": "1.2.0",
            "grid_template_areas": null,
            "object_position": null,
            "object_fit": null,
            "grid_auto_columns": null,
            "margin": null,
            "display": null,
            "left": null
          }
        },
        "212781fb500445b6a66ffe1830987c3c": {
          "model_module": "@jupyter-widgets/controls",
          "model_name": "FloatProgressModel",
          "state": {
            "_view_name": "ProgressView",
            "style": "IPY_MODEL_a734a04c7d8a4d61be47065c67a8d7a5",
            "_dom_classes": [],
            "description": "100%",
            "_model_name": "FloatProgressModel",
            "bar_style": "success",
            "max": 50,
            "_view_module": "@jupyter-widgets/controls",
            "_model_module_version": "1.5.0",
            "value": 50,
            "_view_count": null,
            "_view_module_version": "1.5.0",
            "orientation": "horizontal",
            "min": 0,
            "description_tooltip": null,
            "_model_module": "@jupyter-widgets/controls",
            "layout": "IPY_MODEL_c11f668c21d94996a139820b86aea894"
          }
        },
        "edd6ae6676f64617ab53ae92deb1edee": {
          "model_module": "@jupyter-widgets/controls",
          "model_name": "HTMLModel",
          "state": {
            "_view_name": "HTMLView",
            "style": "IPY_MODEL_56255661bf4f4e1cb0777efd01c3ab85",
            "_dom_classes": [],
            "description": "",
            "_model_name": "HTMLModel",
            "placeholder": "​",
            "_view_module": "@jupyter-widgets/controls",
            "_model_module_version": "1.5.0",
            "value": " 50/50 [03:46&lt;00:00,  4.53s/it]",
            "_view_count": null,
            "_view_module_version": "1.5.0",
            "description_tooltip": null,
            "_model_module": "@jupyter-widgets/controls",
            "layout": "IPY_MODEL_39d7eebe37464c5db4be4be6b5d42656"
          }
        },
        "a734a04c7d8a4d61be47065c67a8d7a5": {
          "model_module": "@jupyter-widgets/controls",
          "model_name": "ProgressStyleModel",
          "state": {
            "_view_name": "StyleView",
            "_model_name": "ProgressStyleModel",
            "description_width": "initial",
            "_view_module": "@jupyter-widgets/base",
            "_model_module_version": "1.5.0",
            "_view_count": null,
            "_view_module_version": "1.2.0",
            "bar_color": null,
            "_model_module": "@jupyter-widgets/controls"
          }
        },
        "c11f668c21d94996a139820b86aea894": {
          "model_module": "@jupyter-widgets/base",
          "model_name": "LayoutModel",
          "state": {
            "_view_name": "LayoutView",
            "grid_template_rows": null,
            "right": null,
            "justify_content": null,
            "_view_module": "@jupyter-widgets/base",
            "overflow": null,
            "_model_module_version": "1.2.0",
            "_view_count": null,
            "flex_flow": null,
            "width": null,
            "min_width": null,
            "border": null,
            "align_items": null,
            "bottom": null,
            "_model_module": "@jupyter-widgets/base",
            "top": null,
            "grid_column": null,
            "overflow_y": null,
            "overflow_x": null,
            "grid_auto_flow": null,
            "grid_area": null,
            "grid_template_columns": null,
            "flex": null,
            "_model_name": "LayoutModel",
            "justify_items": null,
            "grid_row": null,
            "max_height": null,
            "align_content": null,
            "visibility": null,
            "align_self": null,
            "height": null,
            "min_height": null,
            "padding": null,
            "grid_auto_rows": null,
            "grid_gap": null,
            "max_width": null,
            "order": null,
            "_view_module_version": "1.2.0",
            "grid_template_areas": null,
            "object_position": null,
            "object_fit": null,
            "grid_auto_columns": null,
            "margin": null,
            "display": null,
            "left": null
          }
        },
        "56255661bf4f4e1cb0777efd01c3ab85": {
          "model_module": "@jupyter-widgets/controls",
          "model_name": "DescriptionStyleModel",
          "state": {
            "_view_name": "StyleView",
            "_model_name": "DescriptionStyleModel",
            "description_width": "",
            "_view_module": "@jupyter-widgets/base",
            "_model_module_version": "1.5.0",
            "_view_count": null,
            "_view_module_version": "1.2.0",
            "_model_module": "@jupyter-widgets/controls"
          }
        },
        "39d7eebe37464c5db4be4be6b5d42656": {
          "model_module": "@jupyter-widgets/base",
          "model_name": "LayoutModel",
          "state": {
            "_view_name": "LayoutView",
            "grid_template_rows": null,
            "right": null,
            "justify_content": null,
            "_view_module": "@jupyter-widgets/base",
            "overflow": null,
            "_model_module_version": "1.2.0",
            "_view_count": null,
            "flex_flow": null,
            "width": null,
            "min_width": null,
            "border": null,
            "align_items": null,
            "bottom": null,
            "_model_module": "@jupyter-widgets/base",
            "top": null,
            "grid_column": null,
            "overflow_y": null,
            "overflow_x": null,
            "grid_auto_flow": null,
            "grid_area": null,
            "grid_template_columns": null,
            "flex": null,
            "_model_name": "LayoutModel",
            "justify_items": null,
            "grid_row": null,
            "max_height": null,
            "align_content": null,
            "visibility": null,
            "align_self": null,
            "height": null,
            "min_height": null,
            "padding": null,
            "grid_auto_rows": null,
            "grid_gap": null,
            "max_width": null,
            "order": null,
            "_view_module_version": "1.2.0",
            "grid_template_areas": null,
            "object_position": null,
            "object_fit": null,
            "grid_auto_columns": null,
            "margin": null,
            "display": null,
            "left": null
          }
        },
        "20dab9c9abfe452fb028a949ec98befd": {
          "model_module": "@jupyter-widgets/controls",
          "model_name": "HBoxModel",
          "state": {
            "_view_name": "HBoxView",
            "_dom_classes": [],
            "_model_name": "HBoxModel",
            "_view_module": "@jupyter-widgets/controls",
            "_model_module_version": "1.5.0",
            "_view_count": null,
            "_view_module_version": "1.5.0",
            "box_style": "",
            "layout": "IPY_MODEL_a6262b9d4a9d479db475d7a56b567eca",
            "_model_module": "@jupyter-widgets/controls",
            "children": [
              "IPY_MODEL_0243912b0f5f45d1afd800d73a261e23",
              "IPY_MODEL_d35d0e7aaf6a473596db007df64fb042"
            ]
          }
        },
        "a6262b9d4a9d479db475d7a56b567eca": {
          "model_module": "@jupyter-widgets/base",
          "model_name": "LayoutModel",
          "state": {
            "_view_name": "LayoutView",
            "grid_template_rows": null,
            "right": null,
            "justify_content": null,
            "_view_module": "@jupyter-widgets/base",
            "overflow": null,
            "_model_module_version": "1.2.0",
            "_view_count": null,
            "flex_flow": null,
            "width": null,
            "min_width": null,
            "border": null,
            "align_items": null,
            "bottom": null,
            "_model_module": "@jupyter-widgets/base",
            "top": null,
            "grid_column": null,
            "overflow_y": null,
            "overflow_x": null,
            "grid_auto_flow": null,
            "grid_area": null,
            "grid_template_columns": null,
            "flex": null,
            "_model_name": "LayoutModel",
            "justify_items": null,
            "grid_row": null,
            "max_height": null,
            "align_content": null,
            "visibility": null,
            "align_self": null,
            "height": null,
            "min_height": null,
            "padding": null,
            "grid_auto_rows": null,
            "grid_gap": null,
            "max_width": null,
            "order": null,
            "_view_module_version": "1.2.0",
            "grid_template_areas": null,
            "object_position": null,
            "object_fit": null,
            "grid_auto_columns": null,
            "margin": null,
            "display": null,
            "left": null
          }
        },
        "0243912b0f5f45d1afd800d73a261e23": {
          "model_module": "@jupyter-widgets/controls",
          "model_name": "FloatProgressModel",
          "state": {
            "_view_name": "ProgressView",
            "style": "IPY_MODEL_c02a921443be4337a98474e6ff4ca15a",
            "_dom_classes": [],
            "description": "100%",
            "_model_name": "FloatProgressModel",
            "bar_style": "success",
            "max": 50,
            "_view_module": "@jupyter-widgets/controls",
            "_model_module_version": "1.5.0",
            "value": 50,
            "_view_count": null,
            "_view_module_version": "1.5.0",
            "orientation": "horizontal",
            "min": 0,
            "description_tooltip": null,
            "_model_module": "@jupyter-widgets/controls",
            "layout": "IPY_MODEL_60ca0ee32564430ab24b9fd4062eb8ef"
          }
        },
        "d35d0e7aaf6a473596db007df64fb042": {
          "model_module": "@jupyter-widgets/controls",
          "model_name": "HTMLModel",
          "state": {
            "_view_name": "HTMLView",
            "style": "IPY_MODEL_0eebcc628b7f4381ac98d6d89fd40fbc",
            "_dom_classes": [],
            "description": "",
            "_model_name": "HTMLModel",
            "placeholder": "​",
            "_view_module": "@jupyter-widgets/controls",
            "_model_module_version": "1.5.0",
            "value": " 50/50 [15:32&lt;00:00, 18.66s/it]",
            "_view_count": null,
            "_view_module_version": "1.5.0",
            "description_tooltip": null,
            "_model_module": "@jupyter-widgets/controls",
            "layout": "IPY_MODEL_e24e4b0ffcc6466c86e55a25065fefa0"
          }
        },
        "c02a921443be4337a98474e6ff4ca15a": {
          "model_module": "@jupyter-widgets/controls",
          "model_name": "ProgressStyleModel",
          "state": {
            "_view_name": "StyleView",
            "_model_name": "ProgressStyleModel",
            "description_width": "initial",
            "_view_module": "@jupyter-widgets/base",
            "_model_module_version": "1.5.0",
            "_view_count": null,
            "_view_module_version": "1.2.0",
            "bar_color": null,
            "_model_module": "@jupyter-widgets/controls"
          }
        },
        "60ca0ee32564430ab24b9fd4062eb8ef": {
          "model_module": "@jupyter-widgets/base",
          "model_name": "LayoutModel",
          "state": {
            "_view_name": "LayoutView",
            "grid_template_rows": null,
            "right": null,
            "justify_content": null,
            "_view_module": "@jupyter-widgets/base",
            "overflow": null,
            "_model_module_version": "1.2.0",
            "_view_count": null,
            "flex_flow": null,
            "width": null,
            "min_width": null,
            "border": null,
            "align_items": null,
            "bottom": null,
            "_model_module": "@jupyter-widgets/base",
            "top": null,
            "grid_column": null,
            "overflow_y": null,
            "overflow_x": null,
            "grid_auto_flow": null,
            "grid_area": null,
            "grid_template_columns": null,
            "flex": null,
            "_model_name": "LayoutModel",
            "justify_items": null,
            "grid_row": null,
            "max_height": null,
            "align_content": null,
            "visibility": null,
            "align_self": null,
            "height": null,
            "min_height": null,
            "padding": null,
            "grid_auto_rows": null,
            "grid_gap": null,
            "max_width": null,
            "order": null,
            "_view_module_version": "1.2.0",
            "grid_template_areas": null,
            "object_position": null,
            "object_fit": null,
            "grid_auto_columns": null,
            "margin": null,
            "display": null,
            "left": null
          }
        },
        "0eebcc628b7f4381ac98d6d89fd40fbc": {
          "model_module": "@jupyter-widgets/controls",
          "model_name": "DescriptionStyleModel",
          "state": {
            "_view_name": "StyleView",
            "_model_name": "DescriptionStyleModel",
            "description_width": "",
            "_view_module": "@jupyter-widgets/base",
            "_model_module_version": "1.5.0",
            "_view_count": null,
            "_view_module_version": "1.2.0",
            "_model_module": "@jupyter-widgets/controls"
          }
        },
        "e24e4b0ffcc6466c86e55a25065fefa0": {
          "model_module": "@jupyter-widgets/base",
          "model_name": "LayoutModel",
          "state": {
            "_view_name": "LayoutView",
            "grid_template_rows": null,
            "right": null,
            "justify_content": null,
            "_view_module": "@jupyter-widgets/base",
            "overflow": null,
            "_model_module_version": "1.2.0",
            "_view_count": null,
            "flex_flow": null,
            "width": null,
            "min_width": null,
            "border": null,
            "align_items": null,
            "bottom": null,
            "_model_module": "@jupyter-widgets/base",
            "top": null,
            "grid_column": null,
            "overflow_y": null,
            "overflow_x": null,
            "grid_auto_flow": null,
            "grid_area": null,
            "grid_template_columns": null,
            "flex": null,
            "_model_name": "LayoutModel",
            "justify_items": null,
            "grid_row": null,
            "max_height": null,
            "align_content": null,
            "visibility": null,
            "align_self": null,
            "height": null,
            "min_height": null,
            "padding": null,
            "grid_auto_rows": null,
            "grid_gap": null,
            "max_width": null,
            "order": null,
            "_view_module_version": "1.2.0",
            "grid_template_areas": null,
            "object_position": null,
            "object_fit": null,
            "grid_auto_columns": null,
            "margin": null,
            "display": null,
            "left": null
          }
        },
        "22395ff7dbf94e339325ffd617278e9d": {
          "model_module": "@jupyter-widgets/controls",
          "model_name": "HBoxModel",
          "state": {
            "_view_name": "HBoxView",
            "_dom_classes": [],
            "_model_name": "HBoxModel",
            "_view_module": "@jupyter-widgets/controls",
            "_model_module_version": "1.5.0",
            "_view_count": null,
            "_view_module_version": "1.5.0",
            "box_style": "",
            "layout": "IPY_MODEL_38e453e4d9d0498b883da209211a548d",
            "_model_module": "@jupyter-widgets/controls",
            "children": [
              "IPY_MODEL_d00b8b30846e4731af889c41dae353e6",
              "IPY_MODEL_35088d3fbcc14248b739642a4d2f2674"
            ]
          }
        },
        "38e453e4d9d0498b883da209211a548d": {
          "model_module": "@jupyter-widgets/base",
          "model_name": "LayoutModel",
          "state": {
            "_view_name": "LayoutView",
            "grid_template_rows": null,
            "right": null,
            "justify_content": null,
            "_view_module": "@jupyter-widgets/base",
            "overflow": null,
            "_model_module_version": "1.2.0",
            "_view_count": null,
            "flex_flow": null,
            "width": null,
            "min_width": null,
            "border": null,
            "align_items": null,
            "bottom": null,
            "_model_module": "@jupyter-widgets/base",
            "top": null,
            "grid_column": null,
            "overflow_y": null,
            "overflow_x": null,
            "grid_auto_flow": null,
            "grid_area": null,
            "grid_template_columns": null,
            "flex": null,
            "_model_name": "LayoutModel",
            "justify_items": null,
            "grid_row": null,
            "max_height": null,
            "align_content": null,
            "visibility": null,
            "align_self": null,
            "height": null,
            "min_height": null,
            "padding": null,
            "grid_auto_rows": null,
            "grid_gap": null,
            "max_width": null,
            "order": null,
            "_view_module_version": "1.2.0",
            "grid_template_areas": null,
            "object_position": null,
            "object_fit": null,
            "grid_auto_columns": null,
            "margin": null,
            "display": null,
            "left": null
          }
        },
        "d00b8b30846e4731af889c41dae353e6": {
          "model_module": "@jupyter-widgets/controls",
          "model_name": "FloatProgressModel",
          "state": {
            "_view_name": "ProgressView",
            "style": "IPY_MODEL_c7d3331d8df44776952b788fb601fb7c",
            "_dom_classes": [],
            "description": "100%",
            "_model_name": "FloatProgressModel",
            "bar_style": "success",
            "max": 50,
            "_view_module": "@jupyter-widgets/controls",
            "_model_module_version": "1.5.0",
            "value": 50,
            "_view_count": null,
            "_view_module_version": "1.5.0",
            "orientation": "horizontal",
            "min": 0,
            "description_tooltip": null,
            "_model_module": "@jupyter-widgets/controls",
            "layout": "IPY_MODEL_4cc6e7751174460980a3f1af24622ca0"
          }
        },
        "35088d3fbcc14248b739642a4d2f2674": {
          "model_module": "@jupyter-widgets/controls",
          "model_name": "HTMLModel",
          "state": {
            "_view_name": "HTMLView",
            "style": "IPY_MODEL_ac11d596726a41de829074059920811c",
            "_dom_classes": [],
            "description": "",
            "_model_name": "HTMLModel",
            "placeholder": "​",
            "_view_module": "@jupyter-widgets/controls",
            "_model_module_version": "1.5.0",
            "value": " 50/50 [11:12&lt;00:00, 13.45s/it]",
            "_view_count": null,
            "_view_module_version": "1.5.0",
            "description_tooltip": null,
            "_model_module": "@jupyter-widgets/controls",
            "layout": "IPY_MODEL_4ea926160c9f4e80a3cc24cbba47b786"
          }
        },
        "c7d3331d8df44776952b788fb601fb7c": {
          "model_module": "@jupyter-widgets/controls",
          "model_name": "ProgressStyleModel",
          "state": {
            "_view_name": "StyleView",
            "_model_name": "ProgressStyleModel",
            "description_width": "initial",
            "_view_module": "@jupyter-widgets/base",
            "_model_module_version": "1.5.0",
            "_view_count": null,
            "_view_module_version": "1.2.0",
            "bar_color": null,
            "_model_module": "@jupyter-widgets/controls"
          }
        },
        "4cc6e7751174460980a3f1af24622ca0": {
          "model_module": "@jupyter-widgets/base",
          "model_name": "LayoutModel",
          "state": {
            "_view_name": "LayoutView",
            "grid_template_rows": null,
            "right": null,
            "justify_content": null,
            "_view_module": "@jupyter-widgets/base",
            "overflow": null,
            "_model_module_version": "1.2.0",
            "_view_count": null,
            "flex_flow": null,
            "width": null,
            "min_width": null,
            "border": null,
            "align_items": null,
            "bottom": null,
            "_model_module": "@jupyter-widgets/base",
            "top": null,
            "grid_column": null,
            "overflow_y": null,
            "overflow_x": null,
            "grid_auto_flow": null,
            "grid_area": null,
            "grid_template_columns": null,
            "flex": null,
            "_model_name": "LayoutModel",
            "justify_items": null,
            "grid_row": null,
            "max_height": null,
            "align_content": null,
            "visibility": null,
            "align_self": null,
            "height": null,
            "min_height": null,
            "padding": null,
            "grid_auto_rows": null,
            "grid_gap": null,
            "max_width": null,
            "order": null,
            "_view_module_version": "1.2.0",
            "grid_template_areas": null,
            "object_position": null,
            "object_fit": null,
            "grid_auto_columns": null,
            "margin": null,
            "display": null,
            "left": null
          }
        },
        "ac11d596726a41de829074059920811c": {
          "model_module": "@jupyter-widgets/controls",
          "model_name": "DescriptionStyleModel",
          "state": {
            "_view_name": "StyleView",
            "_model_name": "DescriptionStyleModel",
            "description_width": "",
            "_view_module": "@jupyter-widgets/base",
            "_model_module_version": "1.5.0",
            "_view_count": null,
            "_view_module_version": "1.2.0",
            "_model_module": "@jupyter-widgets/controls"
          }
        },
        "4ea926160c9f4e80a3cc24cbba47b786": {
          "model_module": "@jupyter-widgets/base",
          "model_name": "LayoutModel",
          "state": {
            "_view_name": "LayoutView",
            "grid_template_rows": null,
            "right": null,
            "justify_content": null,
            "_view_module": "@jupyter-widgets/base",
            "overflow": null,
            "_model_module_version": "1.2.0",
            "_view_count": null,
            "flex_flow": null,
            "width": null,
            "min_width": null,
            "border": null,
            "align_items": null,
            "bottom": null,
            "_model_module": "@jupyter-widgets/base",
            "top": null,
            "grid_column": null,
            "overflow_y": null,
            "overflow_x": null,
            "grid_auto_flow": null,
            "grid_area": null,
            "grid_template_columns": null,
            "flex": null,
            "_model_name": "LayoutModel",
            "justify_items": null,
            "grid_row": null,
            "max_height": null,
            "align_content": null,
            "visibility": null,
            "align_self": null,
            "height": null,
            "min_height": null,
            "padding": null,
            "grid_auto_rows": null,
            "grid_gap": null,
            "max_width": null,
            "order": null,
            "_view_module_version": "1.2.0",
            "grid_template_areas": null,
            "object_position": null,
            "object_fit": null,
            "grid_auto_columns": null,
            "margin": null,
            "display": null,
            "left": null
          }
        },
        "9696eaf7276c46808ae19bf0248ac17a": {
          "model_module": "@jupyter-widgets/controls",
          "model_name": "HBoxModel",
          "state": {
            "_view_name": "HBoxView",
            "_dom_classes": [],
            "_model_name": "HBoxModel",
            "_view_module": "@jupyter-widgets/controls",
            "_model_module_version": "1.5.0",
            "_view_count": null,
            "_view_module_version": "1.5.0",
            "box_style": "",
            "layout": "IPY_MODEL_3a9cfe9dc2e84b258b9fd9485db0e5d4",
            "_model_module": "@jupyter-widgets/controls",
            "children": [
              "IPY_MODEL_b8dabf629e85473a9dfbd5f873974612",
              "IPY_MODEL_7b35db83901942e5bd9fc43de4383368"
            ]
          }
        },
        "3a9cfe9dc2e84b258b9fd9485db0e5d4": {
          "model_module": "@jupyter-widgets/base",
          "model_name": "LayoutModel",
          "state": {
            "_view_name": "LayoutView",
            "grid_template_rows": null,
            "right": null,
            "justify_content": null,
            "_view_module": "@jupyter-widgets/base",
            "overflow": null,
            "_model_module_version": "1.2.0",
            "_view_count": null,
            "flex_flow": null,
            "width": null,
            "min_width": null,
            "border": null,
            "align_items": null,
            "bottom": null,
            "_model_module": "@jupyter-widgets/base",
            "top": null,
            "grid_column": null,
            "overflow_y": null,
            "overflow_x": null,
            "grid_auto_flow": null,
            "grid_area": null,
            "grid_template_columns": null,
            "flex": null,
            "_model_name": "LayoutModel",
            "justify_items": null,
            "grid_row": null,
            "max_height": null,
            "align_content": null,
            "visibility": null,
            "align_self": null,
            "height": null,
            "min_height": null,
            "padding": null,
            "grid_auto_rows": null,
            "grid_gap": null,
            "max_width": null,
            "order": null,
            "_view_module_version": "1.2.0",
            "grid_template_areas": null,
            "object_position": null,
            "object_fit": null,
            "grid_auto_columns": null,
            "margin": null,
            "display": null,
            "left": null
          }
        },
        "b8dabf629e85473a9dfbd5f873974612": {
          "model_module": "@jupyter-widgets/controls",
          "model_name": "FloatProgressModel",
          "state": {
            "_view_name": "ProgressView",
            "style": "IPY_MODEL_2e5bf11c07cc401a81aa2dbdd3f7e97c",
            "_dom_classes": [],
            "description": "100%",
            "_model_name": "FloatProgressModel",
            "bar_style": "success",
            "max": 50,
            "_view_module": "@jupyter-widgets/controls",
            "_model_module_version": "1.5.0",
            "value": 50,
            "_view_count": null,
            "_view_module_version": "1.5.0",
            "orientation": "horizontal",
            "min": 0,
            "description_tooltip": null,
            "_model_module": "@jupyter-widgets/controls",
            "layout": "IPY_MODEL_a47508f070d8448eb34f8f208994c0ed"
          }
        },
        "7b35db83901942e5bd9fc43de4383368": {
          "model_module": "@jupyter-widgets/controls",
          "model_name": "HTMLModel",
          "state": {
            "_view_name": "HTMLView",
            "style": "IPY_MODEL_8af7698076034fd4a31403cc9d5fed49",
            "_dom_classes": [],
            "description": "",
            "_model_name": "HTMLModel",
            "placeholder": "​",
            "_view_module": "@jupyter-widgets/controls",
            "_model_module_version": "1.5.0",
            "value": " 50/50 [07:21&lt;00:00,  8.83s/it]",
            "_view_count": null,
            "_view_module_version": "1.5.0",
            "description_tooltip": null,
            "_model_module": "@jupyter-widgets/controls",
            "layout": "IPY_MODEL_037643f51d914b6f8e576f88b7f63850"
          }
        },
        "2e5bf11c07cc401a81aa2dbdd3f7e97c": {
          "model_module": "@jupyter-widgets/controls",
          "model_name": "ProgressStyleModel",
          "state": {
            "_view_name": "StyleView",
            "_model_name": "ProgressStyleModel",
            "description_width": "initial",
            "_view_module": "@jupyter-widgets/base",
            "_model_module_version": "1.5.0",
            "_view_count": null,
            "_view_module_version": "1.2.0",
            "bar_color": null,
            "_model_module": "@jupyter-widgets/controls"
          }
        },
        "a47508f070d8448eb34f8f208994c0ed": {
          "model_module": "@jupyter-widgets/base",
          "model_name": "LayoutModel",
          "state": {
            "_view_name": "LayoutView",
            "grid_template_rows": null,
            "right": null,
            "justify_content": null,
            "_view_module": "@jupyter-widgets/base",
            "overflow": null,
            "_model_module_version": "1.2.0",
            "_view_count": null,
            "flex_flow": null,
            "width": null,
            "min_width": null,
            "border": null,
            "align_items": null,
            "bottom": null,
            "_model_module": "@jupyter-widgets/base",
            "top": null,
            "grid_column": null,
            "overflow_y": null,
            "overflow_x": null,
            "grid_auto_flow": null,
            "grid_area": null,
            "grid_template_columns": null,
            "flex": null,
            "_model_name": "LayoutModel",
            "justify_items": null,
            "grid_row": null,
            "max_height": null,
            "align_content": null,
            "visibility": null,
            "align_self": null,
            "height": null,
            "min_height": null,
            "padding": null,
            "grid_auto_rows": null,
            "grid_gap": null,
            "max_width": null,
            "order": null,
            "_view_module_version": "1.2.0",
            "grid_template_areas": null,
            "object_position": null,
            "object_fit": null,
            "grid_auto_columns": null,
            "margin": null,
            "display": null,
            "left": null
          }
        },
        "8af7698076034fd4a31403cc9d5fed49": {
          "model_module": "@jupyter-widgets/controls",
          "model_name": "DescriptionStyleModel",
          "state": {
            "_view_name": "StyleView",
            "_model_name": "DescriptionStyleModel",
            "description_width": "",
            "_view_module": "@jupyter-widgets/base",
            "_model_module_version": "1.5.0",
            "_view_count": null,
            "_view_module_version": "1.2.0",
            "_model_module": "@jupyter-widgets/controls"
          }
        },
        "037643f51d914b6f8e576f88b7f63850": {
          "model_module": "@jupyter-widgets/base",
          "model_name": "LayoutModel",
          "state": {
            "_view_name": "LayoutView",
            "grid_template_rows": null,
            "right": null,
            "justify_content": null,
            "_view_module": "@jupyter-widgets/base",
            "overflow": null,
            "_model_module_version": "1.2.0",
            "_view_count": null,
            "flex_flow": null,
            "width": null,
            "min_width": null,
            "border": null,
            "align_items": null,
            "bottom": null,
            "_model_module": "@jupyter-widgets/base",
            "top": null,
            "grid_column": null,
            "overflow_y": null,
            "overflow_x": null,
            "grid_auto_flow": null,
            "grid_area": null,
            "grid_template_columns": null,
            "flex": null,
            "_model_name": "LayoutModel",
            "justify_items": null,
            "grid_row": null,
            "max_height": null,
            "align_content": null,
            "visibility": null,
            "align_self": null,
            "height": null,
            "min_height": null,
            "padding": null,
            "grid_auto_rows": null,
            "grid_gap": null,
            "max_width": null,
            "order": null,
            "_view_module_version": "1.2.0",
            "grid_template_areas": null,
            "object_position": null,
            "object_fit": null,
            "grid_auto_columns": null,
            "margin": null,
            "display": null,
            "left": null
          }
        },
        "983177e7a18745b49030aedfecc28b67": {
          "model_module": "@jupyter-widgets/controls",
          "model_name": "HBoxModel",
          "state": {
            "_view_name": "HBoxView",
            "_dom_classes": [],
            "_model_name": "HBoxModel",
            "_view_module": "@jupyter-widgets/controls",
            "_model_module_version": "1.5.0",
            "_view_count": null,
            "_view_module_version": "1.5.0",
            "box_style": "",
            "layout": "IPY_MODEL_780384c3954741dabaf9520c508849b4",
            "_model_module": "@jupyter-widgets/controls",
            "children": [
              "IPY_MODEL_152e0fd89b5c4d4fabd9eaf68e260a6c",
              "IPY_MODEL_6f0b2dd6b5364c98a3b11e22b2111b7f"
            ]
          }
        },
        "780384c3954741dabaf9520c508849b4": {
          "model_module": "@jupyter-widgets/base",
          "model_name": "LayoutModel",
          "state": {
            "_view_name": "LayoutView",
            "grid_template_rows": null,
            "right": null,
            "justify_content": null,
            "_view_module": "@jupyter-widgets/base",
            "overflow": null,
            "_model_module_version": "1.2.0",
            "_view_count": null,
            "flex_flow": null,
            "width": null,
            "min_width": null,
            "border": null,
            "align_items": null,
            "bottom": null,
            "_model_module": "@jupyter-widgets/base",
            "top": null,
            "grid_column": null,
            "overflow_y": null,
            "overflow_x": null,
            "grid_auto_flow": null,
            "grid_area": null,
            "grid_template_columns": null,
            "flex": null,
            "_model_name": "LayoutModel",
            "justify_items": null,
            "grid_row": null,
            "max_height": null,
            "align_content": null,
            "visibility": null,
            "align_self": null,
            "height": null,
            "min_height": null,
            "padding": null,
            "grid_auto_rows": null,
            "grid_gap": null,
            "max_width": null,
            "order": null,
            "_view_module_version": "1.2.0",
            "grid_template_areas": null,
            "object_position": null,
            "object_fit": null,
            "grid_auto_columns": null,
            "margin": null,
            "display": null,
            "left": null
          }
        },
        "152e0fd89b5c4d4fabd9eaf68e260a6c": {
          "model_module": "@jupyter-widgets/controls",
          "model_name": "FloatProgressModel",
          "state": {
            "_view_name": "ProgressView",
            "style": "IPY_MODEL_501259e425e243508981db61fa16e3a3",
            "_dom_classes": [],
            "description": "100%",
            "_model_name": "FloatProgressModel",
            "bar_style": "success",
            "max": 50,
            "_view_module": "@jupyter-widgets/controls",
            "_model_module_version": "1.5.0",
            "value": 50,
            "_view_count": null,
            "_view_module_version": "1.5.0",
            "orientation": "horizontal",
            "min": 0,
            "description_tooltip": null,
            "_model_module": "@jupyter-widgets/controls",
            "layout": "IPY_MODEL_6a3212a45eea44048babec790ef0d15b"
          }
        },
        "6f0b2dd6b5364c98a3b11e22b2111b7f": {
          "model_module": "@jupyter-widgets/controls",
          "model_name": "HTMLModel",
          "state": {
            "_view_name": "HTMLView",
            "style": "IPY_MODEL_a4d4eca7a03349fe98215da2b07040de",
            "_dom_classes": [],
            "description": "",
            "_model_name": "HTMLModel",
            "placeholder": "​",
            "_view_module": "@jupyter-widgets/controls",
            "_model_module_version": "1.5.0",
            "value": " 50/50 [03:36&lt;00:00,  4.33s/it]",
            "_view_count": null,
            "_view_module_version": "1.5.0",
            "description_tooltip": null,
            "_model_module": "@jupyter-widgets/controls",
            "layout": "IPY_MODEL_ff6a050db44f4215b36a2970f75bf7f3"
          }
        },
        "501259e425e243508981db61fa16e3a3": {
          "model_module": "@jupyter-widgets/controls",
          "model_name": "ProgressStyleModel",
          "state": {
            "_view_name": "StyleView",
            "_model_name": "ProgressStyleModel",
            "description_width": "initial",
            "_view_module": "@jupyter-widgets/base",
            "_model_module_version": "1.5.0",
            "_view_count": null,
            "_view_module_version": "1.2.0",
            "bar_color": null,
            "_model_module": "@jupyter-widgets/controls"
          }
        },
        "6a3212a45eea44048babec790ef0d15b": {
          "model_module": "@jupyter-widgets/base",
          "model_name": "LayoutModel",
          "state": {
            "_view_name": "LayoutView",
            "grid_template_rows": null,
            "right": null,
            "justify_content": null,
            "_view_module": "@jupyter-widgets/base",
            "overflow": null,
            "_model_module_version": "1.2.0",
            "_view_count": null,
            "flex_flow": null,
            "width": null,
            "min_width": null,
            "border": null,
            "align_items": null,
            "bottom": null,
            "_model_module": "@jupyter-widgets/base",
            "top": null,
            "grid_column": null,
            "overflow_y": null,
            "overflow_x": null,
            "grid_auto_flow": null,
            "grid_area": null,
            "grid_template_columns": null,
            "flex": null,
            "_model_name": "LayoutModel",
            "justify_items": null,
            "grid_row": null,
            "max_height": null,
            "align_content": null,
            "visibility": null,
            "align_self": null,
            "height": null,
            "min_height": null,
            "padding": null,
            "grid_auto_rows": null,
            "grid_gap": null,
            "max_width": null,
            "order": null,
            "_view_module_version": "1.2.0",
            "grid_template_areas": null,
            "object_position": null,
            "object_fit": null,
            "grid_auto_columns": null,
            "margin": null,
            "display": null,
            "left": null
          }
        },
        "a4d4eca7a03349fe98215da2b07040de": {
          "model_module": "@jupyter-widgets/controls",
          "model_name": "DescriptionStyleModel",
          "state": {
            "_view_name": "StyleView",
            "_model_name": "DescriptionStyleModel",
            "description_width": "",
            "_view_module": "@jupyter-widgets/base",
            "_model_module_version": "1.5.0",
            "_view_count": null,
            "_view_module_version": "1.2.0",
            "_model_module": "@jupyter-widgets/controls"
          }
        },
        "ff6a050db44f4215b36a2970f75bf7f3": {
          "model_module": "@jupyter-widgets/base",
          "model_name": "LayoutModel",
          "state": {
            "_view_name": "LayoutView",
            "grid_template_rows": null,
            "right": null,
            "justify_content": null,
            "_view_module": "@jupyter-widgets/base",
            "overflow": null,
            "_model_module_version": "1.2.0",
            "_view_count": null,
            "flex_flow": null,
            "width": null,
            "min_width": null,
            "border": null,
            "align_items": null,
            "bottom": null,
            "_model_module": "@jupyter-widgets/base",
            "top": null,
            "grid_column": null,
            "overflow_y": null,
            "overflow_x": null,
            "grid_auto_flow": null,
            "grid_area": null,
            "grid_template_columns": null,
            "flex": null,
            "_model_name": "LayoutModel",
            "justify_items": null,
            "grid_row": null,
            "max_height": null,
            "align_content": null,
            "visibility": null,
            "align_self": null,
            "height": null,
            "min_height": null,
            "padding": null,
            "grid_auto_rows": null,
            "grid_gap": null,
            "max_width": null,
            "order": null,
            "_view_module_version": "1.2.0",
            "grid_template_areas": null,
            "object_position": null,
            "object_fit": null,
            "grid_auto_columns": null,
            "margin": null,
            "display": null,
            "left": null
          }
        },
        "23a46b6699454f458aa05b12e6d74883": {
          "model_module": "@jupyter-widgets/controls",
          "model_name": "HBoxModel",
          "state": {
            "_view_name": "HBoxView",
            "_dom_classes": [],
            "_model_name": "HBoxModel",
            "_view_module": "@jupyter-widgets/controls",
            "_model_module_version": "1.5.0",
            "_view_count": null,
            "_view_module_version": "1.5.0",
            "box_style": "",
            "layout": "IPY_MODEL_00b7797b6e814e078305ff0a1af66025",
            "_model_module": "@jupyter-widgets/controls",
            "children": [
              "IPY_MODEL_b814aabf137040778195da3e2601ae12",
              "IPY_MODEL_ad42d6f7dc6f46869eb372683124afae"
            ]
          }
        },
        "00b7797b6e814e078305ff0a1af66025": {
          "model_module": "@jupyter-widgets/base",
          "model_name": "LayoutModel",
          "state": {
            "_view_name": "LayoutView",
            "grid_template_rows": null,
            "right": null,
            "justify_content": null,
            "_view_module": "@jupyter-widgets/base",
            "overflow": null,
            "_model_module_version": "1.2.0",
            "_view_count": null,
            "flex_flow": null,
            "width": null,
            "min_width": null,
            "border": null,
            "align_items": null,
            "bottom": null,
            "_model_module": "@jupyter-widgets/base",
            "top": null,
            "grid_column": null,
            "overflow_y": null,
            "overflow_x": null,
            "grid_auto_flow": null,
            "grid_area": null,
            "grid_template_columns": null,
            "flex": null,
            "_model_name": "LayoutModel",
            "justify_items": null,
            "grid_row": null,
            "max_height": null,
            "align_content": null,
            "visibility": null,
            "align_self": null,
            "height": null,
            "min_height": null,
            "padding": null,
            "grid_auto_rows": null,
            "grid_gap": null,
            "max_width": null,
            "order": null,
            "_view_module_version": "1.2.0",
            "grid_template_areas": null,
            "object_position": null,
            "object_fit": null,
            "grid_auto_columns": null,
            "margin": null,
            "display": null,
            "left": null
          }
        },
        "b814aabf137040778195da3e2601ae12": {
          "model_module": "@jupyter-widgets/controls",
          "model_name": "FloatProgressModel",
          "state": {
            "_view_name": "ProgressView",
            "style": "IPY_MODEL_22115b82afb44e14badfdcaff496f135",
            "_dom_classes": [],
            "description": "100%",
            "_model_name": "FloatProgressModel",
            "bar_style": "success",
            "max": 50,
            "_view_module": "@jupyter-widgets/controls",
            "_model_module_version": "1.5.0",
            "value": 50,
            "_view_count": null,
            "_view_module_version": "1.5.0",
            "orientation": "horizontal",
            "min": 0,
            "description_tooltip": null,
            "_model_module": "@jupyter-widgets/controls",
            "layout": "IPY_MODEL_d9b3c2b0ba3e41d0b0acf843638c088d"
          }
        },
        "ad42d6f7dc6f46869eb372683124afae": {
          "model_module": "@jupyter-widgets/controls",
          "model_name": "HTMLModel",
          "state": {
            "_view_name": "HTMLView",
            "style": "IPY_MODEL_5822b2e8d6124224ae2c227a77f450e5",
            "_dom_classes": [],
            "description": "",
            "_model_name": "HTMLModel",
            "placeholder": "​",
            "_view_module": "@jupyter-widgets/controls",
            "_model_module_version": "1.5.0",
            "value": " 50/50 [23:14&lt;00:00, 27.88s/it]",
            "_view_count": null,
            "_view_module_version": "1.5.0",
            "description_tooltip": null,
            "_model_module": "@jupyter-widgets/controls",
            "layout": "IPY_MODEL_dd152773500e47a382683fff72e391d8"
          }
        },
        "22115b82afb44e14badfdcaff496f135": {
          "model_module": "@jupyter-widgets/controls",
          "model_name": "ProgressStyleModel",
          "state": {
            "_view_name": "StyleView",
            "_model_name": "ProgressStyleModel",
            "description_width": "initial",
            "_view_module": "@jupyter-widgets/base",
            "_model_module_version": "1.5.0",
            "_view_count": null,
            "_view_module_version": "1.2.0",
            "bar_color": null,
            "_model_module": "@jupyter-widgets/controls"
          }
        },
        "d9b3c2b0ba3e41d0b0acf843638c088d": {
          "model_module": "@jupyter-widgets/base",
          "model_name": "LayoutModel",
          "state": {
            "_view_name": "LayoutView",
            "grid_template_rows": null,
            "right": null,
            "justify_content": null,
            "_view_module": "@jupyter-widgets/base",
            "overflow": null,
            "_model_module_version": "1.2.0",
            "_view_count": null,
            "flex_flow": null,
            "width": null,
            "min_width": null,
            "border": null,
            "align_items": null,
            "bottom": null,
            "_model_module": "@jupyter-widgets/base",
            "top": null,
            "grid_column": null,
            "overflow_y": null,
            "overflow_x": null,
            "grid_auto_flow": null,
            "grid_area": null,
            "grid_template_columns": null,
            "flex": null,
            "_model_name": "LayoutModel",
            "justify_items": null,
            "grid_row": null,
            "max_height": null,
            "align_content": null,
            "visibility": null,
            "align_self": null,
            "height": null,
            "min_height": null,
            "padding": null,
            "grid_auto_rows": null,
            "grid_gap": null,
            "max_width": null,
            "order": null,
            "_view_module_version": "1.2.0",
            "grid_template_areas": null,
            "object_position": null,
            "object_fit": null,
            "grid_auto_columns": null,
            "margin": null,
            "display": null,
            "left": null
          }
        },
        "5822b2e8d6124224ae2c227a77f450e5": {
          "model_module": "@jupyter-widgets/controls",
          "model_name": "DescriptionStyleModel",
          "state": {
            "_view_name": "StyleView",
            "_model_name": "DescriptionStyleModel",
            "description_width": "",
            "_view_module": "@jupyter-widgets/base",
            "_model_module_version": "1.5.0",
            "_view_count": null,
            "_view_module_version": "1.2.0",
            "_model_module": "@jupyter-widgets/controls"
          }
        },
        "dd152773500e47a382683fff72e391d8": {
          "model_module": "@jupyter-widgets/base",
          "model_name": "LayoutModel",
          "state": {
            "_view_name": "LayoutView",
            "grid_template_rows": null,
            "right": null,
            "justify_content": null,
            "_view_module": "@jupyter-widgets/base",
            "overflow": null,
            "_model_module_version": "1.2.0",
            "_view_count": null,
            "flex_flow": null,
            "width": null,
            "min_width": null,
            "border": null,
            "align_items": null,
            "bottom": null,
            "_model_module": "@jupyter-widgets/base",
            "top": null,
            "grid_column": null,
            "overflow_y": null,
            "overflow_x": null,
            "grid_auto_flow": null,
            "grid_area": null,
            "grid_template_columns": null,
            "flex": null,
            "_model_name": "LayoutModel",
            "justify_items": null,
            "grid_row": null,
            "max_height": null,
            "align_content": null,
            "visibility": null,
            "align_self": null,
            "height": null,
            "min_height": null,
            "padding": null,
            "grid_auto_rows": null,
            "grid_gap": null,
            "max_width": null,
            "order": null,
            "_view_module_version": "1.2.0",
            "grid_template_areas": null,
            "object_position": null,
            "object_fit": null,
            "grid_auto_columns": null,
            "margin": null,
            "display": null,
            "left": null
          }
        },
        "b5f33e43cfce42a3af6d6c6429cf6af6": {
          "model_module": "@jupyter-widgets/controls",
          "model_name": "HBoxModel",
          "state": {
            "_view_name": "HBoxView",
            "_dom_classes": [],
            "_model_name": "HBoxModel",
            "_view_module": "@jupyter-widgets/controls",
            "_model_module_version": "1.5.0",
            "_view_count": null,
            "_view_module_version": "1.5.0",
            "box_style": "",
            "layout": "IPY_MODEL_e767387a52d343ab93a6366d1d45275c",
            "_model_module": "@jupyter-widgets/controls",
            "children": [
              "IPY_MODEL_16ad2d327227461e979e321a472fd4d2",
              "IPY_MODEL_00de4a13362645f59d89905c98a887a3"
            ]
          }
        },
        "e767387a52d343ab93a6366d1d45275c": {
          "model_module": "@jupyter-widgets/base",
          "model_name": "LayoutModel",
          "state": {
            "_view_name": "LayoutView",
            "grid_template_rows": null,
            "right": null,
            "justify_content": null,
            "_view_module": "@jupyter-widgets/base",
            "overflow": null,
            "_model_module_version": "1.2.0",
            "_view_count": null,
            "flex_flow": null,
            "width": null,
            "min_width": null,
            "border": null,
            "align_items": null,
            "bottom": null,
            "_model_module": "@jupyter-widgets/base",
            "top": null,
            "grid_column": null,
            "overflow_y": null,
            "overflow_x": null,
            "grid_auto_flow": null,
            "grid_area": null,
            "grid_template_columns": null,
            "flex": null,
            "_model_name": "LayoutModel",
            "justify_items": null,
            "grid_row": null,
            "max_height": null,
            "align_content": null,
            "visibility": null,
            "align_self": null,
            "height": null,
            "min_height": null,
            "padding": null,
            "grid_auto_rows": null,
            "grid_gap": null,
            "max_width": null,
            "order": null,
            "_view_module_version": "1.2.0",
            "grid_template_areas": null,
            "object_position": null,
            "object_fit": null,
            "grid_auto_columns": null,
            "margin": null,
            "display": null,
            "left": null
          }
        },
        "16ad2d327227461e979e321a472fd4d2": {
          "model_module": "@jupyter-widgets/controls",
          "model_name": "FloatProgressModel",
          "state": {
            "_view_name": "ProgressView",
            "style": "IPY_MODEL_5de5aa4e95004e0d9480b44141be21ba",
            "_dom_classes": [],
            "description": "100%",
            "_model_name": "FloatProgressModel",
            "bar_style": "success",
            "max": 50,
            "_view_module": "@jupyter-widgets/controls",
            "_model_module_version": "1.5.0",
            "value": 50,
            "_view_count": null,
            "_view_module_version": "1.5.0",
            "orientation": "horizontal",
            "min": 0,
            "description_tooltip": null,
            "_model_module": "@jupyter-widgets/controls",
            "layout": "IPY_MODEL_685cb8a6fb1c4c9ba8fa1ab1d5f31402"
          }
        },
        "00de4a13362645f59d89905c98a887a3": {
          "model_module": "@jupyter-widgets/controls",
          "model_name": "HTMLModel",
          "state": {
            "_view_name": "HTMLView",
            "style": "IPY_MODEL_880cd45d87cb4ccf97bd19d93bd3070e",
            "_dom_classes": [],
            "description": "",
            "_model_name": "HTMLModel",
            "placeholder": "​",
            "_view_module": "@jupyter-widgets/controls",
            "_model_module_version": "1.5.0",
            "value": " 50/50 [05:07&lt;00:00,  6.15s/it]",
            "_view_count": null,
            "_view_module_version": "1.5.0",
            "description_tooltip": null,
            "_model_module": "@jupyter-widgets/controls",
            "layout": "IPY_MODEL_26e25f7647324b08ba8fe7914a322721"
          }
        },
        "5de5aa4e95004e0d9480b44141be21ba": {
          "model_module": "@jupyter-widgets/controls",
          "model_name": "ProgressStyleModel",
          "state": {
            "_view_name": "StyleView",
            "_model_name": "ProgressStyleModel",
            "description_width": "initial",
            "_view_module": "@jupyter-widgets/base",
            "_model_module_version": "1.5.0",
            "_view_count": null,
            "_view_module_version": "1.2.0",
            "bar_color": null,
            "_model_module": "@jupyter-widgets/controls"
          }
        },
        "685cb8a6fb1c4c9ba8fa1ab1d5f31402": {
          "model_module": "@jupyter-widgets/base",
          "model_name": "LayoutModel",
          "state": {
            "_view_name": "LayoutView",
            "grid_template_rows": null,
            "right": null,
            "justify_content": null,
            "_view_module": "@jupyter-widgets/base",
            "overflow": null,
            "_model_module_version": "1.2.0",
            "_view_count": null,
            "flex_flow": null,
            "width": null,
            "min_width": null,
            "border": null,
            "align_items": null,
            "bottom": null,
            "_model_module": "@jupyter-widgets/base",
            "top": null,
            "grid_column": null,
            "overflow_y": null,
            "overflow_x": null,
            "grid_auto_flow": null,
            "grid_area": null,
            "grid_template_columns": null,
            "flex": null,
            "_model_name": "LayoutModel",
            "justify_items": null,
            "grid_row": null,
            "max_height": null,
            "align_content": null,
            "visibility": null,
            "align_self": null,
            "height": null,
            "min_height": null,
            "padding": null,
            "grid_auto_rows": null,
            "grid_gap": null,
            "max_width": null,
            "order": null,
            "_view_module_version": "1.2.0",
            "grid_template_areas": null,
            "object_position": null,
            "object_fit": null,
            "grid_auto_columns": null,
            "margin": null,
            "display": null,
            "left": null
          }
        },
        "880cd45d87cb4ccf97bd19d93bd3070e": {
          "model_module": "@jupyter-widgets/controls",
          "model_name": "DescriptionStyleModel",
          "state": {
            "_view_name": "StyleView",
            "_model_name": "DescriptionStyleModel",
            "description_width": "",
            "_view_module": "@jupyter-widgets/base",
            "_model_module_version": "1.5.0",
            "_view_count": null,
            "_view_module_version": "1.2.0",
            "_model_module": "@jupyter-widgets/controls"
          }
        },
        "26e25f7647324b08ba8fe7914a322721": {
          "model_module": "@jupyter-widgets/base",
          "model_name": "LayoutModel",
          "state": {
            "_view_name": "LayoutView",
            "grid_template_rows": null,
            "right": null,
            "justify_content": null,
            "_view_module": "@jupyter-widgets/base",
            "overflow": null,
            "_model_module_version": "1.2.0",
            "_view_count": null,
            "flex_flow": null,
            "width": null,
            "min_width": null,
            "border": null,
            "align_items": null,
            "bottom": null,
            "_model_module": "@jupyter-widgets/base",
            "top": null,
            "grid_column": null,
            "overflow_y": null,
            "overflow_x": null,
            "grid_auto_flow": null,
            "grid_area": null,
            "grid_template_columns": null,
            "flex": null,
            "_model_name": "LayoutModel",
            "justify_items": null,
            "grid_row": null,
            "max_height": null,
            "align_content": null,
            "visibility": null,
            "align_self": null,
            "height": null,
            "min_height": null,
            "padding": null,
            "grid_auto_rows": null,
            "grid_gap": null,
            "max_width": null,
            "order": null,
            "_view_module_version": "1.2.0",
            "grid_template_areas": null,
            "object_position": null,
            "object_fit": null,
            "grid_auto_columns": null,
            "margin": null,
            "display": null,
            "left": null
          }
        },
        "bf132de6f05740d3a8b13f072abcbd02": {
          "model_module": "@jupyter-widgets/controls",
          "model_name": "HBoxModel",
          "state": {
            "_view_name": "HBoxView",
            "_dom_classes": [],
            "_model_name": "HBoxModel",
            "_view_module": "@jupyter-widgets/controls",
            "_model_module_version": "1.5.0",
            "_view_count": null,
            "_view_module_version": "1.5.0",
            "box_style": "",
            "layout": "IPY_MODEL_72bfcff1f877479ea6f2c5f4a14bdccb",
            "_model_module": "@jupyter-widgets/controls",
            "children": [
              "IPY_MODEL_c96bc509e93f467b899f72fa9a6cc711",
              "IPY_MODEL_12af2731e92b4db5a466d81cb4970dbc"
            ]
          }
        },
        "72bfcff1f877479ea6f2c5f4a14bdccb": {
          "model_module": "@jupyter-widgets/base",
          "model_name": "LayoutModel",
          "state": {
            "_view_name": "LayoutView",
            "grid_template_rows": null,
            "right": null,
            "justify_content": null,
            "_view_module": "@jupyter-widgets/base",
            "overflow": null,
            "_model_module_version": "1.2.0",
            "_view_count": null,
            "flex_flow": null,
            "width": null,
            "min_width": null,
            "border": null,
            "align_items": null,
            "bottom": null,
            "_model_module": "@jupyter-widgets/base",
            "top": null,
            "grid_column": null,
            "overflow_y": null,
            "overflow_x": null,
            "grid_auto_flow": null,
            "grid_area": null,
            "grid_template_columns": null,
            "flex": null,
            "_model_name": "LayoutModel",
            "justify_items": null,
            "grid_row": null,
            "max_height": null,
            "align_content": null,
            "visibility": null,
            "align_self": null,
            "height": null,
            "min_height": null,
            "padding": null,
            "grid_auto_rows": null,
            "grid_gap": null,
            "max_width": null,
            "order": null,
            "_view_module_version": "1.2.0",
            "grid_template_areas": null,
            "object_position": null,
            "object_fit": null,
            "grid_auto_columns": null,
            "margin": null,
            "display": null,
            "left": null
          }
        },
        "c96bc509e93f467b899f72fa9a6cc711": {
          "model_module": "@jupyter-widgets/controls",
          "model_name": "FloatProgressModel",
          "state": {
            "_view_name": "ProgressView",
            "style": "IPY_MODEL_c014d94a4fb04ba4b36cc634c1ac2c1e",
            "_dom_classes": [],
            "description": "100%",
            "_model_name": "FloatProgressModel",
            "bar_style": "success",
            "max": 50,
            "_view_module": "@jupyter-widgets/controls",
            "_model_module_version": "1.5.0",
            "value": 50,
            "_view_count": null,
            "_view_module_version": "1.5.0",
            "orientation": "horizontal",
            "min": 0,
            "description_tooltip": null,
            "_model_module": "@jupyter-widgets/controls",
            "layout": "IPY_MODEL_ee480187786143769e567ddd1c1fb2c0"
          }
        },
        "12af2731e92b4db5a466d81cb4970dbc": {
          "model_module": "@jupyter-widgets/controls",
          "model_name": "HTMLModel",
          "state": {
            "_view_name": "HTMLView",
            "style": "IPY_MODEL_7e0696ea21334b5b94103573b3c31626",
            "_dom_classes": [],
            "description": "",
            "_model_name": "HTMLModel",
            "placeholder": "​",
            "_view_module": "@jupyter-widgets/controls",
            "_model_module_version": "1.5.0",
            "value": " 50/50 [15:33&lt;00:00, 18.66s/it]",
            "_view_count": null,
            "_view_module_version": "1.5.0",
            "description_tooltip": null,
            "_model_module": "@jupyter-widgets/controls",
            "layout": "IPY_MODEL_e060f781417944488fc60197c538cd14"
          }
        },
        "c014d94a4fb04ba4b36cc634c1ac2c1e": {
          "model_module": "@jupyter-widgets/controls",
          "model_name": "ProgressStyleModel",
          "state": {
            "_view_name": "StyleView",
            "_model_name": "ProgressStyleModel",
            "description_width": "initial",
            "_view_module": "@jupyter-widgets/base",
            "_model_module_version": "1.5.0",
            "_view_count": null,
            "_view_module_version": "1.2.0",
            "bar_color": null,
            "_model_module": "@jupyter-widgets/controls"
          }
        },
        "ee480187786143769e567ddd1c1fb2c0": {
          "model_module": "@jupyter-widgets/base",
          "model_name": "LayoutModel",
          "state": {
            "_view_name": "LayoutView",
            "grid_template_rows": null,
            "right": null,
            "justify_content": null,
            "_view_module": "@jupyter-widgets/base",
            "overflow": null,
            "_model_module_version": "1.2.0",
            "_view_count": null,
            "flex_flow": null,
            "width": null,
            "min_width": null,
            "border": null,
            "align_items": null,
            "bottom": null,
            "_model_module": "@jupyter-widgets/base",
            "top": null,
            "grid_column": null,
            "overflow_y": null,
            "overflow_x": null,
            "grid_auto_flow": null,
            "grid_area": null,
            "grid_template_columns": null,
            "flex": null,
            "_model_name": "LayoutModel",
            "justify_items": null,
            "grid_row": null,
            "max_height": null,
            "align_content": null,
            "visibility": null,
            "align_self": null,
            "height": null,
            "min_height": null,
            "padding": null,
            "grid_auto_rows": null,
            "grid_gap": null,
            "max_width": null,
            "order": null,
            "_view_module_version": "1.2.0",
            "grid_template_areas": null,
            "object_position": null,
            "object_fit": null,
            "grid_auto_columns": null,
            "margin": null,
            "display": null,
            "left": null
          }
        },
        "7e0696ea21334b5b94103573b3c31626": {
          "model_module": "@jupyter-widgets/controls",
          "model_name": "DescriptionStyleModel",
          "state": {
            "_view_name": "StyleView",
            "_model_name": "DescriptionStyleModel",
            "description_width": "",
            "_view_module": "@jupyter-widgets/base",
            "_model_module_version": "1.5.0",
            "_view_count": null,
            "_view_module_version": "1.2.0",
            "_model_module": "@jupyter-widgets/controls"
          }
        },
        "e060f781417944488fc60197c538cd14": {
          "model_module": "@jupyter-widgets/base",
          "model_name": "LayoutModel",
          "state": {
            "_view_name": "LayoutView",
            "grid_template_rows": null,
            "right": null,
            "justify_content": null,
            "_view_module": "@jupyter-widgets/base",
            "overflow": null,
            "_model_module_version": "1.2.0",
            "_view_count": null,
            "flex_flow": null,
            "width": null,
            "min_width": null,
            "border": null,
            "align_items": null,
            "bottom": null,
            "_model_module": "@jupyter-widgets/base",
            "top": null,
            "grid_column": null,
            "overflow_y": null,
            "overflow_x": null,
            "grid_auto_flow": null,
            "grid_area": null,
            "grid_template_columns": null,
            "flex": null,
            "_model_name": "LayoutModel",
            "justify_items": null,
            "grid_row": null,
            "max_height": null,
            "align_content": null,
            "visibility": null,
            "align_self": null,
            "height": null,
            "min_height": null,
            "padding": null,
            "grid_auto_rows": null,
            "grid_gap": null,
            "max_width": null,
            "order": null,
            "_view_module_version": "1.2.0",
            "grid_template_areas": null,
            "object_position": null,
            "object_fit": null,
            "grid_auto_columns": null,
            "margin": null,
            "display": null,
            "left": null
          }
        },
        "4843407055e94b7fbb2c3729185fb01f": {
          "model_module": "@jupyter-widgets/controls",
          "model_name": "HBoxModel",
          "state": {
            "_view_name": "HBoxView",
            "_dom_classes": [],
            "_model_name": "HBoxModel",
            "_view_module": "@jupyter-widgets/controls",
            "_model_module_version": "1.5.0",
            "_view_count": null,
            "_view_module_version": "1.5.0",
            "box_style": "",
            "layout": "IPY_MODEL_54a72637d7dc479abb406fba93bba508",
            "_model_module": "@jupyter-widgets/controls",
            "children": [
              "IPY_MODEL_cb90d4bcf8e445608b78fcd6a988b44d",
              "IPY_MODEL_4c916dbc755c48bb842a0576e42e669f"
            ]
          }
        },
        "54a72637d7dc479abb406fba93bba508": {
          "model_module": "@jupyter-widgets/base",
          "model_name": "LayoutModel",
          "state": {
            "_view_name": "LayoutView",
            "grid_template_rows": null,
            "right": null,
            "justify_content": null,
            "_view_module": "@jupyter-widgets/base",
            "overflow": null,
            "_model_module_version": "1.2.0",
            "_view_count": null,
            "flex_flow": null,
            "width": null,
            "min_width": null,
            "border": null,
            "align_items": null,
            "bottom": null,
            "_model_module": "@jupyter-widgets/base",
            "top": null,
            "grid_column": null,
            "overflow_y": null,
            "overflow_x": null,
            "grid_auto_flow": null,
            "grid_area": null,
            "grid_template_columns": null,
            "flex": null,
            "_model_name": "LayoutModel",
            "justify_items": null,
            "grid_row": null,
            "max_height": null,
            "align_content": null,
            "visibility": null,
            "align_self": null,
            "height": null,
            "min_height": null,
            "padding": null,
            "grid_auto_rows": null,
            "grid_gap": null,
            "max_width": null,
            "order": null,
            "_view_module_version": "1.2.0",
            "grid_template_areas": null,
            "object_position": null,
            "object_fit": null,
            "grid_auto_columns": null,
            "margin": null,
            "display": null,
            "left": null
          }
        },
        "cb90d4bcf8e445608b78fcd6a988b44d": {
          "model_module": "@jupyter-widgets/controls",
          "model_name": "FloatProgressModel",
          "state": {
            "_view_name": "ProgressView",
            "style": "IPY_MODEL_8333adfe82ae458c97bfa6abe0518c77",
            "_dom_classes": [],
            "description": "100%",
            "_model_name": "FloatProgressModel",
            "bar_style": "success",
            "max": 50,
            "_view_module": "@jupyter-widgets/controls",
            "_model_module_version": "1.5.0",
            "value": 50,
            "_view_count": null,
            "_view_module_version": "1.5.0",
            "orientation": "horizontal",
            "min": 0,
            "description_tooltip": null,
            "_model_module": "@jupyter-widgets/controls",
            "layout": "IPY_MODEL_368b8e46b0f64148aeb30439b19e807b"
          }
        },
        "4c916dbc755c48bb842a0576e42e669f": {
          "model_module": "@jupyter-widgets/controls",
          "model_name": "HTMLModel",
          "state": {
            "_view_name": "HTMLView",
            "style": "IPY_MODEL_557a7fe1a01143da884946fd3257c62d",
            "_dom_classes": [],
            "description": "",
            "_model_name": "HTMLModel",
            "placeholder": "​",
            "_view_module": "@jupyter-widgets/controls",
            "_model_module_version": "1.5.0",
            "value": " 50/50 [11:41&lt;00:00, 14.03s/it]",
            "_view_count": null,
            "_view_module_version": "1.5.0",
            "description_tooltip": null,
            "_model_module": "@jupyter-widgets/controls",
            "layout": "IPY_MODEL_0e5ba5a9f97d48b9bf71726c092ceb96"
          }
        },
        "8333adfe82ae458c97bfa6abe0518c77": {
          "model_module": "@jupyter-widgets/controls",
          "model_name": "ProgressStyleModel",
          "state": {
            "_view_name": "StyleView",
            "_model_name": "ProgressStyleModel",
            "description_width": "initial",
            "_view_module": "@jupyter-widgets/base",
            "_model_module_version": "1.5.0",
            "_view_count": null,
            "_view_module_version": "1.2.0",
            "bar_color": null,
            "_model_module": "@jupyter-widgets/controls"
          }
        },
        "368b8e46b0f64148aeb30439b19e807b": {
          "model_module": "@jupyter-widgets/base",
          "model_name": "LayoutModel",
          "state": {
            "_view_name": "LayoutView",
            "grid_template_rows": null,
            "right": null,
            "justify_content": null,
            "_view_module": "@jupyter-widgets/base",
            "overflow": null,
            "_model_module_version": "1.2.0",
            "_view_count": null,
            "flex_flow": null,
            "width": null,
            "min_width": null,
            "border": null,
            "align_items": null,
            "bottom": null,
            "_model_module": "@jupyter-widgets/base",
            "top": null,
            "grid_column": null,
            "overflow_y": null,
            "overflow_x": null,
            "grid_auto_flow": null,
            "grid_area": null,
            "grid_template_columns": null,
            "flex": null,
            "_model_name": "LayoutModel",
            "justify_items": null,
            "grid_row": null,
            "max_height": null,
            "align_content": null,
            "visibility": null,
            "align_self": null,
            "height": null,
            "min_height": null,
            "padding": null,
            "grid_auto_rows": null,
            "grid_gap": null,
            "max_width": null,
            "order": null,
            "_view_module_version": "1.2.0",
            "grid_template_areas": null,
            "object_position": null,
            "object_fit": null,
            "grid_auto_columns": null,
            "margin": null,
            "display": null,
            "left": null
          }
        },
        "557a7fe1a01143da884946fd3257c62d": {
          "model_module": "@jupyter-widgets/controls",
          "model_name": "DescriptionStyleModel",
          "state": {
            "_view_name": "StyleView",
            "_model_name": "DescriptionStyleModel",
            "description_width": "",
            "_view_module": "@jupyter-widgets/base",
            "_model_module_version": "1.5.0",
            "_view_count": null,
            "_view_module_version": "1.2.0",
            "_model_module": "@jupyter-widgets/controls"
          }
        },
        "0e5ba5a9f97d48b9bf71726c092ceb96": {
          "model_module": "@jupyter-widgets/base",
          "model_name": "LayoutModel",
          "state": {
            "_view_name": "LayoutView",
            "grid_template_rows": null,
            "right": null,
            "justify_content": null,
            "_view_module": "@jupyter-widgets/base",
            "overflow": null,
            "_model_module_version": "1.2.0",
            "_view_count": null,
            "flex_flow": null,
            "width": null,
            "min_width": null,
            "border": null,
            "align_items": null,
            "bottom": null,
            "_model_module": "@jupyter-widgets/base",
            "top": null,
            "grid_column": null,
            "overflow_y": null,
            "overflow_x": null,
            "grid_auto_flow": null,
            "grid_area": null,
            "grid_template_columns": null,
            "flex": null,
            "_model_name": "LayoutModel",
            "justify_items": null,
            "grid_row": null,
            "max_height": null,
            "align_content": null,
            "visibility": null,
            "align_self": null,
            "height": null,
            "min_height": null,
            "padding": null,
            "grid_auto_rows": null,
            "grid_gap": null,
            "max_width": null,
            "order": null,
            "_view_module_version": "1.2.0",
            "grid_template_areas": null,
            "object_position": null,
            "object_fit": null,
            "grid_auto_columns": null,
            "margin": null,
            "display": null,
            "left": null
          }
        },
        "45702bc9641449eeb6524d4f0b5f3556": {
          "model_module": "@jupyter-widgets/controls",
          "model_name": "HBoxModel",
          "state": {
            "_view_name": "HBoxView",
            "_dom_classes": [],
            "_model_name": "HBoxModel",
            "_view_module": "@jupyter-widgets/controls",
            "_model_module_version": "1.5.0",
            "_view_count": null,
            "_view_module_version": "1.5.0",
            "box_style": "",
            "layout": "IPY_MODEL_5def5f896a8b441495701b9c0353b462",
            "_model_module": "@jupyter-widgets/controls",
            "children": [
              "IPY_MODEL_524ec6f0858e40d1b107fefddf6a54b3",
              "IPY_MODEL_970792deefa649439ddb8c24475bd0dd"
            ]
          }
        },
        "5def5f896a8b441495701b9c0353b462": {
          "model_module": "@jupyter-widgets/base",
          "model_name": "LayoutModel",
          "state": {
            "_view_name": "LayoutView",
            "grid_template_rows": null,
            "right": null,
            "justify_content": null,
            "_view_module": "@jupyter-widgets/base",
            "overflow": null,
            "_model_module_version": "1.2.0",
            "_view_count": null,
            "flex_flow": null,
            "width": null,
            "min_width": null,
            "border": null,
            "align_items": null,
            "bottom": null,
            "_model_module": "@jupyter-widgets/base",
            "top": null,
            "grid_column": null,
            "overflow_y": null,
            "overflow_x": null,
            "grid_auto_flow": null,
            "grid_area": null,
            "grid_template_columns": null,
            "flex": null,
            "_model_name": "LayoutModel",
            "justify_items": null,
            "grid_row": null,
            "max_height": null,
            "align_content": null,
            "visibility": null,
            "align_self": null,
            "height": null,
            "min_height": null,
            "padding": null,
            "grid_auto_rows": null,
            "grid_gap": null,
            "max_width": null,
            "order": null,
            "_view_module_version": "1.2.0",
            "grid_template_areas": null,
            "object_position": null,
            "object_fit": null,
            "grid_auto_columns": null,
            "margin": null,
            "display": null,
            "left": null
          }
        },
        "524ec6f0858e40d1b107fefddf6a54b3": {
          "model_module": "@jupyter-widgets/controls",
          "model_name": "FloatProgressModel",
          "state": {
            "_view_name": "ProgressView",
            "style": "IPY_MODEL_e4688a0460d144a881938a805b74dc7f",
            "_dom_classes": [],
            "description": "100%",
            "_model_name": "FloatProgressModel",
            "bar_style": "success",
            "max": 50,
            "_view_module": "@jupyter-widgets/controls",
            "_model_module_version": "1.5.0",
            "value": 50,
            "_view_count": null,
            "_view_module_version": "1.5.0",
            "orientation": "horizontal",
            "min": 0,
            "description_tooltip": null,
            "_model_module": "@jupyter-widgets/controls",
            "layout": "IPY_MODEL_e8f830abba484c1c85d2f55c2d5ff802"
          }
        },
        "970792deefa649439ddb8c24475bd0dd": {
          "model_module": "@jupyter-widgets/controls",
          "model_name": "HTMLModel",
          "state": {
            "_view_name": "HTMLView",
            "style": "IPY_MODEL_dfca66e93f6447ff95e30c1c3698c6be",
            "_dom_classes": [],
            "description": "",
            "_model_name": "HTMLModel",
            "placeholder": "​",
            "_view_module": "@jupyter-widgets/controls",
            "_model_module_version": "1.5.0",
            "value": " 50/50 [07:50&lt;00:00,  9.40s/it]",
            "_view_count": null,
            "_view_module_version": "1.5.0",
            "description_tooltip": null,
            "_model_module": "@jupyter-widgets/controls",
            "layout": "IPY_MODEL_adc6f7f8ffa54771adcfe6c7bcb9517d"
          }
        },
        "e4688a0460d144a881938a805b74dc7f": {
          "model_module": "@jupyter-widgets/controls",
          "model_name": "ProgressStyleModel",
          "state": {
            "_view_name": "StyleView",
            "_model_name": "ProgressStyleModel",
            "description_width": "initial",
            "_view_module": "@jupyter-widgets/base",
            "_model_module_version": "1.5.0",
            "_view_count": null,
            "_view_module_version": "1.2.0",
            "bar_color": null,
            "_model_module": "@jupyter-widgets/controls"
          }
        },
        "e8f830abba484c1c85d2f55c2d5ff802": {
          "model_module": "@jupyter-widgets/base",
          "model_name": "LayoutModel",
          "state": {
            "_view_name": "LayoutView",
            "grid_template_rows": null,
            "right": null,
            "justify_content": null,
            "_view_module": "@jupyter-widgets/base",
            "overflow": null,
            "_model_module_version": "1.2.0",
            "_view_count": null,
            "flex_flow": null,
            "width": null,
            "min_width": null,
            "border": null,
            "align_items": null,
            "bottom": null,
            "_model_module": "@jupyter-widgets/base",
            "top": null,
            "grid_column": null,
            "overflow_y": null,
            "overflow_x": null,
            "grid_auto_flow": null,
            "grid_area": null,
            "grid_template_columns": null,
            "flex": null,
            "_model_name": "LayoutModel",
            "justify_items": null,
            "grid_row": null,
            "max_height": null,
            "align_content": null,
            "visibility": null,
            "align_self": null,
            "height": null,
            "min_height": null,
            "padding": null,
            "grid_auto_rows": null,
            "grid_gap": null,
            "max_width": null,
            "order": null,
            "_view_module_version": "1.2.0",
            "grid_template_areas": null,
            "object_position": null,
            "object_fit": null,
            "grid_auto_columns": null,
            "margin": null,
            "display": null,
            "left": null
          }
        },
        "dfca66e93f6447ff95e30c1c3698c6be": {
          "model_module": "@jupyter-widgets/controls",
          "model_name": "DescriptionStyleModel",
          "state": {
            "_view_name": "StyleView",
            "_model_name": "DescriptionStyleModel",
            "description_width": "",
            "_view_module": "@jupyter-widgets/base",
            "_model_module_version": "1.5.0",
            "_view_count": null,
            "_view_module_version": "1.2.0",
            "_model_module": "@jupyter-widgets/controls"
          }
        },
        "adc6f7f8ffa54771adcfe6c7bcb9517d": {
          "model_module": "@jupyter-widgets/base",
          "model_name": "LayoutModel",
          "state": {
            "_view_name": "LayoutView",
            "grid_template_rows": null,
            "right": null,
            "justify_content": null,
            "_view_module": "@jupyter-widgets/base",
            "overflow": null,
            "_model_module_version": "1.2.0",
            "_view_count": null,
            "flex_flow": null,
            "width": null,
            "min_width": null,
            "border": null,
            "align_items": null,
            "bottom": null,
            "_model_module": "@jupyter-widgets/base",
            "top": null,
            "grid_column": null,
            "overflow_y": null,
            "overflow_x": null,
            "grid_auto_flow": null,
            "grid_area": null,
            "grid_template_columns": null,
            "flex": null,
            "_model_name": "LayoutModel",
            "justify_items": null,
            "grid_row": null,
            "max_height": null,
            "align_content": null,
            "visibility": null,
            "align_self": null,
            "height": null,
            "min_height": null,
            "padding": null,
            "grid_auto_rows": null,
            "grid_gap": null,
            "max_width": null,
            "order": null,
            "_view_module_version": "1.2.0",
            "grid_template_areas": null,
            "object_position": null,
            "object_fit": null,
            "grid_auto_columns": null,
            "margin": null,
            "display": null,
            "left": null
          }
        },
        "73113de5c83446f980fe6fe3e4d0886c": {
          "model_module": "@jupyter-widgets/controls",
          "model_name": "HBoxModel",
          "state": {
            "_view_name": "HBoxView",
            "_dom_classes": [],
            "_model_name": "HBoxModel",
            "_view_module": "@jupyter-widgets/controls",
            "_model_module_version": "1.5.0",
            "_view_count": null,
            "_view_module_version": "1.5.0",
            "box_style": "",
            "layout": "IPY_MODEL_f8cebabad2c1474c95ece110b71c5136",
            "_model_module": "@jupyter-widgets/controls",
            "children": [
              "IPY_MODEL_eb47e91fa3714a3182a209b2befc18e6",
              "IPY_MODEL_3ecd36cf8f52432db7c4928f362ef170"
            ]
          }
        },
        "f8cebabad2c1474c95ece110b71c5136": {
          "model_module": "@jupyter-widgets/base",
          "model_name": "LayoutModel",
          "state": {
            "_view_name": "LayoutView",
            "grid_template_rows": null,
            "right": null,
            "justify_content": null,
            "_view_module": "@jupyter-widgets/base",
            "overflow": null,
            "_model_module_version": "1.2.0",
            "_view_count": null,
            "flex_flow": null,
            "width": null,
            "min_width": null,
            "border": null,
            "align_items": null,
            "bottom": null,
            "_model_module": "@jupyter-widgets/base",
            "top": null,
            "grid_column": null,
            "overflow_y": null,
            "overflow_x": null,
            "grid_auto_flow": null,
            "grid_area": null,
            "grid_template_columns": null,
            "flex": null,
            "_model_name": "LayoutModel",
            "justify_items": null,
            "grid_row": null,
            "max_height": null,
            "align_content": null,
            "visibility": null,
            "align_self": null,
            "height": null,
            "min_height": null,
            "padding": null,
            "grid_auto_rows": null,
            "grid_gap": null,
            "max_width": null,
            "order": null,
            "_view_module_version": "1.2.0",
            "grid_template_areas": null,
            "object_position": null,
            "object_fit": null,
            "grid_auto_columns": null,
            "margin": null,
            "display": null,
            "left": null
          }
        },
        "eb47e91fa3714a3182a209b2befc18e6": {
          "model_module": "@jupyter-widgets/controls",
          "model_name": "FloatProgressModel",
          "state": {
            "_view_name": "ProgressView",
            "style": "IPY_MODEL_587cf5d28bad4042a8e9a313e291e0de",
            "_dom_classes": [],
            "description": "100%",
            "_model_name": "FloatProgressModel",
            "bar_style": "success",
            "max": 50,
            "_view_module": "@jupyter-widgets/controls",
            "_model_module_version": "1.5.0",
            "value": 50,
            "_view_count": null,
            "_view_module_version": "1.5.0",
            "orientation": "horizontal",
            "min": 0,
            "description_tooltip": null,
            "_model_module": "@jupyter-widgets/controls",
            "layout": "IPY_MODEL_c4b367d5930d42bb98d3cd118ef8f9d0"
          }
        },
        "3ecd36cf8f52432db7c4928f362ef170": {
          "model_module": "@jupyter-widgets/controls",
          "model_name": "HTMLModel",
          "state": {
            "_view_name": "HTMLView",
            "style": "IPY_MODEL_8a1f8d74b14f4483bc3281f1f4cdf627",
            "_dom_classes": [],
            "description": "",
            "_model_name": "HTMLModel",
            "placeholder": "​",
            "_view_module": "@jupyter-widgets/controls",
            "_model_module_version": "1.5.0",
            "value": " 50/50 [04:35&lt;00:00,  5.51s/it]",
            "_view_count": null,
            "_view_module_version": "1.5.0",
            "description_tooltip": null,
            "_model_module": "@jupyter-widgets/controls",
            "layout": "IPY_MODEL_5e15d11fc75742da94a30fb186a6d85c"
          }
        },
        "587cf5d28bad4042a8e9a313e291e0de": {
          "model_module": "@jupyter-widgets/controls",
          "model_name": "ProgressStyleModel",
          "state": {
            "_view_name": "StyleView",
            "_model_name": "ProgressStyleModel",
            "description_width": "initial",
            "_view_module": "@jupyter-widgets/base",
            "_model_module_version": "1.5.0",
            "_view_count": null,
            "_view_module_version": "1.2.0",
            "bar_color": null,
            "_model_module": "@jupyter-widgets/controls"
          }
        },
        "c4b367d5930d42bb98d3cd118ef8f9d0": {
          "model_module": "@jupyter-widgets/base",
          "model_name": "LayoutModel",
          "state": {
            "_view_name": "LayoutView",
            "grid_template_rows": null,
            "right": null,
            "justify_content": null,
            "_view_module": "@jupyter-widgets/base",
            "overflow": null,
            "_model_module_version": "1.2.0",
            "_view_count": null,
            "flex_flow": null,
            "width": null,
            "min_width": null,
            "border": null,
            "align_items": null,
            "bottom": null,
            "_model_module": "@jupyter-widgets/base",
            "top": null,
            "grid_column": null,
            "overflow_y": null,
            "overflow_x": null,
            "grid_auto_flow": null,
            "grid_area": null,
            "grid_template_columns": null,
            "flex": null,
            "_model_name": "LayoutModel",
            "justify_items": null,
            "grid_row": null,
            "max_height": null,
            "align_content": null,
            "visibility": null,
            "align_self": null,
            "height": null,
            "min_height": null,
            "padding": null,
            "grid_auto_rows": null,
            "grid_gap": null,
            "max_width": null,
            "order": null,
            "_view_module_version": "1.2.0",
            "grid_template_areas": null,
            "object_position": null,
            "object_fit": null,
            "grid_auto_columns": null,
            "margin": null,
            "display": null,
            "left": null
          }
        },
        "8a1f8d74b14f4483bc3281f1f4cdf627": {
          "model_module": "@jupyter-widgets/controls",
          "model_name": "DescriptionStyleModel",
          "state": {
            "_view_name": "StyleView",
            "_model_name": "DescriptionStyleModel",
            "description_width": "",
            "_view_module": "@jupyter-widgets/base",
            "_model_module_version": "1.5.0",
            "_view_count": null,
            "_view_module_version": "1.2.0",
            "_model_module": "@jupyter-widgets/controls"
          }
        },
        "5e15d11fc75742da94a30fb186a6d85c": {
          "model_module": "@jupyter-widgets/base",
          "model_name": "LayoutModel",
          "state": {
            "_view_name": "LayoutView",
            "grid_template_rows": null,
            "right": null,
            "justify_content": null,
            "_view_module": "@jupyter-widgets/base",
            "overflow": null,
            "_model_module_version": "1.2.0",
            "_view_count": null,
            "flex_flow": null,
            "width": null,
            "min_width": null,
            "border": null,
            "align_items": null,
            "bottom": null,
            "_model_module": "@jupyter-widgets/base",
            "top": null,
            "grid_column": null,
            "overflow_y": null,
            "overflow_x": null,
            "grid_auto_flow": null,
            "grid_area": null,
            "grid_template_columns": null,
            "flex": null,
            "_model_name": "LayoutModel",
            "justify_items": null,
            "grid_row": null,
            "max_height": null,
            "align_content": null,
            "visibility": null,
            "align_self": null,
            "height": null,
            "min_height": null,
            "padding": null,
            "grid_auto_rows": null,
            "grid_gap": null,
            "max_width": null,
            "order": null,
            "_view_module_version": "1.2.0",
            "grid_template_areas": null,
            "object_position": null,
            "object_fit": null,
            "grid_auto_columns": null,
            "margin": null,
            "display": null,
            "left": null
          }
        }
      }
    },
    "accelerator": "GPU"
  },
  "cells": [
    {
      "cell_type": "markdown",
      "metadata": {
        "id": "cx5ClBu_51tn"
      },
      "source": [
        "# Libraries"
      ]
    },
    {
      "cell_type": "code",
      "metadata": {
        "colab": {
          "base_uri": "https://localhost:8080/"
        },
        "id": "8SQT7Za-rmPx",
        "outputId": "08773314-3a55-4d19-cbe5-c07f3ea26719"
      },
      "source": [
        "import torch\r\n",
        "import torch.nn.functional as F\r\n",
        "import torch.nn as nn\r\n",
        "import torch.optim as optim\r\n",
        "import torchvision\r\n",
        "from torchvision import transforms, datasets\r\n",
        "import numpy as np\r\n",
        "\r\n",
        "%matplotlib inline\r\n",
        "import matplotlib.pyplot as plt\r\n",
        "from time import time\r\n",
        "from tqdm.notebook import tqdm\r\n",
        "\r\n",
        "torch.set_printoptions(linewidth=120)\r\n",
        "torch.set_grad_enabled(True)"
      ],
      "execution_count": 1,
      "outputs": [
        {
          "output_type": "execute_result",
          "data": {
            "text/plain": [
              "<torch.autograd.grad_mode.set_grad_enabled at 0x7f477f887850>"
            ]
          },
          "metadata": {
            "tags": []
          },
          "execution_count": 1
        }
      ]
    },
    {
      "cell_type": "markdown",
      "metadata": {
        "id": "u-MXdpPD57G3"
      },
      "source": [
        "# Dense Model"
      ]
    },
    {
      "cell_type": "code",
      "metadata": {
        "id": "5vARHAmbskMt"
      },
      "source": [
        "class Linear_Model(nn.Module):\r\n",
        "    def __init__(self):\r\n",
        "        super(Linear_Model,self).__init__()\r\n",
        "        self.fc1 = nn.Linear(784,100) #784 nodes of input and 100 nodes of output\r\n",
        "        self.fc2 = nn.Linear(100,10)\r\n",
        "        self.sigmoid = nn.Sigmoid()\r\n",
        "        \r\n",
        "    def forward(self,x):\r\n",
        "        x = self.sigmoid(self.fc1(x))\r\n",
        "        x = F.softmax(self.fc2(x),dim=1)\r\n",
        "        return x"
      ],
      "execution_count": 2,
      "outputs": []
    },
    {
      "cell_type": "code",
      "metadata": {
        "colab": {
          "base_uri": "https://localhost:8080/"
        },
        "id": "KonnlAahso4d",
        "outputId": "363414fd-b5df-4db7-d283-0f336d4fe66a"
      },
      "source": [
        "from google.colab import drive\r\n",
        "drive.mount('/content/gdrive')"
      ],
      "execution_count": 3,
      "outputs": [
        {
          "output_type": "stream",
          "text": [
            "Mounted at /content/gdrive\n"
          ],
          "name": "stdout"
        }
      ]
    },
    {
      "cell_type": "code",
      "metadata": {
        "id": "cy-37aiRs8hc"
      },
      "source": [
        "device = torch.device('cuda:0') if torch.cuda.is_available() else torch.device('cpu')"
      ],
      "execution_count": 4,
      "outputs": []
    },
    {
      "cell_type": "code",
      "metadata": {
        "id": "_4uym_Nhs_Mv"
      },
      "source": [
        "apply_transform = transforms.Compose([transforms.ToTensor()])\r\n",
        "\r\n",
        "train_set = datasets.MNIST(root='/content/gdrive/My Drive/Colab Notebooks/data', train=True, download=False, transform=apply_transform)\r\n",
        "test_set = datasets.MNIST(root='/content/gdrive/My Drive/Colab Notebooks/data', train=False, download=False, transform=apply_transform)"
      ],
      "execution_count": 5,
      "outputs": []
    },
    {
      "cell_type": "markdown",
      "metadata": {
        "id": "0-ndkaf_6Ekq"
      },
      "source": [
        "# Train, Test and Plotting functions"
      ]
    },
    {
      "cell_type": "code",
      "metadata": {
        "id": "K4C2RhZvtkww"
      },
      "source": [
        "@torch.no_grad()\r\n",
        "def get_num_corrects(preds,labels):\r\n",
        "    return preds.argmax(dim=1).eq(labels).sum().item()"
      ],
      "execution_count": 6,
      "outputs": []
    },
    {
      "cell_type": "code",
      "metadata": {
        "id": "sD32KoZgttr7"
      },
      "source": [
        "def train(net, batch_size=256, lr=1e-2, n=50):\r\n",
        "    net.train()\r\n",
        "    optimizer = optim.SGD(net.parameters(), lr=lr, momentum=0.9)\r\n",
        "    train_loss_val = []\r\n",
        "    train_acc_val = []\r\n",
        "    for epoch in tqdm(range(n)):\r\n",
        "        tot_loss = 0\r\n",
        "        tot_correct = 0\r\n",
        "        previous_epoch_timestamp = time()\r\n",
        "\r\n",
        "        for _, data in enumerate(train_loader):\r\n",
        "            inputs, labels = data\r\n",
        "            inputs = inputs.reshape(-1, 28*28)\r\n",
        "            inputs, labels = inputs.to(device), labels.to(device)\r\n",
        "            \r\n",
        "            preds = net(inputs)\r\n",
        "            loss = F.cross_entropy(preds,labels)\r\n",
        "\r\n",
        "            optimizer.zero_grad(set_to_none=True)\r\n",
        "            loss.backward()\r\n",
        "            optimizer.step()\r\n",
        "\r\n",
        "            tot_loss += loss.item()\r\n",
        "            tot_correct += get_num_corrects(preds,labels)\r\n",
        "        train_loss_val.append(tot_loss/(_+1))\r\n",
        "        train_acc_val.append(tot_correct/len(train_set)*100)\r\n",
        "        if(epoch+1)>(n-6): print(f\"lr:{lr} batch_size:{batch_size} epoch: {epoch+1}/{n}, train loss: {train_loss_val[epoch]:.6f}, train accuracy: {train_acc_val[epoch]:.6f}, \\\r\n",
        "    time Used: {time()-previous_epoch_timestamp:.3f}s\")\r\n",
        "    return (train_loss_val, train_acc_val)\r\n"
      ],
      "execution_count": 13,
      "outputs": []
    },
    {
      "cell_type": "code",
      "metadata": {
        "id": "EgvdaWAFtv5Q"
      },
      "source": [
        "@torch.no_grad()\r\n",
        "def test(net, batch_size=256, lr=1e-2):\r\n",
        "    net.eval()\r\n",
        "    tot_correct = 0\r\n",
        "    tot_loss = 0    \r\n",
        "    for _, data in enumerate(test_loader):\r\n",
        "        inputs, labels = data\r\n",
        "        inputs = inputs.reshape(-1, 28*28)\r\n",
        "        inputs, labels = inputs.to(device), labels.to(device)\r\n",
        "            \r\n",
        "        preds = net(inputs)\r\n",
        "        loss = F.cross_entropy(preds,labels)\r\n",
        "\r\n",
        "        tot_loss += loss \r\n",
        "        tot_correct += torch.sum(torch.argmax(preds,dim=1)==labels)\r\n",
        "    print(f\"lr:{lr} batch_size:{batch_size} testing accuracy: {tot_correct/len(test_set)*100:.6f}  testing loss: {tot_loss/(_+1):.6f}\")\r\n",
        "    return (tot_loss/(_+1), tot_correct/len(test_set)*100)"
      ],
      "execution_count": 23,
      "outputs": []
    },
    {
      "cell_type": "code",
      "metadata": {
        "id": "Z9rL5di0t00Y"
      },
      "source": [
        "def plots(train_loss, train_accuracy, batch_size=256, lr=1e-2, n=50):\r\n",
        "    fig = plt.figure(figsize=[15,5])\r\n",
        "    fig.suptitle(f'Learning curves with batch_size: {batch_size}, learning_rate: {lr}', fontsize=10)\r\n",
        "    plt.subplot(121)\r\n",
        "    plt.plot(range(n),train_loss,'r-',label='Loss/error') \r\n",
        "    plt.legend(loc='upper right')\r\n",
        "    plt.xlabel('Epochs')\r\n",
        "    plt.ylabel('Training Loss')\r\n",
        "    plt.grid(1)\r\n",
        "    plt.subplot(122)\r\n",
        "    plt.plot(range(n),train_accuracy,'g-',label='Accuracy') \r\n",
        "    plt.legend(loc='upper right')\r\n",
        "    plt.xlabel('Epochs')\r\n",
        "    plt.ylabel('Training Accuracy')\r\n",
        "    plt.grid(1)"
      ],
      "execution_count": 24,
      "outputs": []
    },
    {
      "cell_type": "markdown",
      "metadata": {
        "id": "HU-K6Pz66Tc-"
      },
      "source": [
        "# Q5 solution"
      ]
    },
    {
      "cell_type": "code",
      "metadata": {
        "colab": {
          "base_uri": "https://localhost:8080/",
          "height": 554,
          "referenced_widgets": [
            "cca26eafabf949e5ae59a1e8ec55efe7",
            "5888a2649c554f348d1bcd13da4db404",
            "212781fb500445b6a66ffe1830987c3c",
            "edd6ae6676f64617ab53ae92deb1edee",
            "a734a04c7d8a4d61be47065c67a8d7a5",
            "c11f668c21d94996a139820b86aea894",
            "56255661bf4f4e1cb0777efd01c3ab85",
            "39d7eebe37464c5db4be4be6b5d42656"
          ]
        },
        "id": "ZijyNLfst3Am",
        "outputId": "78b7a28f-fcad-4fef-b740-523bb49d56e6"
      },
      "source": [
        "net1 = Linear_Model().to(device)\r\n",
        "train_loader = torch.utils.data.DataLoader(train_set, batch_size=256, shuffle=True, num_workers=2)\r\n",
        "test_loader = torch.utils.data.DataLoader(test_set, batch_size=256, num_workers=2)\r\n",
        "plots(*train(net1))\r\n",
        "test(net1)"
      ],
      "execution_count": 10,
      "outputs": [
        {
          "output_type": "display_data",
          "data": {
            "application/vnd.jupyter.widget-view+json": {
              "model_id": "cca26eafabf949e5ae59a1e8ec55efe7",
              "version_minor": 0,
              "version_major": 2
            },
            "text/plain": [
              "HBox(children=(FloatProgress(value=0.0, max=50.0), HTML(value='')))"
            ]
          },
          "metadata": {
            "tags": []
          }
        },
        {
          "output_type": "stream",
          "text": [
            "lr:0.01 batch_size:256 epoch: 45/50, train loss: 1.643104, train accuracy: 83.608333,     time Used: 4.703s\n",
            "lr:0.01 batch_size:256 epoch: 46/50, train loss: 1.641816, train accuracy: 83.688333,     time Used: 4.359s\n",
            "lr:0.01 batch_size:256 epoch: 47/50, train loss: 1.640268, train accuracy: 83.783333,     time Used: 4.641s\n",
            "lr:0.01 batch_size:256 epoch: 48/50, train loss: 1.638996, train accuracy: 83.845000,     time Used: 4.715s\n",
            "lr:0.01 batch_size:256 epoch: 49/50, train loss: 1.637794, train accuracy: 83.903333,     time Used: 4.372s\n",
            "lr:0.01 batch_size:256 epoch: 50/50, train loss: 1.636836, train accuracy: 83.938333,     time Used: 4.573s\n",
            "\n",
            "lr:0.01 batch_size:256 testing accuracy: 84.610001  testing loss: 1.630915\n"
          ],
          "name": "stdout"
        },
        {
          "output_type": "execute_result",
          "data": {
            "text/plain": [
              "(tensor(1.6309, device='cuda:0'), tensor(84.6100, device='cuda:0'))"
            ]
          },
          "metadata": {
            "tags": []
          },
          "execution_count": 10
        },
        {
          "output_type": "display_data",
          "data": {
            "image/png": "[encoded data removed]",
            "text/plain": [
              "<Figure size 1080x360 with 2 Axes>"
            ]
          },
          "metadata": {
            "tags": [],
            "needs_background": "light"
          }
        }
      ]
    },
    {
      "cell_type": "markdown",
      "metadata": {
        "id": "izEtgNdT6XaA"
      },
      "source": [
        "# Q6.a solution"
      ]
    },
    {
      "cell_type": "code",
      "metadata": {
        "id": "bGB9aYYZ-sKE"
      },
      "source": [
        "def nets_initialize():\r\n",
        "    net1 = Linear_Model().to(device)\r\n",
        "    net2 = Linear_Model().to(device)\r\n",
        "    net3 = Linear_Model().to(device)\r\n",
        "    net4 = Linear_Model().to(device)\r\n",
        "    net5 = Linear_Model().to(device)\r\n",
        "    return (net1,net2,net3,net4,net5)"
      ],
      "execution_count": 22,
      "outputs": []
    },
    {
      "cell_type": "code",
      "metadata": {
        "id": "BZH5YiQa-5lm"
      },
      "source": [
        "lrs = [0.5, 0.2, 0.1, 0.05, 0.025]\r\n",
        "Batches = [128, 256, 512, 1024]"
      ],
      "execution_count": 19,
      "outputs": []
    },
    {
      "cell_type": "code",
      "metadata": {
        "id": "ucIW01VO-84K"
      },
      "source": [
        "nets = nets_initialize()\r\n",
        "train_losses = []\r\n",
        "test_losses = []"
      ],
      "execution_count": 13,
      "outputs": []
    },
    {
      "cell_type": "code",
      "metadata": {
        "colab": {
          "base_uri": "https://localhost:8080/",
          "height": 682,
          "referenced_widgets": [
            "20dab9c9abfe452fb028a949ec98befd",
            "a6262b9d4a9d479db475d7a56b567eca",
            "0243912b0f5f45d1afd800d73a261e23",
            "d35d0e7aaf6a473596db007df64fb042",
            "c02a921443be4337a98474e6ff4ca15a",
            "60ca0ee32564430ab24b9fd4062eb8ef",
            "0eebcc628b7f4381ac98d6d89fd40fbc",
            "e24e4b0ffcc6466c86e55a25065fefa0",
            "22395ff7dbf94e339325ffd617278e9d",
            "38e453e4d9d0498b883da209211a548d",
            "d00b8b30846e4731af889c41dae353e6",
            "35088d3fbcc14248b739642a4d2f2674",
            "c7d3331d8df44776952b788fb601fb7c",
            "4cc6e7751174460980a3f1af24622ca0",
            "ac11d596726a41de829074059920811c",
            "4ea926160c9f4e80a3cc24cbba47b786",
            "9696eaf7276c46808ae19bf0248ac17a",
            "3a9cfe9dc2e84b258b9fd9485db0e5d4",
            "b8dabf629e85473a9dfbd5f873974612",
            "7b35db83901942e5bd9fc43de4383368",
            "2e5bf11c07cc401a81aa2dbdd3f7e97c",
            "a47508f070d8448eb34f8f208994c0ed",
            "8af7698076034fd4a31403cc9d5fed49",
            "037643f51d914b6f8e576f88b7f63850",
            "983177e7a18745b49030aedfecc28b67",
            "780384c3954741dabaf9520c508849b4",
            "152e0fd89b5c4d4fabd9eaf68e260a6c",
            "6f0b2dd6b5364c98a3b11e22b2111b7f",
            "501259e425e243508981db61fa16e3a3",
            "6a3212a45eea44048babec790ef0d15b",
            "a4d4eca7a03349fe98215da2b07040de",
            "ff6a050db44f4215b36a2970f75bf7f3"
          ]
        },
        "id": "rCLtNTW2-_ci",
        "outputId": "c5378403-b499-47f5-ce35-591dda988260"
      },
      "source": [
        "for i, Batch in enumerate(Batches):\r\n",
        "    train_loader = torch.utils.data.DataLoader(train_set, batch_size=Batch, shuffle=True, num_workers=4)\r\n",
        "    test_loader = torch.utils.data.DataLoader(test_set, batch_size=Batch, num_workers=4)\r\n",
        "    train_losses.append(train(nets[i], batch_size=Batch)[0])\r\n",
        "    test_losses.append(test(nets[i], batch_size=Batch)[0])"
      ],
      "execution_count": 14,
      "outputs": [
        {
          "output_type": "display_data",
          "data": {
            "application/vnd.jupyter.widget-view+json": {
              "model_id": "20dab9c9abfe452fb028a949ec98befd",
              "version_minor": 0,
              "version_major": 2
            },
            "text/plain": [
              "HBox(children=(FloatProgress(value=0.0, max=50.0), HTML(value='')))"
            ]
          },
          "metadata": {
            "tags": []
          }
        },
        {
          "output_type": "stream",
          "text": [
            "lr:0.01 batch_size:128 epoch: 45/50, train loss: 1.630870, train accuracy: 84.078333,     time Used: 5.265s\n",
            "lr:0.01 batch_size:128 epoch: 46/50, train loss: 1.630030, train accuracy: 84.115000,     time Used: 5.342s\n",
            "lr:0.01 batch_size:128 epoch: 47/50, train loss: 1.629154, train accuracy: 84.178333,     time Used: 5.243s\n",
            "lr:0.01 batch_size:128 epoch: 48/50, train loss: 1.628327, train accuracy: 84.213333,     time Used: 4.882s\n",
            "lr:0.01 batch_size:128 epoch: 49/50, train loss: 1.627535, train accuracy: 84.288333,     time Used: 5.108s\n",
            "lr:0.01 batch_size:128 epoch: 50/50, train loss: 1.626802, train accuracy: 84.313333,     time Used: 5.432s\n",
            "\n",
            "lr:0.01 batch_size:128 testing accuracy: 84.230003  testing loss: 1.626361\n"
          ],
          "name": "stdout"
        },
        {
          "output_type": "display_data",
          "data": {
            "application/vnd.jupyter.widget-view+json": {
              "model_id": "22395ff7dbf94e339325ffd617278e9d",
              "version_minor": 0,
              "version_major": 2
            },
            "text/plain": [
              "HBox(children=(FloatProgress(value=0.0, max=50.0), HTML(value='')))"
            ]
          },
          "metadata": {
            "tags": []
          }
        },
        {
          "output_type": "stream",
          "text": [
            "lr:0.01 batch_size:256 epoch: 45/50, train loss: 1.655020, train accuracy: 84.921667,     time Used: 4.487s\n",
            "lr:0.01 batch_size:256 epoch: 46/50, train loss: 1.634696, train accuracy: 88.580000,     time Used: 4.452s\n",
            "lr:0.01 batch_size:256 epoch: 47/50, train loss: 1.623343, train accuracy: 89.136667,     time Used: 4.790s\n",
            "lr:0.01 batch_size:256 epoch: 48/50, train loss: 1.615303, train accuracy: 89.411667,     time Used: 4.667s\n",
            "lr:0.01 batch_size:256 epoch: 49/50, train loss: 1.608897, train accuracy: 89.671667,     time Used: 4.696s\n",
            "lr:0.01 batch_size:256 epoch: 50/50, train loss: 1.603772, train accuracy: 89.826667,     time Used: 4.502s\n",
            "\n",
            "lr:0.01 batch_size:256 testing accuracy: 90.220001  testing loss: 1.596559\n"
          ],
          "name": "stdout"
        },
        {
          "output_type": "display_data",
          "data": {
            "application/vnd.jupyter.widget-view+json": {
              "model_id": "9696eaf7276c46808ae19bf0248ac17a",
              "version_minor": 0,
              "version_major": 2
            },
            "text/plain": [
              "HBox(children=(FloatProgress(value=0.0, max=50.0), HTML(value='')))"
            ]
          },
          "metadata": {
            "tags": []
          }
        },
        {
          "output_type": "stream",
          "text": [
            "lr:0.01 batch_size:512 epoch: 45/50, train loss: 1.692875, train accuracy: 81.241667,     time Used: 4.858s\n",
            "lr:0.01 batch_size:512 epoch: 46/50, train loss: 1.688465, train accuracy: 81.503333,     time Used: 4.855s\n",
            "lr:0.01 batch_size:512 epoch: 47/50, train loss: 1.684039, train accuracy: 81.736667,     time Used: 4.775s\n",
            "lr:0.01 batch_size:512 epoch: 48/50, train loss: 1.680275, train accuracy: 81.948333,     time Used: 4.553s\n",
            "lr:0.01 batch_size:512 epoch: 49/50, train loss: 1.676798, train accuracy: 82.140000,     time Used: 4.573s\n",
            "lr:0.01 batch_size:512 epoch: 50/50, train loss: 1.673704, train accuracy: 82.293333,     time Used: 4.310s\n",
            "\n",
            "lr:0.01 batch_size:512 testing accuracy: 83.000000  testing loss: 1.665929\n"
          ],
          "name": "stdout"
        },
        {
          "output_type": "display_data",
          "data": {
            "application/vnd.jupyter.widget-view+json": {
              "model_id": "983177e7a18745b49030aedfecc28b67",
              "version_minor": 0,
              "version_major": 2
            },
            "text/plain": [
              "HBox(children=(FloatProgress(value=0.0, max=50.0), HTML(value='')))"
            ]
          },
          "metadata": {
            "tags": []
          }
        },
        {
          "output_type": "stream",
          "text": [
            "lr:0.01 batch_size:1024 epoch: 45/50, train loss: 1.844931, train accuracy: 65.763333,     time Used: 4.159s\n",
            "lr:0.01 batch_size:1024 epoch: 46/50, train loss: 1.841024, train accuracy: 65.868333,     time Used: 4.346s\n",
            "lr:0.01 batch_size:1024 epoch: 47/50, train loss: 1.837027, train accuracy: 65.968333,     time Used: 4.293s\n",
            "lr:0.01 batch_size:1024 epoch: 48/50, train loss: 1.833729, train accuracy: 66.073333,     time Used: 4.153s\n",
            "lr:0.01 batch_size:1024 epoch: 49/50, train loss: 1.830728, train accuracy: 66.125000,     time Used: 4.696s\n",
            "lr:0.01 batch_size:1024 epoch: 50/50, train loss: 1.827890, train accuracy: 66.240000,     time Used: 4.319s\n",
            "\n",
            "lr:0.01 batch_size:1024 testing accuracy: 66.799995  testing loss: 1.823500\n"
          ],
          "name": "stdout"
        }
      ]
    },
    {
      "cell_type": "code",
      "metadata": {
        "colab": {
          "base_uri": "https://localhost:8080/",
          "height": 370
        },
        "id": "2xZzNZpj_R9E",
        "outputId": "3e3f7c43-b538-41cb-e1e6-3d3bbe5ebd56"
      },
      "source": [
        "fig = plt.figure(figsize=[15,5])\r\n",
        "fig.suptitle(f'Learning curves with different batch_sizes', fontsize=10)\r\n",
        "plt.subplot(121)\r\n",
        "plt.plot(range(50),train_losses[0],'r-',label='Batch:128') \r\n",
        "plt.plot(range(50),train_losses[1],'b-',label='Batch:256') \r\n",
        "plt.plot(range(50),train_losses[2],'c-',label='Batch:512') \r\n",
        "plt.plot(range(50),train_losses[3],'m-',label='Batch:1024') \r\n",
        "plt.legend(loc='upper right')\r\n",
        "plt.xlabel('Epochs')\r\n",
        "plt.ylabel('Training Loss')\r\n",
        "plt.grid(1)\r\n",
        "plt.subplot(122)\r\n",
        "plt.plot(Batches,test_losses,'g-',label='Test Loss', marker='o') \r\n",
        "plt.legend(loc='upper left')\r\n",
        "plt.xlabel('Batch Sizes')\r\n",
        "plt.ylabel('Testing Loss')\r\n",
        "plt.grid(1)"
      ],
      "execution_count": 15,
      "outputs": [
        {
          "output_type": "display_data",
          "data": {
            "image/png": "[encoded data removed]",
            "text/plain": [
              "<Figure size 1080x360 with 2 Axes>"
            ]
          },
          "metadata": {
            "tags": [],
            "needs_background": "light"
          }
        }
      ]
    },
    {
      "cell_type": "markdown",
      "metadata": {
        "id": "LIM2qq8I6rLG"
      },
      "source": [
        "# Q6.b"
      ]
    },
    {
      "cell_type": "code",
      "metadata": {
        "id": "ObT0qnSXBOIz"
      },
      "source": [
        "nets = nets_initialize()\r\n",
        "test_losses_lr = []"
      ],
      "execution_count": 25,
      "outputs": []
    },
    {
      "cell_type": "code",
      "metadata": {
        "colab": {
          "base_uri": "https://localhost:8080/",
          "height": 849,
          "referenced_widgets": [
            "23a46b6699454f458aa05b12e6d74883",
            "00b7797b6e814e078305ff0a1af66025",
            "b814aabf137040778195da3e2601ae12",
            "ad42d6f7dc6f46869eb372683124afae",
            "22115b82afb44e14badfdcaff496f135",
            "d9b3c2b0ba3e41d0b0acf843638c088d",
            "5822b2e8d6124224ae2c227a77f450e5",
            "dd152773500e47a382683fff72e391d8",
            "b5f33e43cfce42a3af6d6c6429cf6af6",
            "e767387a52d343ab93a6366d1d45275c",
            "16ad2d327227461e979e321a472fd4d2",
            "00de4a13362645f59d89905c98a887a3",
            "5de5aa4e95004e0d9480b44141be21ba",
            "685cb8a6fb1c4c9ba8fa1ab1d5f31402",
            "880cd45d87cb4ccf97bd19d93bd3070e",
            "26e25f7647324b08ba8fe7914a322721",
            "bf132de6f05740d3a8b13f072abcbd02",
            "72bfcff1f877479ea6f2c5f4a14bdccb",
            "c96bc509e93f467b899f72fa9a6cc711",
            "12af2731e92b4db5a466d81cb4970dbc",
            "c014d94a4fb04ba4b36cc634c1ac2c1e",
            "ee480187786143769e567ddd1c1fb2c0",
            "7e0696ea21334b5b94103573b3c31626",
            "e060f781417944488fc60197c538cd14",
            "4843407055e94b7fbb2c3729185fb01f",
            "54a72637d7dc479abb406fba93bba508",
            "cb90d4bcf8e445608b78fcd6a988b44d",
            "4c916dbc755c48bb842a0576e42e669f",
            "8333adfe82ae458c97bfa6abe0518c77",
            "368b8e46b0f64148aeb30439b19e807b",
            "557a7fe1a01143da884946fd3257c62d",
            "0e5ba5a9f97d48b9bf71726c092ceb96",
            "45702bc9641449eeb6524d4f0b5f3556",
            "5def5f896a8b441495701b9c0353b462",
            "524ec6f0858e40d1b107fefddf6a54b3",
            "970792deefa649439ddb8c24475bd0dd",
            "e4688a0460d144a881938a805b74dc7f",
            "e8f830abba484c1c85d2f55c2d5ff802",
            "dfca66e93f6447ff95e30c1c3698c6be",
            "adc6f7f8ffa54771adcfe6c7bcb9517d"
          ]
        },
        "id": "Mwct64JZBRxt",
        "outputId": "167b1e47-79ff-44de-8b02-ec4721717fae"
      },
      "source": [
        "train_loader = torch.utils.data.DataLoader(train_set, batch_size=256, shuffle=True, num_workers=2)\r\n",
        "test_loader = torch.utils.data.DataLoader(test_set, batch_size=256, num_workers=2)\r\n",
        "for i,lr in enumerate(lrs):\r\n",
        "    train(nets[i], lr=lr)\r\n",
        "    test_losses_lr.append(test(nets[i], lr=lr)[0])"
      ],
      "execution_count": 26,
      "outputs": [
        {
          "output_type": "display_data",
          "data": {
            "application/vnd.jupyter.widget-view+json": {
              "model_id": "23a46b6699454f458aa05b12e6d74883",
              "version_minor": 0,
              "version_major": 2
            },
            "text/plain": [
              "HBox(children=(FloatProgress(value=0.0, max=50.0), HTML(value='')))"
            ]
          },
          "metadata": {
            "tags": []
          }
        },
        {
          "output_type": "stream",
          "text": [
            "lr:0.5 batch_size:256 epoch: 45/50, train loss: 1.474094, train accuracy: 98.930000,     time Used: 4.759s\n",
            "lr:0.5 batch_size:256 epoch: 46/50, train loss: 1.473872, train accuracy: 98.953333,     time Used: 4.634s\n",
            "lr:0.5 batch_size:256 epoch: 47/50, train loss: 1.473608, train accuracy: 98.968333,     time Used: 4.617s\n",
            "lr:0.5 batch_size:256 epoch: 48/50, train loss: 1.473452, train accuracy: 98.980000,     time Used: 4.597s\n",
            "lr:0.5 batch_size:256 epoch: 49/50, train loss: 1.473193, train accuracy: 98.998333,     time Used: 4.626s\n",
            "lr:0.5 batch_size:256 epoch: 50/50, train loss: 1.472959, train accuracy: 99.016667,     time Used: 4.570s\n",
            "\n",
            "lr:0.5 batch_size:256 testing accuracy: 97.430000  testing loss: 1.488136\n"
          ],
          "name": "stdout"
        },
        {
          "output_type": "display_data",
          "data": {
            "application/vnd.jupyter.widget-view+json": {
              "model_id": "b5f33e43cfce42a3af6d6c6429cf6af6",
              "version_minor": 0,
              "version_major": 2
            },
            "text/plain": [
              "HBox(children=(FloatProgress(value=0.0, max=50.0), HTML(value='')))"
            ]
          },
          "metadata": {
            "tags": []
          }
        },
        {
          "output_type": "stream",
          "text": [
            "lr:0.2 batch_size:256 epoch: 45/50, train loss: 1.486508, train accuracy: 97.980000,     time Used: 4.517s\n",
            "lr:0.2 batch_size:256 epoch: 46/50, train loss: 1.486037, train accuracy: 98.020000,     time Used: 4.696s\n",
            "lr:0.2 batch_size:256 epoch: 47/50, train loss: 1.485646, train accuracy: 98.060000,     time Used: 4.580s\n",
            "lr:0.2 batch_size:256 epoch: 48/50, train loss: 1.485164, train accuracy: 98.090000,     time Used: 4.621s\n",
            "lr:0.2 batch_size:256 epoch: 49/50, train loss: 1.484849, train accuracy: 98.126667,     time Used: 4.638s\n",
            "lr:0.2 batch_size:256 epoch: 50/50, train loss: 1.484456, train accuracy: 98.135000,     time Used: 4.583s\n",
            "\n",
            "lr:0.2 batch_size:256 testing accuracy: 96.949997  testing loss: 1.494496\n"
          ],
          "name": "stdout"
        },
        {
          "output_type": "display_data",
          "data": {
            "application/vnd.jupyter.widget-view+json": {
              "model_id": "bf132de6f05740d3a8b13f072abcbd02",
              "version_minor": 0,
              "version_major": 2
            },
            "text/plain": [
              "HBox(children=(FloatProgress(value=0.0, max=50.0), HTML(value='')))"
            ]
          },
          "metadata": {
            "tags": []
          }
        },
        {
          "output_type": "stream",
          "text": [
            "lr:0.1 batch_size:256 epoch: 45/50, train loss: 1.501660, train accuracy: 96.570000,     time Used: 4.584s\n",
            "lr:0.1 batch_size:256 epoch: 46/50, train loss: 1.501012, train accuracy: 96.675000,     time Used: 4.530s\n",
            "lr:0.1 batch_size:256 epoch: 47/50, train loss: 1.500486, train accuracy: 96.696667,     time Used: 4.552s\n",
            "lr:0.1 batch_size:256 epoch: 48/50, train loss: 1.499830, train accuracy: 96.766667,     time Used: 4.612s\n",
            "lr:0.1 batch_size:256 epoch: 49/50, train loss: 1.499450, train accuracy: 96.826667,     time Used: 4.705s\n",
            "lr:0.1 batch_size:256 epoch: 50/50, train loss: 1.498900, train accuracy: 96.855000,     time Used: 4.613s\n",
            "\n",
            "lr:0.1 batch_size:256 testing accuracy: 96.190002  testing loss: 1.503134\n"
          ],
          "name": "stdout"
        },
        {
          "output_type": "display_data",
          "data": {
            "application/vnd.jupyter.widget-view+json": {
              "model_id": "4843407055e94b7fbb2c3729185fb01f",
              "version_minor": 0,
              "version_major": 2
            },
            "text/plain": [
              "HBox(children=(FloatProgress(value=0.0, max=50.0), HTML(value='')))"
            ]
          },
          "metadata": {
            "tags": []
          }
        },
        {
          "output_type": "stream",
          "text": [
            "lr:0.05 batch_size:256 epoch: 45/50, train loss: 1.521727, train accuracy: 94.858333,     time Used: 4.618s\n",
            "lr:0.05 batch_size:256 epoch: 46/50, train loss: 1.520947, train accuracy: 94.926667,     time Used: 4.583s\n",
            "lr:0.05 batch_size:256 epoch: 47/50, train loss: 1.520135, train accuracy: 95.043333,     time Used: 4.637s\n",
            "lr:0.05 batch_size:256 epoch: 48/50, train loss: 1.519500, train accuracy: 95.051667,     time Used: 4.649s\n",
            "lr:0.05 batch_size:256 epoch: 49/50, train loss: 1.519002, train accuracy: 95.101667,     time Used: 4.600s\n",
            "lr:0.05 batch_size:256 epoch: 50/50, train loss: 1.518243, train accuracy: 95.145000,     time Used: 4.611s\n",
            "\n",
            "lr:0.05 batch_size:256 testing accuracy: 94.769997  testing loss: 1.519099\n"
          ],
          "name": "stdout"
        },
        {
          "output_type": "display_data",
          "data": {
            "application/vnd.jupyter.widget-view+json": {
              "model_id": "45702bc9641449eeb6524d4f0b5f3556",
              "version_minor": 0,
              "version_major": 2
            },
            "text/plain": [
              "HBox(children=(FloatProgress(value=0.0, max=50.0), HTML(value='')))"
            ]
          },
          "metadata": {
            "tags": []
          }
        },
        {
          "output_type": "stream",
          "text": [
            "lr:0.025 batch_size:256 epoch: 45/50, train loss: 1.550835, train accuracy: 92.496667,     time Used: 4.599s\n",
            "lr:0.025 batch_size:256 epoch: 46/50, train loss: 1.549435, train accuracy: 92.630000,     time Used: 4.566s\n",
            "lr:0.025 batch_size:256 epoch: 47/50, train loss: 1.548084, train accuracy: 92.710000,     time Used: 4.602s\n",
            "lr:0.025 batch_size:256 epoch: 48/50, train loss: 1.546887, train accuracy: 92.808333,     time Used: 4.661s\n",
            "lr:0.025 batch_size:256 epoch: 49/50, train loss: 1.545847, train accuracy: 92.835000,     time Used: 4.512s\n",
            "lr:0.025 batch_size:256 epoch: 50/50, train loss: 1.544824, train accuracy: 92.986667,     time Used: 4.620s\n",
            "\n",
            "lr:0.025 batch_size:256 testing accuracy: 92.769997  testing loss: 1.543455\n"
          ],
          "name": "stdout"
        }
      ]
    },
    {
      "cell_type": "code",
      "metadata": {
        "colab": {
          "base_uri": "https://localhost:8080/",
          "height": 295
        },
        "id": "BMm-JC4aBUnT",
        "outputId": "77197271-7c5d-4b3e-c307-3f4f726a44df"
      },
      "source": [
        "plt.plot(lrs,test_losses_lr, 'r-', label='Test Error', marker='o')\r\n",
        "plt.title('Plot of Test Loss Vs Learning Rate')\r\n",
        "plt.xlabel('Learning Rate')\r\n",
        "plt.ylabel('Test Loss')\r\n",
        "plt.legend(loc='upper left')\r\n",
        "plt.grid(1)\r\n",
        "plt.show()"
      ],
      "execution_count": 27,
      "outputs": [
        {
          "output_type": "display_data",
          "data": {
            "image/png": "[encoded data removed]",
            "text/plain": [
              "<Figure size 432x288 with 1 Axes>"
            ]
          },
          "metadata": {
            "tags": [],
            "needs_background": "light"
          }
        }
      ]
    },
    {
      "cell_type": "markdown",
      "metadata": {
        "id": "yhb0CM2B7CdQ"
      },
      "source": [
        "**I would prefer learning rate greater than 0.5, as we can see a descent steep in test loss with lr > 0.2. Also for optimum test loss with respect to number of epochs: 50, I prefer 0.5 learning rate (among considered learning rates) which has minimum test loss and maximum test accuracy compared to other learning rates less than 0.2 since they reach minimum (of loss function) much slower than 0.2 .**"
      ]
    },
    {
      "cell_type": "markdown",
      "metadata": {
        "id": "HAOa6xmh6z84"
      },
      "source": [
        "# Q6.c solution"
      ]
    },
    {
      "cell_type": "code",
      "metadata": {
        "colab": {
          "base_uri": "https://localhost:8080/",
          "height": 166,
          "referenced_widgets": [
            "73113de5c83446f980fe6fe3e4d0886c",
            "f8cebabad2c1474c95ece110b71c5136",
            "eb47e91fa3714a3182a209b2befc18e6",
            "3ecd36cf8f52432db7c4928f362ef170",
            "587cf5d28bad4042a8e9a313e291e0de",
            "c4b367d5930d42bb98d3cd118ef8f9d0",
            "8a1f8d74b14f4483bc3281f1f4cdf627",
            "5e15d11fc75742da94a30fb186a6d85c"
          ]
        },
        "id": "RpYoC4waBXoy",
        "outputId": "6eef0eef-5be5-4569-b45f-6c89d3be8d8b"
      },
      "source": [
        "net1 = Linear_Model().to(device)\r\n",
        "net1.train()\r\n",
        "lr = 0.2\r\n",
        "n = 50\r\n",
        "optimizer = optim.SGD(net1.parameters(), lr=lr, momentum=0.9)\r\n",
        "train_loss_val = []\r\n",
        "train_acc_val = []\r\n",
        "for epoch in tqdm(range(n)):\r\n",
        "    tot_loss = 0\r\n",
        "    tot_correct = 0\r\n",
        "    previous_epoch_timestamp = time()\r\n",
        "\r\n",
        "    if epoch%4 == 0:\r\n",
        "      if epoch: lr *= 0.6\r\n",
        "    optimizer = optim.SGD(net1.parameters(), lr=lr, momentum=0.9)\r\n",
        "\r\n",
        "    for _, data in enumerate(train_loader):\r\n",
        "        inputs, labels = data\r\n",
        "        inputs = inputs.reshape(-1, 28*28)\r\n",
        "        inputs, labels = inputs.to(device), labels.to(device)\r\n",
        "        \r\n",
        "        preds = net1(inputs)\r\n",
        "        loss = F.cross_entropy(preds,labels)\r\n",
        "\r\n",
        "        optimizer.zero_grad(set_to_none=True)\r\n",
        "        loss.backward()\r\n",
        "        optimizer.step()\r\n",
        "\r\n",
        "        tot_loss += loss.item()\r\n",
        "        tot_correct += get_num_corrects(preds,labels)\r\n",
        "    train_loss_val.append(tot_loss/(_+1))\r\n",
        "    train_acc_val.append(tot_correct/len(train_set)*100)\r\n",
        "    if(epoch+1)>(n-6): print(f\"lr:{lr} batch_size: 256 epoch: {epoch+1}/{n}, train loss: {train_loss_val[epoch]:.6f}, train accuracy: {train_acc_val[epoch]:.6f}, \\\r\n",
        "    time Used: {time()-previous_epoch_timestamp:.3f}s\")"
      ],
      "execution_count": 12,
      "outputs": [
        {
          "output_type": "display_data",
          "data": {
            "application/vnd.jupyter.widget-view+json": {
              "model_id": "73113de5c83446f980fe6fe3e4d0886c",
              "version_minor": 0,
              "version_major": 2
            },
            "text/plain": [
              "HBox(children=(FloatProgress(value=0.0, max=50.0), HTML(value='')))"
            ]
          },
          "metadata": {
            "tags": []
          }
        },
        {
          "output_type": "stream",
          "text": [
            "lr:0.0007255941119999997 batch_size: 256 epoch: 45/50, train loss: 1.528227, train accuracy: 94.291667,     time Used: 4.495s\n",
            "lr:0.0007255941119999997 batch_size: 256 epoch: 46/50, train loss: 1.528151, train accuracy: 94.291667,     time Used: 4.531s\n",
            "lr:0.0007255941119999997 batch_size: 256 epoch: 47/50, train loss: 1.528090, train accuracy: 94.293333,     time Used: 4.511s\n",
            "lr:0.0007255941119999997 batch_size: 256 epoch: 48/50, train loss: 1.528081, train accuracy: 94.298333,     time Used: 4.618s\n",
            "lr:0.00043535646719999985 batch_size: 256 epoch: 49/50, train loss: 1.528145, train accuracy: 94.296667,     time Used: 4.472s\n",
            "lr:0.00043535646719999985 batch_size: 256 epoch: 50/50, train loss: 1.528028, train accuracy: 94.293333,     time Used: 4.521s\n",
            "\n"
          ],
          "name": "stdout"
        }
      ]
    },
    {
      "cell_type": "code",
      "metadata": {
        "colab": {
          "base_uri": "https://localhost:8080/"
        },
        "id": "RIbhH_5yBaoZ",
        "outputId": "190e3a3c-2446-4918-8b5b-1b16688c7fce"
      },
      "source": [
        "net1.eval()\r\n",
        "tot_correct = 0\r\n",
        "tot_loss = 0    \r\n",
        "for _, data in enumerate(test_loader):\r\n",
        "    inputs, labels = data\r\n",
        "    inputs = inputs.reshape(-1, 28*28)\r\n",
        "    inputs, labels = inputs.to(device), labels.to(device)\r\n",
        "        \r\n",
        "    preds = net1(inputs)\r\n",
        "    loss = F.cross_entropy(preds,labels)\r\n",
        "\r\n",
        "    tot_loss += loss \r\n",
        "    tot_correct += torch.sum(torch.argmax(preds,dim=1)==labels)\r\n",
        "print(f'By using SGDR Test Loss: {tot_loss/(_+1):.6f} Test Accuracy: {tot_correct/len(test_set)}')"
      ],
      "execution_count": 15,
      "outputs": [
        {
          "output_type": "stream",
          "text": [
            "By using SGDR Test Loss: 1.529074 Test Accuracy: 0.939300000667572\n"
          ],
          "name": "stdout"
        }
      ]
    },
    {
      "cell_type": "code",
      "metadata": {
        "colab": {
          "base_uri": "https://localhost:8080/",
          "height": 370
        },
        "id": "IQMX0svIBdSW",
        "outputId": "146dac97-1be3-4818-e991-8c846bf2899d"
      },
      "source": [
        "fig = plt.figure(figsize=[15,5])\r\n",
        "fig.suptitle(f'Learning curves by using SGDR with batch_size: 256', fontsize=10)\r\n",
        "plt.subplot(121)\r\n",
        "plt.plot(range(n),train_loss_val,'r-',label='Loss/error') \r\n",
        "plt.legend(loc='upper right')\r\n",
        "plt.xlabel('Epochs')\r\n",
        "plt.ylabel('Training Loss')\r\n",
        "plt.grid(1)\r\n",
        "plt.subplot(122)\r\n",
        "plt.plot(range(n),train_acc_val,'g-',label='Accuracy') \r\n",
        "plt.legend(loc='upper right')\r\n",
        "plt.xlabel('Epochs')\r\n",
        "plt.ylabel('Training Accuracy')\r\n",
        "plt.grid(1)"
      ],
      "execution_count": 16,
      "outputs": [
        {
          "output_type": "display_data",
          "data": {
            "image/png": "[encoded data removed]",
            "text/plain": [
              "<Figure size 1080x360 with 2 Axes>"
            ]
          },
          "metadata": {
            "tags": [],
            "needs_background": "light"
          }
        }
      ]
    },
    {
      "cell_type": "markdown",
      "metadata": {
        "id": "dwyIWBET69xN"
      },
      "source": [
        "**I considered the initial learning rate as 0.2 and reduced by factor 0.6 for every 4 epochs. I observed that the rate of convergence of loss function is way higher than normal training with fixed learning rate. We can also see the plots from solutions of 5 and 6.c which shows a very good picture of differences in rate of convergence of loss functions.**"
      ]
    },
    {
      "cell_type": "markdown",
      "metadata": {
        "id": "JdLfOy5Y66vE"
      },
      "source": [
        "# END"
      ]
    }
  ]
}