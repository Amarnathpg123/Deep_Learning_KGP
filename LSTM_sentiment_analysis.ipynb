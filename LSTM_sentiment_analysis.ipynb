{
  "nbformat": 4,
  "nbformat_minor": 0,
  "metadata": {
    "language_info": {
      "codemirror_mode": {
        "name": "ipython",
        "version": 3
      },
      "file_extension": ".py",
      "mimetype": "text/x-python",
      "name": "python",
      "nbconvert_exporter": "python",
      "pygments_lexer": "ipython3",
      "version": "3.8.8-final"
    },
    "orig_nbformat": 2,
    "kernelspec": {
      "name": "python3",
      "display_name": "Python 3.8.8 64-bit",
      "metadata": {
        "interpreter": {
          "hash": "07c31a066b3630a37b18e3d2dd8ebcb54dec77fbfbe8a6b743cba0be32b934de"
        }
      }
    },
    "colab": {
      "name": "LSTM_sentiment_analysis.ipynb",
      "provenance": [],
      "collapsed_sections": []
    },
    "accelerator": "GPU",
    "widgets": {
      "application/vnd.jupyter.widget-state+json": {
        "c233b53c5d9c44018ffdc426a82f6195": {
          "model_module": "@jupyter-widgets/controls",
          "model_name": "HBoxModel",
          "state": {
            "_view_name": "HBoxView",
            "_dom_classes": [],
            "_model_name": "HBoxModel",
            "_view_module": "@jupyter-widgets/controls",
            "_model_module_version": "1.5.0",
            "_view_count": null,
            "_view_module_version": "1.5.0",
            "box_style": "",
            "layout": "IPY_MODEL_01ba61a8cc414f71ac5649175d34cb89",
            "_model_module": "@jupyter-widgets/controls",
            "children": [
              "IPY_MODEL_3d78a3bc006641dd8af909595b6d21cb",
              "IPY_MODEL_126547696b0349c9a7c6d0d4fca94ced"
            ]
          }
        },
        "01ba61a8cc414f71ac5649175d34cb89": {
          "model_module": "@jupyter-widgets/base",
          "model_name": "LayoutModel",
          "state": {
            "_view_name": "LayoutView",
            "grid_template_rows": null,
            "right": null,
            "justify_content": null,
            "_view_module": "@jupyter-widgets/base",
            "overflow": null,
            "_model_module_version": "1.2.0",
            "_view_count": null,
            "flex_flow": null,
            "width": null,
            "min_width": null,
            "border": null,
            "align_items": null,
            "bottom": null,
            "_model_module": "@jupyter-widgets/base",
            "top": null,
            "grid_column": null,
            "overflow_y": null,
            "overflow_x": null,
            "grid_auto_flow": null,
            "grid_area": null,
            "grid_template_columns": null,
            "flex": null,
            "_model_name": "LayoutModel",
            "justify_items": null,
            "grid_row": null,
            "max_height": null,
            "align_content": null,
            "visibility": null,
            "align_self": null,
            "height": null,
            "min_height": null,
            "padding": null,
            "grid_auto_rows": null,
            "grid_gap": null,
            "max_width": null,
            "order": null,
            "_view_module_version": "1.2.0",
            "grid_template_areas": null,
            "object_position": null,
            "object_fit": null,
            "grid_auto_columns": null,
            "margin": null,
            "display": null,
            "left": null
          }
        },
        "3d78a3bc006641dd8af909595b6d21cb": {
          "model_module": "@jupyter-widgets/controls",
          "model_name": "FloatProgressModel",
          "state": {
            "_view_name": "ProgressView",
            "style": "IPY_MODEL_a6f323f8860c445283c97cf356d3881b",
            "_dom_classes": [],
            "description": " 53%",
            "_model_name": "FloatProgressModel",
            "bar_style": "",
            "max": 1000,
            "_view_module": "@jupyter-widgets/controls",
            "_model_module_version": "1.5.0",
            "value": 531,
            "_view_count": null,
            "_view_module_version": "1.5.0",
            "orientation": "horizontal",
            "min": 0,
            "description_tooltip": null,
            "_model_module": "@jupyter-widgets/controls",
            "layout": "IPY_MODEL_159289b284f6412fb6ad8d7f171860ea"
          }
        },
        "126547696b0349c9a7c6d0d4fca94ced": {
          "model_module": "@jupyter-widgets/controls",
          "model_name": "HTMLModel",
          "state": {
            "_view_name": "HTMLView",
            "style": "IPY_MODEL_93dba75ed32147c2b3c7ae2e02bcedb8",
            "_dom_classes": [],
            "description": "",
            "_model_name": "HTMLModel",
            "placeholder": "​",
            "_view_module": "@jupyter-widgets/controls",
            "_model_module_version": "1.5.0",
            "value": " 531/1000 [2:50:14&lt;2:16:39, 17.48s/it]",
            "_view_count": null,
            "_view_module_version": "1.5.0",
            "description_tooltip": null,
            "_model_module": "@jupyter-widgets/controls",
            "layout": "IPY_MODEL_558c1e979bf44acc924e13f306682ad5"
          }
        },
        "a6f323f8860c445283c97cf356d3881b": {
          "model_module": "@jupyter-widgets/controls",
          "model_name": "ProgressStyleModel",
          "state": {
            "_view_name": "StyleView",
            "_model_name": "ProgressStyleModel",
            "description_width": "initial",
            "_view_module": "@jupyter-widgets/base",
            "_model_module_version": "1.5.0",
            "_view_count": null,
            "_view_module_version": "1.2.0",
            "bar_color": null,
            "_model_module": "@jupyter-widgets/controls"
          }
        },
        "159289b284f6412fb6ad8d7f171860ea": {
          "model_module": "@jupyter-widgets/base",
          "model_name": "LayoutModel",
          "state": {
            "_view_name": "LayoutView",
            "grid_template_rows": null,
            "right": null,
            "justify_content": null,
            "_view_module": "@jupyter-widgets/base",
            "overflow": null,
            "_model_module_version": "1.2.0",
            "_view_count": null,
            "flex_flow": null,
            "width": null,
            "min_width": null,
            "border": null,
            "align_items": null,
            "bottom": null,
            "_model_module": "@jupyter-widgets/base",
            "top": null,
            "grid_column": null,
            "overflow_y": null,
            "overflow_x": null,
            "grid_auto_flow": null,
            "grid_area": null,
            "grid_template_columns": null,
            "flex": null,
            "_model_name": "LayoutModel",
            "justify_items": null,
            "grid_row": null,
            "max_height": null,
            "align_content": null,
            "visibility": null,
            "align_self": null,
            "height": null,
            "min_height": null,
            "padding": null,
            "grid_auto_rows": null,
            "grid_gap": null,
            "max_width": null,
            "order": null,
            "_view_module_version": "1.2.0",
            "grid_template_areas": null,
            "object_position": null,
            "object_fit": null,
            "grid_auto_columns": null,
            "margin": null,
            "display": null,
            "left": null
          }
        },
        "93dba75ed32147c2b3c7ae2e02bcedb8": {
          "model_module": "@jupyter-widgets/controls",
          "model_name": "DescriptionStyleModel",
          "state": {
            "_view_name": "StyleView",
            "_model_name": "DescriptionStyleModel",
            "description_width": "",
            "_view_module": "@jupyter-widgets/base",
            "_model_module_version": "1.5.0",
            "_view_count": null,
            "_view_module_version": "1.2.0",
            "_model_module": "@jupyter-widgets/controls"
          }
        },
        "558c1e979bf44acc924e13f306682ad5": {
          "model_module": "@jupyter-widgets/base",
          "model_name": "LayoutModel",
          "state": {
            "_view_name": "LayoutView",
            "grid_template_rows": null,
            "right": null,
            "justify_content": null,
            "_view_module": "@jupyter-widgets/base",
            "overflow": null,
            "_model_module_version": "1.2.0",
            "_view_count": null,
            "flex_flow": null,
            "width": null,
            "min_width": null,
            "border": null,
            "align_items": null,
            "bottom": null,
            "_model_module": "@jupyter-widgets/base",
            "top": null,
            "grid_column": null,
            "overflow_y": null,
            "overflow_x": null,
            "grid_auto_flow": null,
            "grid_area": null,
            "grid_template_columns": null,
            "flex": null,
            "_model_name": "LayoutModel",
            "justify_items": null,
            "grid_row": null,
            "max_height": null,
            "align_content": null,
            "visibility": null,
            "align_self": null,
            "height": null,
            "min_height": null,
            "padding": null,
            "grid_auto_rows": null,
            "grid_gap": null,
            "max_width": null,
            "order": null,
            "_view_module_version": "1.2.0",
            "grid_template_areas": null,
            "object_position": null,
            "object_fit": null,
            "grid_auto_columns": null,
            "margin": null,
            "display": null,
            "left": null
          }
        },
        "1397e4ce76634fc1bd8275c620653d45": {
          "model_module": "@jupyter-widgets/controls",
          "model_name": "HBoxModel",
          "state": {
            "_view_name": "HBoxView",
            "_dom_classes": [],
            "_model_name": "HBoxModel",
            "_view_module": "@jupyter-widgets/controls",
            "_model_module_version": "1.5.0",
            "_view_count": null,
            "_view_module_version": "1.5.0",
            "box_style": "",
            "layout": "IPY_MODEL_522b7abae749412b94c6a2a386c8fad5",
            "_model_module": "@jupyter-widgets/controls",
            "children": [
              "IPY_MODEL_adbd678e0e704e18a21edabaa18bf27d",
              "IPY_MODEL_504fd873e8ee4faa915e20e1762f6a01"
            ]
          }
        },
        "522b7abae749412b94c6a2a386c8fad5": {
          "model_module": "@jupyter-widgets/base",
          "model_name": "LayoutModel",
          "state": {
            "_view_name": "LayoutView",
            "grid_template_rows": null,
            "right": null,
            "justify_content": null,
            "_view_module": "@jupyter-widgets/base",
            "overflow": null,
            "_model_module_version": "1.2.0",
            "_view_count": null,
            "flex_flow": null,
            "width": null,
            "min_width": null,
            "border": null,
            "align_items": null,
            "bottom": null,
            "_model_module": "@jupyter-widgets/base",
            "top": null,
            "grid_column": null,
            "overflow_y": null,
            "overflow_x": null,
            "grid_auto_flow": null,
            "grid_area": null,
            "grid_template_columns": null,
            "flex": null,
            "_model_name": "LayoutModel",
            "justify_items": null,
            "grid_row": null,
            "max_height": null,
            "align_content": null,
            "visibility": null,
            "align_self": null,
            "height": null,
            "min_height": null,
            "padding": null,
            "grid_auto_rows": null,
            "grid_gap": null,
            "max_width": null,
            "order": null,
            "_view_module_version": "1.2.0",
            "grid_template_areas": null,
            "object_position": null,
            "object_fit": null,
            "grid_auto_columns": null,
            "margin": null,
            "display": null,
            "left": null
          }
        },
        "adbd678e0e704e18a21edabaa18bf27d": {
          "model_module": "@jupyter-widgets/controls",
          "model_name": "FloatProgressModel",
          "state": {
            "_view_name": "ProgressView",
            "style": "IPY_MODEL_71f5a9488c7145ef8a8789f977f3207b",
            "_dom_classes": [],
            "description": "100%",
            "_model_name": "FloatProgressModel",
            "bar_style": "success",
            "max": 10000,
            "_view_module": "@jupyter-widgets/controls",
            "_model_module_version": "1.5.0",
            "value": 10000,
            "_view_count": null,
            "_view_module_version": "1.5.0",
            "orientation": "horizontal",
            "min": 0,
            "description_tooltip": null,
            "_model_module": "@jupyter-widgets/controls",
            "layout": "IPY_MODEL_1e1157ee371f4e5590995ab6e168245d"
          }
        },
        "504fd873e8ee4faa915e20e1762f6a01": {
          "model_module": "@jupyter-widgets/controls",
          "model_name": "HTMLModel",
          "state": {
            "_view_name": "HTMLView",
            "style": "IPY_MODEL_049f66330c8043d9af29bae5cbb772a8",
            "_dom_classes": [],
            "description": "",
            "_model_name": "HTMLModel",
            "placeholder": "​",
            "_view_module": "@jupyter-widgets/controls",
            "_model_module_version": "1.5.0",
            "value": " 10000/10000 [1:33:56&lt;00:00,  1.77it/s]",
            "_view_count": null,
            "_view_module_version": "1.5.0",
            "description_tooltip": null,
            "_model_module": "@jupyter-widgets/controls",
            "layout": "IPY_MODEL_5df95ae942d84f008b2694b85cfbd51d"
          }
        },
        "71f5a9488c7145ef8a8789f977f3207b": {
          "model_module": "@jupyter-widgets/controls",
          "model_name": "ProgressStyleModel",
          "state": {
            "_view_name": "StyleView",
            "_model_name": "ProgressStyleModel",
            "description_width": "initial",
            "_view_module": "@jupyter-widgets/base",
            "_model_module_version": "1.5.0",
            "_view_count": null,
            "_view_module_version": "1.2.0",
            "bar_color": null,
            "_model_module": "@jupyter-widgets/controls"
          }
        },
        "1e1157ee371f4e5590995ab6e168245d": {
          "model_module": "@jupyter-widgets/base",
          "model_name": "LayoutModel",
          "state": {
            "_view_name": "LayoutView",
            "grid_template_rows": null,
            "right": null,
            "justify_content": null,
            "_view_module": "@jupyter-widgets/base",
            "overflow": null,
            "_model_module_version": "1.2.0",
            "_view_count": null,
            "flex_flow": null,
            "width": null,
            "min_width": null,
            "border": null,
            "align_items": null,
            "bottom": null,
            "_model_module": "@jupyter-widgets/base",
            "top": null,
            "grid_column": null,
            "overflow_y": null,
            "overflow_x": null,
            "grid_auto_flow": null,
            "grid_area": null,
            "grid_template_columns": null,
            "flex": null,
            "_model_name": "LayoutModel",
            "justify_items": null,
            "grid_row": null,
            "max_height": null,
            "align_content": null,
            "visibility": null,
            "align_self": null,
            "height": null,
            "min_height": null,
            "padding": null,
            "grid_auto_rows": null,
            "grid_gap": null,
            "max_width": null,
            "order": null,
            "_view_module_version": "1.2.0",
            "grid_template_areas": null,
            "object_position": null,
            "object_fit": null,
            "grid_auto_columns": null,
            "margin": null,
            "display": null,
            "left": null
          }
        },
        "049f66330c8043d9af29bae5cbb772a8": {
          "model_module": "@jupyter-widgets/controls",
          "model_name": "DescriptionStyleModel",
          "state": {
            "_view_name": "StyleView",
            "_model_name": "DescriptionStyleModel",
            "description_width": "",
            "_view_module": "@jupyter-widgets/base",
            "_model_module_version": "1.5.0",
            "_view_count": null,
            "_view_module_version": "1.2.0",
            "_model_module": "@jupyter-widgets/controls"
          }
        },
        "5df95ae942d84f008b2694b85cfbd51d": {
          "model_module": "@jupyter-widgets/base",
          "model_name": "LayoutModel",
          "state": {
            "_view_name": "LayoutView",
            "grid_template_rows": null,
            "right": null,
            "justify_content": null,
            "_view_module": "@jupyter-widgets/base",
            "overflow": null,
            "_model_module_version": "1.2.0",
            "_view_count": null,
            "flex_flow": null,
            "width": null,
            "min_width": null,
            "border": null,
            "align_items": null,
            "bottom": null,
            "_model_module": "@jupyter-widgets/base",
            "top": null,
            "grid_column": null,
            "overflow_y": null,
            "overflow_x": null,
            "grid_auto_flow": null,
            "grid_area": null,
            "grid_template_columns": null,
            "flex": null,
            "_model_name": "LayoutModel",
            "justify_items": null,
            "grid_row": null,
            "max_height": null,
            "align_content": null,
            "visibility": null,
            "align_self": null,
            "height": null,
            "min_height": null,
            "padding": null,
            "grid_auto_rows": null,
            "grid_gap": null,
            "max_width": null,
            "order": null,
            "_view_module_version": "1.2.0",
            "grid_template_areas": null,
            "object_position": null,
            "object_fit": null,
            "grid_auto_columns": null,
            "margin": null,
            "display": null,
            "left": null
          }
        }
      }
    }
  },
  "cells": [
    {
      "cell_type": "markdown",
      "metadata": {
        "id": "wMpNJ2TUKtHB"
      },
      "source": [
        "# Libraries"
      ]
    },
    {
      "cell_type": "code",
      "metadata": {
        "id": "bwVWafU6AZak"
      },
      "source": [
        "import pandas as pd\n",
        "import numpy as np\n",
        "import seaborn as sns\n",
        "import matplotlib.pyplot as plt\n",
        "import re\n",
        "from sklearn.model_selection import train_test_split\n",
        "from sklearn.metrics import accuracy_score, classification_report"
      ],
      "execution_count": null,
      "outputs": []
    },
    {
      "cell_type": "code",
      "metadata": {
        "colab": {
          "base_uri": "https://localhost:8080/"
        },
        "id": "RMMY-ifvAZaq",
        "outputId": "a7871ec2-b34a-422b-9102-5e4d1855fc0a"
      },
      "source": [
        "import torch\n",
        "import torch.nn.functional as F\n",
        "import torch.nn as nn\n",
        "import torch.optim as optim\n",
        "import torchvision\n",
        "\n",
        "from time import time\n",
        "from collections import Counter\n",
        "from tqdm.notebook import tqdm\n",
        "import gc\n",
        "import warnings\n",
        "gc.enable()\n",
        "warnings.filterwarnings(\"ignore\")\n",
        "\n",
        "torch.set_printoptions(linewidth=120)\n",
        "torch.set_grad_enabled(True)"
      ],
      "execution_count": null,
      "outputs": [
        {
          "output_type": "execute_result",
          "data": {
            "text/plain": [
              "<torch.autograd.grad_mode.set_grad_enabled at 0x7f65af07ff90>"
            ]
          },
          "metadata": {
            "tags": []
          },
          "execution_count": 2
        }
      ]
    },
    {
      "cell_type": "code",
      "metadata": {
        "colab": {
          "base_uri": "https://localhost:8080/"
        },
        "id": "XYYTOg4SAZar",
        "outputId": "4fe90623-5fdc-4d6e-cbc6-8e75dd8fdc1d"
      },
      "source": [
        "import nltk\n",
        "nltk.download('stopwords')\n",
        "nltk.download('punkt')"
      ],
      "execution_count": null,
      "outputs": [
        {
          "output_type": "stream",
          "text": [
            "[nltk_data] Downloading package stopwords to /root/nltk_data...\n",
            "[nltk_data]   Unzipping corpora/stopwords.zip.\n",
            "[nltk_data] Downloading package punkt to /root/nltk_data...\n",
            "[nltk_data]   Unzipping tokenizers/punkt.zip.\n"
          ],
          "name": "stdout"
        },
        {
          "output_type": "execute_result",
          "data": {
            "text/plain": [
              "True"
            ]
          },
          "metadata": {
            "tags": []
          },
          "execution_count": 3
        }
      ]
    },
    {
      "cell_type": "code",
      "metadata": {
        "colab": {
          "base_uri": "https://localhost:8080/"
        },
        "id": "eBFCx3n6It5c",
        "outputId": "7809b5b0-578e-47e9-cff1-476eef4af4b6"
      },
      "source": [
        "from google.colab import drive\n",
        "drive.mount('/content/gdrive')"
      ],
      "execution_count": null,
      "outputs": [
        {
          "output_type": "stream",
          "text": [
            "Mounted at /content/gdrive\n"
          ],
          "name": "stdout"
        }
      ]
    },
    {
      "cell_type": "code",
      "metadata": {
        "id": "SL2og1KhAZaz"
      },
      "source": [
        "device = torch.device('cuda:0') if torch.cuda.is_available() else torch.device('cpu')"
      ],
      "execution_count": null,
      "outputs": []
    },
    {
      "cell_type": "markdown",
      "metadata": {
        "id": "bMbIGtWlYIBR"
      },
      "source": [
        "# Data Preprocessing"
      ]
    },
    {
      "cell_type": "code",
      "metadata": {
        "tags": [],
        "colab": {
          "base_uri": "https://localhost:8080/",
          "height": 419
        },
        "id": "82O5O3ZuAZas",
        "outputId": "27cc9e64-daa2-46e4-c511-c29cc648bf49"
      },
      "source": [
        "df = pd.read_csv('/content/gdrive/My Drive/Colab Notebooks/IMDB_Dataset.csv')\n",
        "df"
      ],
      "execution_count": null,
      "outputs": [
        {
          "output_type": "execute_result",
          "data": {
            "text/html": [
              "<div>\n",
              "<style scoped>\n",
              "    .dataframe tbody tr th:only-of-type {\n",
              "        vertical-align: middle;\n",
              "    }\n",
              "\n",
              "    .dataframe tbody tr th {\n",
              "        vertical-align: top;\n",
              "    }\n",
              "\n",
              "    .dataframe thead th {\n",
              "        text-align: right;\n",
              "    }\n",
              "</style>\n",
              "<table border=\"1\" class=\"dataframe\">\n",
              "  <thead>\n",
              "    <tr style=\"text-align: right;\">\n",
              "      <th></th>\n",
              "      <th>review</th>\n",
              "      <th>sentiment</th>\n",
              "    </tr>\n",
              "  </thead>\n",
              "  <tbody>\n",
              "    <tr>\n",
              "      <th>0</th>\n",
              "      <td>One of the other reviewers has mentioned that ...</td>\n",
              "      <td>positive</td>\n",
              "    </tr>\n",
              "    <tr>\n",
              "      <th>1</th>\n",
              "      <td>A wonderful little production. &lt;br /&gt;&lt;br /&gt;The...</td>\n",
              "      <td>positive</td>\n",
              "    </tr>\n",
              "    <tr>\n",
              "      <th>2</th>\n",
              "      <td>I thought this was a wonderful way to spend ti...</td>\n",
              "      <td>positive</td>\n",
              "    </tr>\n",
              "    <tr>\n",
              "      <th>3</th>\n",
              "      <td>Basically there's a family where a little boy ...</td>\n",
              "      <td>negative</td>\n",
              "    </tr>\n",
              "    <tr>\n",
              "      <th>4</th>\n",
              "      <td>Petter Mattei's \"Love in the Time of Money\" is...</td>\n",
              "      <td>positive</td>\n",
              "    </tr>\n",
              "    <tr>\n",
              "      <th>...</th>\n",
              "      <td>...</td>\n",
              "      <td>...</td>\n",
              "    </tr>\n",
              "    <tr>\n",
              "      <th>49995</th>\n",
              "      <td>I thought this movie did a down right good job...</td>\n",
              "      <td>positive</td>\n",
              "    </tr>\n",
              "    <tr>\n",
              "      <th>49996</th>\n",
              "      <td>Bad plot, bad dialogue, bad acting, idiotic di...</td>\n",
              "      <td>negative</td>\n",
              "    </tr>\n",
              "    <tr>\n",
              "      <th>49997</th>\n",
              "      <td>I am a Catholic taught in parochial elementary...</td>\n",
              "      <td>negative</td>\n",
              "    </tr>\n",
              "    <tr>\n",
              "      <th>49998</th>\n",
              "      <td>I'm going to have to disagree with the previou...</td>\n",
              "      <td>negative</td>\n",
              "    </tr>\n",
              "    <tr>\n",
              "      <th>49999</th>\n",
              "      <td>No one expects the Star Trek movies to be high...</td>\n",
              "      <td>negative</td>\n",
              "    </tr>\n",
              "  </tbody>\n",
              "</table>\n",
              "<p>50000 rows × 2 columns</p>\n",
              "</div>"
            ],
            "text/plain": [
              "                                                  review sentiment\n",
              "0      One of the other reviewers has mentioned that ...  positive\n",
              "1      A wonderful little production. <br /><br />The...  positive\n",
              "2      I thought this was a wonderful way to spend ti...  positive\n",
              "3      Basically there's a family where a little boy ...  negative\n",
              "4      Petter Mattei's \"Love in the Time of Money\" is...  positive\n",
              "...                                                  ...       ...\n",
              "49995  I thought this movie did a down right good job...  positive\n",
              "49996  Bad plot, bad dialogue, bad acting, idiotic di...  negative\n",
              "49997  I am a Catholic taught in parochial elementary...  negative\n",
              "49998  I'm going to have to disagree with the previou...  negative\n",
              "49999  No one expects the Star Trek movies to be high...  negative\n",
              "\n",
              "[50000 rows x 2 columns]"
            ]
          },
          "metadata": {
            "tags": []
          },
          "execution_count": 6
        }
      ]
    },
    {
      "cell_type": "code",
      "metadata": {
        "colab": {
          "base_uri": "https://localhost:8080/"
        },
        "id": "QBs6WusjAZas",
        "outputId": "cc4bc000-e61b-4f7d-ba94-eae378cbd309"
      },
      "source": [
        "df['sentiment'].unique()"
      ],
      "execution_count": null,
      "outputs": [
        {
          "output_type": "execute_result",
          "data": {
            "text/plain": [
              "array(['positive', 'negative'], dtype=object)"
            ]
          },
          "metadata": {
            "tags": []
          },
          "execution_count": 7
        }
      ]
    },
    {
      "cell_type": "code",
      "metadata": {
        "id": "xbRwbyTOAZas"
      },
      "source": [
        "classes = {'positive':1, 'negative':0}\n",
        "df['sentiment'] = (df['sentiment'].values == 'positive').astype(int)\n"
      ],
      "execution_count": null,
      "outputs": []
    },
    {
      "cell_type": "code",
      "metadata": {
        "colab": {
          "base_uri": "https://localhost:8080/"
        },
        "id": "IgdEFUeBAZat",
        "outputId": "d9c45770-d1d4-443a-a4ba-d2e717e701c1"
      },
      "source": [
        "df.info()"
      ],
      "execution_count": null,
      "outputs": [
        {
          "output_type": "stream",
          "text": [
            "<class 'pandas.core.frame.DataFrame'>\n",
            "RangeIndex: 50000 entries, 0 to 49999\n",
            "Data columns (total 2 columns):\n",
            " #   Column     Non-Null Count  Dtype \n",
            "---  ------     --------------  ----- \n",
            " 0   review     50000 non-null  object\n",
            " 1   sentiment  50000 non-null  int64 \n",
            "dtypes: int64(1), object(1)\n",
            "memory usage: 781.4+ KB\n"
          ],
          "name": "stdout"
        }
      ]
    },
    {
      "cell_type": "code",
      "metadata": {
        "id": "nLXeiIWMAZat"
      },
      "source": [
        "df.drop_duplicates(inplace=True, ignore_index=True)"
      ],
      "execution_count": null,
      "outputs": []
    },
    {
      "cell_type": "code",
      "metadata": {
        "colab": {
          "base_uri": "https://localhost:8080/",
          "height": 265
        },
        "id": "tc9mdPuWAZat",
        "outputId": "39938ea2-7978-4e0e-b9ec-df33cddf4467"
      },
      "source": [
        "df['review'].str.len().plot();"
      ],
      "execution_count": null,
      "outputs": [
        {
          "output_type": "display_data",
          "data": {
            "image/png": "[encoded data removed]",
            "text/plain": [
              "<Figure size 432x288 with 1 Axes>"
            ]
          },
          "metadata": {
            "tags": [],
            "needs_background": "light"
          }
        }
      ]
    },
    {
      "cell_type": "code",
      "metadata": {
        "colab": {
          "base_uri": "https://localhost:8080/"
        },
        "id": "s0SgRjnXAZat",
        "outputId": "696e7a5e-6aaa-48b0-aa54-047883b26fe2"
      },
      "source": [
        "df.info()"
      ],
      "execution_count": null,
      "outputs": [
        {
          "output_type": "stream",
          "text": [
            "<class 'pandas.core.frame.DataFrame'>\n",
            "RangeIndex: 49582 entries, 0 to 49581\n",
            "Data columns (total 2 columns):\n",
            " #   Column     Non-Null Count  Dtype \n",
            "---  ------     --------------  ----- \n",
            " 0   review     49582 non-null  object\n",
            " 1   sentiment  49582 non-null  int64 \n",
            "dtypes: int64(1), object(1)\n",
            "memory usage: 774.8+ KB\n"
          ],
          "name": "stdout"
        }
      ]
    },
    {
      "cell_type": "code",
      "metadata": {
        "id": "z0SPjGc-AZau"
      },
      "source": [
        "stopwords = list(set(nltk.corpus.stopwords.words(\"english\")))\n",
        "for rm in [\"didn't\", \"don't\", \"doesn't\", \"wasn't\", \"weren't\", \"aren't\", \"won't\", 'no', \"isn't\"]: stopwords.remove(rm)"
      ],
      "execution_count": null,
      "outputs": []
    },
    {
      "cell_type": "code",
      "metadata": {
        "id": "qk5VZJikAZaw"
      },
      "source": [
        "def sentence_cleaner(text):\n",
        "    text = text.lower()\n",
        "    text = re.sub('<br /><br />_+<br /><br />','. ', text)\n",
        "    text = text.replace(\"<br /><br />\",\". \")\n",
        "    text = re.sub(r'\\.+','.',text)\n",
        "    text = re.sub(r'no+[so]o','no', text)\n",
        "    text = re.sub(r's+t+u+p+i+d','stupid', text)\n",
        "    text = re.sub(r'ter+i+ble','terrible', text)\n",
        "    text = re.sub(r'bo+r+in+g','boring',text)\n",
        "    text = re.sub(r'goo+d','good',text)\n",
        "    text = re.sub(r'wo+nderful','wonderful',text)\n",
        "    text = re.sub(r'sup[eu]+r+b','superb',text)\n",
        "    text = re.sub(r'lo+v+e','love',text)\n",
        "    text = re.sub(r'na+h','no',text)   \n",
        "    text = re.sub(r'shi+t+y','shit',text)\n",
        "    text = re.sub(r'we+ll','well',text)\n",
        "    \n",
        "    text = re.sub('http[s]?://(?:[a-zA-Z]|[0-9]|[$-_@.&+#]|[!*\\(\\),]|(?:%[0-9a-fA-F][0-9a-fA-F]))+','', text)\n",
        "    text = re.sub('www.(?:[a-zA-Z]|[0-9]|[$-_@.&+#]|[!*\\(\\),]|(?:%[0-9a-fA-F][0-9a-fA-F]))+','', text)\n",
        "    text = re.sub('\\d+','', text)\n",
        "    text = re.sub(r'[^\\w\\s]','', text)\n",
        "    text = text.replace(\"scheduleservlet?action_detail=detail&focus_id=598947\",\"\")\n",
        "\n",
        "    longestwords_dict = {\"It'saboutaguylookingforthewomanwhosavedhisgrandpafromtheNazis\".lower(): \"It's about a guy looking for the woman who saved his grandpa from the Nazis\".lower(),\n",
        "                     \"LoveHateDreamsLifeWorkPlayFriends\".lower():\"Love Hate Dreams Life Work Play Friends\".lower(),\n",
        "                     \"anothermaniacherewegoagain\":\"another maniac here we go again\",\n",
        "                     \"heyijustleftmycoatbehind\":\"hey i just leftmy coat behind \",\n",
        "                     \"brianjonestownmassacre\":\"brian jonestown massacre\",\n",
        "                     \"cough2Fast2Furiouscough\".lower():\"cough 2 Fast 2 Furious cough\".lower(),\n",
        "                     \"realityshowfictionnal\":\"reality show fictional\",\n",
        "                     \"hongkongmovieshootouts\":\"hongkong movie shootouts\",\n",
        "                     \"worlddestructionthemes\":\"world destruction themes\",\n",
        "                     \"redoredoredocopycopycopy\":\"redo redo redo copy copy copy\",\n",
        "                     \"whateverherlastnameis\":\"what ever her last name is\",\n",
        "                     \"specialagentfoxmulder\":\"special agent fox mulder\",\n",
        "                     \"ammmmmbbbererrrrrrrrrgerrrrrrrssss\":\"amber gas\"}\n",
        "\n",
        "    for i,j in longestwords_dict.items(): text.replace(i,j)\n",
        "\n",
        "    return text\n",
        "\n",
        "def token_cleaner(tokens):\n",
        "    scrap = [\".\",\",\",\";\",\"&\",\"'s\", \":\", \"?\", \"!\",\"(\",\")\",\\\n",
        "            \"'\",\"`\",\"''\",\"``\",\"\\\"\",\"“\",\" \",\"'m\",\"'no\",\"***\",\"--\",\"[\",\"]\",\"{\",\"}\",\"~\",\"@\",\"#\",\"$\",\"%\",\"^\",\"*\",\"/\",\"<\",\">\",\"+\",\"-\",\"=\"]\n",
        "    new_tokens = []\n",
        "    for token in tokens:\n",
        "        token = token.strip(\"_\")\n",
        "        token = token.lstrip(\"'\")\n",
        "        token = token.lstrip(\"-\")\n",
        "\n",
        "        if (token.replace(\" \",\"\").isdecimal()) and (token.count(\"_\") == len(token)): token = \"\"\n",
        "\n",
        "        if len(token) and (token not in scrap) and (token not in stopwords): new_tokens.append(token)\n",
        "    return new_tokens\n"
      ],
      "execution_count": null,
      "outputs": []
    },
    {
      "cell_type": "code",
      "metadata": {
        "id": "a_1262v8AZaw"
      },
      "source": [
        "df['review'] = df['review'].apply(lambda x: sentence_cleaner(x))"
      ],
      "execution_count": null,
      "outputs": []
    },
    {
      "cell_type": "code",
      "metadata": {
        "id": "8wIQV_D-AZax"
      },
      "source": [
        "df['review'] = df['review'].apply(lambda x: nltk.word_tokenize(x))"
      ],
      "execution_count": null,
      "outputs": []
    },
    {
      "cell_type": "code",
      "metadata": {
        "id": "4BEo2q23AZax"
      },
      "source": [
        "df['review'] = df['review'].apply(lambda x: token_cleaner(x))"
      ],
      "execution_count": null,
      "outputs": []
    },
    {
      "cell_type": "code",
      "metadata": {
        "colab": {
          "base_uri": "https://localhost:8080/",
          "height": 279
        },
        "id": "iOCZ6zsKAZay",
        "outputId": "9cd66941-0854-4dc5-cf32-ce30a5ab0593"
      },
      "source": [
        "sns.countplot(x = 'sentiment', data = df);"
      ],
      "execution_count": null,
      "outputs": [
        {
          "output_type": "display_data",
          "data": {
            "image/png": "[encoded data removed]",
            "text/plain": [
              "<Figure size 432x288 with 1 Axes>"
            ]
          },
          "metadata": {
            "tags": [],
            "needs_background": "light"
          }
        }
      ]
    },
    {
      "cell_type": "markdown",
      "metadata": {
        "id": "Hfb3VUNjYXxv"
      },
      "source": [
        "# Skip Gram Model"
      ]
    },
    {
      "cell_type": "code",
      "metadata": {
        "colab": {
          "base_uri": "https://localhost:8080/"
        },
        "id": "o39a1KFSAZay",
        "outputId": "f5efe7c2-138c-44b9-8d0f-e38ecf031c8b"
      },
      "source": [
        "word_list = []\n",
        "for sent in df['review'].values: word_list.extend(sent)\n",
        "\n",
        "print('Total no. of unique words in the corpus: ', len(set(word_list)))"
      ],
      "execution_count": null,
      "outputs": [
        {
          "output_type": "stream",
          "text": [
            "Total no. of unique words in the corpus:  162214\n"
          ],
          "name": "stdout"
        }
      ]
    },
    {
      "cell_type": "code",
      "metadata": {
        "colab": {
          "base_uri": "https://localhost:8080/"
        },
        "id": "yh_IeeKPAZay",
        "outputId": "8ac425b2-64d4-43ea-d076-f76ff1e592c8"
      },
      "source": [
        "vocab_cnt = Counter()\n",
        "vocab_cnt.update(word_list)\n",
        "vocab_cnt = Counter({w:c for w,c in vocab_cnt.items() if c > 5})\n",
        "\n",
        "print(\"Total unique words after ignoring words occuring less than 6 times:\",len(vocab_cnt))"
      ],
      "execution_count": null,
      "outputs": [
        {
          "output_type": "stream",
          "text": [
            "Total unique words after ignoring words occuring less than 6 times: 38206\n"
          ],
          "name": "stdout"
        }
      ]
    },
    {
      "cell_type": "code",
      "metadata": {
        "id": "4dycFrooAZay"
      },
      "source": [
        "word_list = list(vocab_cnt.keys())\n",
        "word_list.sort()\n",
        "vocab_size = len(word_list)"
      ],
      "execution_count": null,
      "outputs": []
    },
    {
      "cell_type": "code",
      "metadata": {
        "id": "e2D6dfbvAZay"
      },
      "source": [
        "word_dict = {w: i for i, w in enumerate(word_list)}\n",
        "vocab_size = len(word_list)\n",
        "\n",
        "skip_grams = []\n",
        "\n",
        "for sent in  df['review'].values:\n",
        "    for i in range(1, len(sent)-1):     \n",
        "        try:\n",
        "            target = word_dict[sent[i]]         \n",
        "            context = [word_dict[sent[i - 1]], word_dict[sent[i + 1]]]          #window_size = 1\n",
        "            for w in context:\n",
        "                skip_grams.append([target, w])\n",
        "        except: continue"
      ],
      "execution_count": null,
      "outputs": []
    },
    {
      "cell_type": "code",
      "metadata": {
        "colab": {
          "base_uri": "https://localhost:8080/"
        },
        "id": "xFT3_TC6AZaz",
        "outputId": "2817b0bc-fdb0-4e91-f392-f93c5c582fba"
      },
      "source": [
        "print('Total no. of skip grams: ',len(skip_grams))"
      ],
      "execution_count": null,
      "outputs": [
        {
          "output_type": "stream",
          "text": [
            "Total no. of skip grams:  10612482\n"
          ],
          "name": "stdout"
        }
      ]
    },
    {
      "cell_type": "code",
      "metadata": {
        "id": "xPiZAF3uosfQ"
      },
      "source": [
        "np.save('/content/gdrive/My Drive/Colab Notebooks/Saved_models/skip_grams.npy',skip_grams)"
      ],
      "execution_count": null,
      "outputs": []
    },
    {
      "cell_type": "code",
      "metadata": {
        "id": "2YzIOAt0AZaz"
      },
      "source": [
        "embed_lr = 0.001\n",
        "embed_batch_size = 4096\n",
        "embed_dimension = 200\n",
        "tot_epochs =  1000"
      ],
      "execution_count": null,
      "outputs": []
    },
    {
      "cell_type": "code",
      "metadata": {
        "id": "F2IxXNonAZaz"
      },
      "source": [
        "@torch.no_grad()\n",
        "def prepare_batch_from_skip_grams(skip_grams, batch_size):\n",
        "    random_inputs = []\n",
        "    random_labels = []\n",
        "    random_index = np.random.choice(range(len(skip_grams)), batch_size, replace=False)\n",
        "    for i in random_index:\n",
        "        input_temp = [0]*vocab_size\n",
        "        input_temp[skip_grams[i][0]] = 1\n",
        "        random_inputs.append(input_temp)  # target\n",
        "        random_labels.append(skip_grams[i][1])  # context word\n",
        "    return np.array(random_inputs), np.array(random_labels)\n"
      ],
      "execution_count": null,
      "outputs": []
    },
    {
      "cell_type": "code",
      "metadata": {
        "id": "oyuzBwVfAZaz"
      },
      "source": [
        "class SkipGram(nn.Module):\n",
        "    def __init__(self):\n",
        "        super(SkipGram, self).__init__()\n",
        "        self.linear1 = nn.Linear(vocab_size, embed_dimension,bias=False)\n",
        "        self.linear2 = nn.Linear(embed_dimension, vocab_size,bias=False)\n",
        "\n",
        "    def forward(self,x):\n",
        "        hidden = self.linear1(x)\n",
        "        out = self.linear2(hidden)\n",
        "        return out"
      ],
      "execution_count": null,
      "outputs": []
    },
    {
      "cell_type": "code",
      "metadata": {
        "colab": {
          "base_uri": "https://localhost:8080/"
        },
        "id": "Qn1Bb8yXAZa0",
        "outputId": "052364ed-53c2-434d-bbc9-5c20ac4b4076"
      },
      "source": [
        "skip_gram_model = SkipGram().to(device)\n",
        "model_save_name = 'LSTM_sentiment_embeds.pt'\n",
        "path = F\"/content/gdrive/My Drive/Colab Notebooks/Saved_models/{model_save_name}\"\n",
        "skip_gram_model.load_state_dict(torch.load(path, map_location=device),strict=True)\n",
        "skip_gram_model.to(device)\n",
        "skip_gram_model.train()"
      ],
      "execution_count": null,
      "outputs": [
        {
          "output_type": "execute_result",
          "data": {
            "text/plain": [
              "SkipGram(\n",
              "  (linear1): Linear(in_features=38206, out_features=200, bias=False)\n",
              "  (linear2): Linear(in_features=200, out_features=38206, bias=False)\n",
              ")"
            ]
          },
          "metadata": {
            "tags": []
          },
          "execution_count": 63
        }
      ]
    },
    {
      "cell_type": "code",
      "metadata": {
        "colab": {
          "base_uri": "https://localhost:8080/",
          "height": 950,
          "referenced_widgets": [
            "c233b53c5d9c44018ffdc426a82f6195",
            "01ba61a8cc414f71ac5649175d34cb89",
            "3d78a3bc006641dd8af909595b6d21cb",
            "126547696b0349c9a7c6d0d4fca94ced",
            "a6f323f8860c445283c97cf356d3881b",
            "159289b284f6412fb6ad8d7f171860ea",
            "93dba75ed32147c2b3c7ae2e02bcedb8",
            "558c1e979bf44acc924e13f306682ad5"
          ]
        },
        "id": "TlGxephVAZa0",
        "outputId": "6f9f294e-1695-4fc0-aa1e-6fbf39af9ab8"
      },
      "source": [
        "embed_lr = 0.001\n",
        "tot_epochs =  1000\n",
        "losses = []\n",
        "\n",
        "criterion = nn.CrossEntropyLoss()\n",
        "optimizer = optim.Adam(skip_gram_model.parameters(), lr=embed_lr)\n",
        "\n",
        "model_save_name = 'LSTM_sentiment_embeds.pt'\n",
        "path = F\"/content/gdrive/My Drive/Colab Notebooks/Saved_models/{model_save_name}\"\n",
        "\n",
        "skip_gram_model.train()\n",
        "for epoch in tqdm(range(tot_epochs)):\n",
        "\n",
        "    previous_epoch_timestamp = time()\n",
        "    inputs,labels = prepare_batch_from_skip_grams(skip_grams, embed_batch_size)\n",
        "    inputs = torch.from_numpy(inputs).float().to(device)\n",
        "    labels = torch.from_numpy(labels).long().to(device)\n",
        "\n",
        "    preds = skip_gram_model(inputs)\n",
        "    loss = criterion(preds, labels)\n",
        "    losses.append(loss.item())\n",
        "\n",
        "    loss.backward()\n",
        "    optimizer.step()\n",
        "    optimizer.zero_grad(set_to_none=True)\n",
        "\n",
        "    if epoch % 10 == 9:\n",
        "        print('Epoch: %d, loss: %.6f' %(epoch + 1, loss),f', time took for this epoch: {time()-previous_epoch_timestamp}')\n",
        "\n",
        "    if epoch%250 == 0: torch.save(skip_gram_model.state_dict(),path)\n",
        "\n",
        "torch.cuda.empty_cache()\n",
        "torch.save(skip_gram_model.state_dict(),path)"
      ],
      "execution_count": null,
      "outputs": [
        {
          "output_type": "display_data",
          "data": {
            "application/vnd.jupyter.widget-view+json": {
              "model_id": "c233b53c5d9c44018ffdc426a82f6195",
              "version_minor": 0,
              "version_major": 2
            },
            "text/plain": [
              "HBox(children=(FloatProgress(value=0.0, max=1000.0), HTML(value='')))"
            ]
          },
          "metadata": {
            "tags": []
          }
        },
        {
          "output_type": "stream",
          "text": [
            "Epoch: 10, loss: 19.679464, train_acc: 0.015869, lr: 0.010000 , time took for this epoch: 20.277894735336304\n",
            "Epoch: 20, loss: 18.965954, train_acc: 0.017822, lr: 0.010000 , time took for this epoch: 20.88726234436035\n",
            "Epoch: 30, loss: 17.931618, train_acc: 0.020264, lr: 0.010000 , time took for this epoch: 20.761378526687622\n",
            "Epoch: 40, loss: 17.234312, train_acc: 0.024170, lr: 0.010000 , time took for this epoch: 20.77065873146057\n",
            "Epoch: 50, loss: 17.497650, train_acc: 0.027100, lr: 0.010000 , time took for this epoch: 20.861411571502686\n",
            "Epoch: 60, loss: 16.743546, train_acc: 0.022949, lr: 0.010000 , time took for this epoch: 20.6287260055542\n",
            "Epoch: 70, loss: 16.266762, train_acc: 0.023438, lr: 0.010000 , time took for this epoch: 20.298937559127808\n",
            "Epoch: 80, loss: 15.247561, train_acc: 0.025391, lr: 0.010000 , time took for this epoch: 20.293034076690674\n",
            "Epoch: 90, loss: 15.598787, train_acc: 0.026367, lr: 0.010000 , time took for this epoch: 20.939169883728027\n",
            "Epoch: 100, loss: 15.084436, train_acc: 0.027344, lr: 0.010000 , time took for this epoch: 20.718373775482178\n",
            "Epoch: 110, loss: 14.662943, train_acc: 0.028076, lr: 0.008000 , time took for this epoch: 21.392183780670166\n",
            "Epoch: 120, loss: 14.835065, train_acc: 0.025879, lr: 0.008000 , time took for this epoch: 20.07806372642517\n",
            "Epoch: 130, loss: 14.780623, train_acc: 0.025635, lr: 0.008000 , time took for this epoch: 20.24815559387207\n",
            "Epoch: 140, loss: 14.853651, train_acc: 0.032715, lr: 0.008000 , time took for this epoch: 19.516068696975708\n",
            "Epoch: 150, loss: 14.536936, train_acc: 0.026123, lr: 0.008000 , time took for this epoch: 19.398455381393433\n",
            "Epoch: 160, loss: 14.018956, train_acc: 0.031006, lr: 0.008000 , time took for this epoch: 19.751513242721558\n",
            "Epoch: 170, loss: 13.818169, train_acc: 0.021729, lr: 0.008000 , time took for this epoch: 20.3268985748291\n",
            "Epoch: 180, loss: 13.786628, train_acc: 0.029541, lr: 0.008000 , time took for this epoch: 20.337538242340088\n",
            "Epoch: 190, loss: 13.614719, train_acc: 0.024658, lr: 0.008000 , time took for this epoch: 20.44302773475647\n",
            "Epoch: 200, loss: 13.322219, train_acc: 0.027588, lr: 0.008000 , time took for this epoch: 20.576069355010986\n",
            "Epoch: 210, loss: 13.404610, train_acc: 0.027100, lr: 0.006400 , time took for this epoch: 20.305311918258667\n",
            "Epoch: 220, loss: 13.540542, train_acc: 0.026367, lr: 0.006400 , time took for this epoch: 19.858052968978882\n",
            "Epoch: 230, loss: 13.216743, train_acc: 0.030273, lr: 0.006400 , time took for this epoch: 21.33811044692993\n",
            "Epoch: 240, loss: 13.218764, train_acc: 0.027344, lr: 0.006400 , time took for this epoch: 20.394317150115967\n",
            "Epoch: 250, loss: 13.260860, train_acc: 0.029297, lr: 0.006400 , time took for this epoch: 20.500749349594116\n",
            "Epoch: 260, loss: 12.980121, train_acc: 0.029541, lr: 0.006400 , time took for this epoch: 19.2191903591156\n",
            "Epoch: 270, loss: 12.673671, train_acc: 0.031738, lr: 0.006400 , time took for this epoch: 19.25617218017578\n",
            "Epoch: 280, loss: 12.570364, train_acc: 0.032471, lr: 0.006400 , time took for this epoch: 19.168437242507935\n",
            "Epoch: 290, loss: 12.850674, train_acc: 0.031006, lr: 0.006400 , time took for this epoch: 19.50105381011963\n",
            "Epoch: 300, loss: 12.384304, train_acc: 0.034180, lr: 0.006400 , time took for this epoch: 19.209813356399536\n",
            "Epoch: 310, loss: 12.639581, train_acc: 0.028809, lr: 0.005120 , time took for this epoch: 18.29992651939392\n",
            "Epoch: 320, loss: 12.199472, train_acc: 0.028320, lr: 0.005120 , time took for this epoch: 18.127771854400635\n",
            "Epoch: 330, loss: 12.147069, train_acc: 0.031006, lr: 0.005120 , time took for this epoch: 18.284902334213257\n",
            "Epoch: 340, loss: 11.869389, train_acc: 0.031982, lr: 0.005120 , time took for this epoch: 18.475325107574463\n",
            "Epoch: 350, loss: 12.248979, train_acc: 0.033936, lr: 0.005120 , time took for this epoch: 18.772007703781128\n",
            "Epoch: 360, loss: 12.260303, train_acc: 0.026855, lr: 0.005120 , time took for this epoch: 18.754886865615845\n",
            "Epoch: 370, loss: 11.657378, train_acc: 0.032959, lr: 0.005120 , time took for this epoch: 18.703436851501465\n",
            "Epoch: 380, loss: 11.725616, train_acc: 0.028320, lr: 0.005120 , time took for this epoch: 18.254687786102295\n",
            "Epoch: 390, loss: 11.937621, train_acc: 0.038818, lr: 0.005120 , time took for this epoch: 18.027445793151855\n",
            "Epoch: 400, loss: 11.628028, train_acc: 0.029053, lr: 0.005120 , time took for this epoch: 17.96946620941162\n",
            "Epoch: 410, loss: 11.359873, train_acc: 0.035400, lr: 0.004096 , time took for this epoch: 18.27799892425537\n",
            "Epoch: 420, loss: 11.690530, train_acc: 0.029053, lr: 0.004096 , time took for this epoch: 18.030586004257202\n",
            "Epoch: 430, loss: 11.887041, train_acc: 0.028320, lr: 0.004096 , time took for this epoch: 17.50131845474243\n",
            "Epoch: 440, loss: 11.639023, train_acc: 0.033936, lr: 0.004096 , time took for this epoch: 17.59049963951111\n",
            "Epoch: 450, loss: 11.827083, train_acc: 0.031982, lr: 0.004096 , time took for this epoch: 17.72971534729004\n",
            "Epoch: 460, loss: 11.608488, train_acc: 0.027100, lr: 0.004096 , time took for this epoch: 17.535109281539917\n",
            "Epoch: 470, loss: 11.152819, train_acc: 0.028809, lr: 0.004096 , time took for this epoch: 17.853904962539673\n",
            "Epoch: 480, loss: 11.697060, train_acc: 0.031006, lr: 0.004096 , time took for this epoch: 17.873436450958252\n",
            "Epoch: 490, loss: 11.372004, train_acc: 0.028076, lr: 0.004096 , time took for this epoch: 17.58449387550354\n",
            "Epoch: 500, loss: 10.950015, train_acc: 0.037109, lr: 0.004096 , time took for this epoch: 18.206984043121338\n",
            "Epoch: 510, loss: 11.363125, train_acc: 0.029053, lr: 0.003277 , time took for this epoch: 17.426185607910156\n",
            "Epoch: 520, loss: 11.098154, train_acc: 0.036377, lr: 0.003277 , time took for this epoch: 17.009528398513794\n",
            "Epoch: 530, loss: 11.108946, train_acc: 0.029541, lr: 0.003277 , time took for this epoch: 18.012912273406982\n"
          ],
          "name": "stdout"
        }
      ]
    },
    {
      "cell_type": "code",
      "metadata": {
        "id": "8FIuSk5whuTz"
      },
      "source": [
        "torch.cuda.empty_cache()\n",
        "torch.save(skip_gram_model.state_dict(),path)"
      ],
      "execution_count": null,
      "outputs": []
    },
    {
      "cell_type": "code",
      "metadata": {
        "colab": {
          "base_uri": "https://localhost:8080/",
          "height": 295
        },
        "id": "f2yantb29fFw",
        "outputId": "814a4b9f-e22c-49d1-bb6f-7f5175f439ba"
      },
      "source": [
        "plt.plot(np.arange(0,len(losses)),losses)\n",
        "plt.title('Loss vs epoch')\n",
        "plt.xlabel('epoch')\n",
        "plt.ylabel('Loss')\n",
        "plt.grid(1)\n",
        "plt.show()"
      ],
      "execution_count": null,
      "outputs": [
        {
          "output_type": "display_data",
          "data": {
            "image/png": "[encoded data removed]",
            "text/plain": [
              "<Figure size 432x288 with 1 Axes>"
            ]
          },
          "metadata": {
            "tags": [],
            "needs_background": "light"
          }
        }
      ]
    },
    {
      "cell_type": "markdown",
      "metadata": {
        "id": "YAiASM88YjIe"
      },
      "source": [
        "# Trained Embeddings"
      ]
    },
    {
      "cell_type": "code",
      "metadata": {
        "id": "8M7a9iUqGt_O",
        "colab": {
          "base_uri": "https://localhost:8080/"
        },
        "outputId": "2c4443db-3393-4697-bed7-4bee2f17335e"
      },
      "source": [
        "skip_gram_model.eval()\n",
        "w1 = skip_gram_model.linear1.weight.detach().T.cpu().numpy()\n",
        "w2 = skip_gram_model.linear2.weight.detach().cpu().numpy()\n",
        "\n",
        "trainedword2vec = (w1 + w2)/2\n",
        "del w1, w2\n",
        "gc.collect()"
      ],
      "execution_count": null,
      "outputs": [
        {
          "output_type": "execute_result",
          "data": {
            "text/plain": [
              "228"
            ]
          },
          "metadata": {
            "tags": []
          },
          "execution_count": 64
        }
      ]
    },
    {
      "cell_type": "code",
      "metadata": {
        "colab": {
          "base_uri": "https://localhost:8080/"
        },
        "id": "gTwm7r2f_wy4",
        "outputId": "01caf093-abbe-4209-8bcf-7a962d86d358"
      },
      "source": [
        "trainedword2vec.shape"
      ],
      "execution_count": null,
      "outputs": [
        {
          "output_type": "execute_result",
          "data": {
            "text/plain": [
              "(38206, 200)"
            ]
          },
          "metadata": {
            "tags": []
          },
          "execution_count": 65
        }
      ]
    },
    {
      "cell_type": "markdown",
      "metadata": {
        "id": "3JLJbyZ9Y0at"
      },
      "source": [
        "# Tokenizing"
      ]
    },
    {
      "cell_type": "code",
      "metadata": {
        "id": "hqnOU7MFshbB"
      },
      "source": [
        "review_lengths = [len(x) for x in df['review']]"
      ],
      "execution_count": null,
      "outputs": []
    },
    {
      "cell_type": "code",
      "metadata": {
        "colab": {
          "base_uri": "https://localhost:8080/",
          "height": 297
        },
        "id": "B9r08c36Zch0",
        "outputId": "a9fa703e-bef0-4c1c-8d51-216810935c7c"
      },
      "source": [
        "pd.DataFrame(review_lengths).describe()"
      ],
      "execution_count": null,
      "outputs": [
        {
          "output_type": "execute_result",
          "data": {
            "text/html": [
              "<div>\n",
              "<style scoped>\n",
              "    .dataframe tbody tr th:only-of-type {\n",
              "        vertical-align: middle;\n",
              "    }\n",
              "\n",
              "    .dataframe tbody tr th {\n",
              "        vertical-align: top;\n",
              "    }\n",
              "\n",
              "    .dataframe thead th {\n",
              "        text-align: right;\n",
              "    }\n",
              "</style>\n",
              "<table border=\"1\" class=\"dataframe\">\n",
              "  <thead>\n",
              "    <tr style=\"text-align: right;\">\n",
              "      <th></th>\n",
              "      <th>0</th>\n",
              "    </tr>\n",
              "  </thead>\n",
              "  <tbody>\n",
              "    <tr>\n",
              "      <th>count</th>\n",
              "      <td>49582.000000</td>\n",
              "    </tr>\n",
              "    <tr>\n",
              "      <th>mean</th>\n",
              "      <td>119.558892</td>\n",
              "    </tr>\n",
              "    <tr>\n",
              "      <th>std</th>\n",
              "      <td>90.023226</td>\n",
              "    </tr>\n",
              "    <tr>\n",
              "      <th>min</th>\n",
              "      <td>3.000000</td>\n",
              "    </tr>\n",
              "    <tr>\n",
              "      <th>25%</th>\n",
              "      <td>64.000000</td>\n",
              "    </tr>\n",
              "    <tr>\n",
              "      <th>50%</th>\n",
              "      <td>89.000000</td>\n",
              "    </tr>\n",
              "    <tr>\n",
              "      <th>75%</th>\n",
              "      <td>145.000000</td>\n",
              "    </tr>\n",
              "    <tr>\n",
              "      <th>max</th>\n",
              "      <td>1430.000000</td>\n",
              "    </tr>\n",
              "  </tbody>\n",
              "</table>\n",
              "</div>"
            ],
            "text/plain": [
              "                  0\n",
              "count  49582.000000\n",
              "mean     119.558892\n",
              "std       90.023226\n",
              "min        3.000000\n",
              "25%       64.000000\n",
              "50%       89.000000\n",
              "75%      145.000000\n",
              "max     1430.000000"
            ]
          },
          "metadata": {
            "tags": []
          },
          "execution_count": 32
        }
      ]
    },
    {
      "cell_type": "code",
      "metadata": {
        "colab": {
          "base_uri": "https://localhost:8080/",
          "height": 265
        },
        "id": "OTWurZCisKJ5",
        "outputId": "47fc04e7-ff36-4c4b-cc2f-e9b8113f11e5"
      },
      "source": [
        "plt.hist(review_lengths, bins = 100);"
      ],
      "execution_count": null,
      "outputs": [
        {
          "output_type": "display_data",
          "data": {
            "image/png": "[encoded data removed]",
            "text/plain": [
              "<Figure size 432x288 with 1 Axes>"
            ]
          },
          "metadata": {
            "tags": [],
            "needs_background": "light"
          }
        }
      ]
    },
    {
      "cell_type": "code",
      "metadata": {
        "colab": {
          "base_uri": "https://localhost:8080/",
          "height": 265
        },
        "id": "Nl7QUMoRsP4N",
        "outputId": "835644fe-15dc-4828-ed22-01b2d2d617fc"
      },
      "source": [
        "plt.grid(1)\n",
        "plt.boxplot(review_lengths, vert=False,meanline=True,showmeans=True);"
      ],
      "execution_count": null,
      "outputs": [
        {
          "output_type": "display_data",
          "data": {
            "image/png": "[encoded data removed]",
            "text/plain": [
              "<Figure size 432x288 with 1 Axes>"
            ]
          },
          "metadata": {
            "tags": [],
            "needs_background": "light"
          }
        }
      ]
    },
    {
      "cell_type": "markdown",
      "metadata": {
        "id": "eGVEk7QBuXvU"
      },
      "source": [
        "Since, most of the sentences falls under length of 200 words, we consider max sentence length as 200 to pad or truncate reviews."
      ]
    },
    {
      "cell_type": "code",
      "metadata": {
        "id": "FNt9SS2GuUhI"
      },
      "source": [
        "def pad_trucate(sentence,max_length=200):\n",
        "    if len(sentence) > max_length:\n",
        "        return sentence[:max_length]\n",
        "    else:\n",
        "        for i in range(max_length-len(sentence)):\n",
        "            sentence.append(\"<PAD>\")\n",
        "        return sentence"
      ],
      "execution_count": null,
      "outputs": []
    },
    {
      "cell_type": "code",
      "metadata": {
        "id": "oEXaRMxBwAdt"
      },
      "source": [
        "df['review'] = df['review'].apply(lambda x: pad_trucate(x))"
      ],
      "execution_count": null,
      "outputs": []
    },
    {
      "cell_type": "code",
      "metadata": {
        "colab": {
          "base_uri": "https://localhost:8080/",
          "height": 297
        },
        "id": "EyG39x7NwNMY",
        "outputId": "ac8f041f-2d50-4439-da38-d44e818adbe0"
      },
      "source": [
        "pd.DataFrame([len(x) for x in df['review']]).describe()"
      ],
      "execution_count": null,
      "outputs": [
        {
          "output_type": "execute_result",
          "data": {
            "text/html": [
              "<div>\n",
              "<style scoped>\n",
              "    .dataframe tbody tr th:only-of-type {\n",
              "        vertical-align: middle;\n",
              "    }\n",
              "\n",
              "    .dataframe tbody tr th {\n",
              "        vertical-align: top;\n",
              "    }\n",
              "\n",
              "    .dataframe thead th {\n",
              "        text-align: right;\n",
              "    }\n",
              "</style>\n",
              "<table border=\"1\" class=\"dataframe\">\n",
              "  <thead>\n",
              "    <tr style=\"text-align: right;\">\n",
              "      <th></th>\n",
              "      <th>0</th>\n",
              "    </tr>\n",
              "  </thead>\n",
              "  <tbody>\n",
              "    <tr>\n",
              "      <th>count</th>\n",
              "      <td>49582.0</td>\n",
              "    </tr>\n",
              "    <tr>\n",
              "      <th>mean</th>\n",
              "      <td>200.0</td>\n",
              "    </tr>\n",
              "    <tr>\n",
              "      <th>std</th>\n",
              "      <td>0.0</td>\n",
              "    </tr>\n",
              "    <tr>\n",
              "      <th>min</th>\n",
              "      <td>200.0</td>\n",
              "    </tr>\n",
              "    <tr>\n",
              "      <th>25%</th>\n",
              "      <td>200.0</td>\n",
              "    </tr>\n",
              "    <tr>\n",
              "      <th>50%</th>\n",
              "      <td>200.0</td>\n",
              "    </tr>\n",
              "    <tr>\n",
              "      <th>75%</th>\n",
              "      <td>200.0</td>\n",
              "    </tr>\n",
              "    <tr>\n",
              "      <th>max</th>\n",
              "      <td>200.0</td>\n",
              "    </tr>\n",
              "  </tbody>\n",
              "</table>\n",
              "</div>"
            ],
            "text/plain": [
              "             0\n",
              "count  49582.0\n",
              "mean     200.0\n",
              "std        0.0\n",
              "min      200.0\n",
              "25%      200.0\n",
              "50%      200.0\n",
              "75%      200.0\n",
              "max      200.0"
            ]
          },
          "metadata": {
            "tags": []
          },
          "execution_count": 37
        }
      ]
    },
    {
      "cell_type": "markdown",
      "metadata": {
        "id": "XUNtLhfmY8x9"
      },
      "source": [
        "# Splitting data into train and test data sets"
      ]
    },
    {
      "cell_type": "code",
      "metadata": {
        "id": "t1qMz6Hpwbhi"
      },
      "source": [
        "x_train,x_test,y_train,y_test = train_test_split(df['review'].values,df['sentiment'].values,stratify=df['sentiment'].values, test_size=0.15)   #15% of data as test data"
      ],
      "execution_count": null,
      "outputs": []
    },
    {
      "cell_type": "code",
      "metadata": {
        "colab": {
          "base_uri": "https://localhost:8080/",
          "height": 460
        },
        "id": "DnT2wCRDxZM-",
        "outputId": "2ef95606-9536-447d-9b1a-3e83226a608b"
      },
      "source": [
        "plt.figure(figsize= (10,5), dpi= 100)\n",
        "plt.tight_layout()\n",
        "\n",
        "plt.subplot(1,2,1)\n",
        "plt.title('train data sentiment counts')\n",
        "sns.countplot(y_train);\n",
        "\n",
        "plt.subplot(1,2,2)\n",
        "plt.title('test data sentiment counts')\n",
        "sns.countplot(y_test);"
      ],
      "execution_count": null,
      "outputs": [
        {
          "output_type": "display_data",
          "data": {
            "image/png": "[encoded data removed]",
            "text/plain": [
              "<Figure size 1000x500 with 2 Axes>"
            ]
          },
          "metadata": {
            "tags": [],
            "needs_background": "light"
          }
        }
      ]
    },
    {
      "cell_type": "code",
      "metadata": {
        "colab": {
          "base_uri": "https://localhost:8080/"
        },
        "id": "QRjKmr6eEH0q",
        "outputId": "e4603ba1-d871-4bf3-bd92-84b789f9784b"
      },
      "source": [
        "*x_train.shape, *x_test.shape"
      ],
      "execution_count": null,
      "outputs": [
        {
          "output_type": "execute_result",
          "data": {
            "text/plain": [
              "(42144, 7438)"
            ]
          },
          "metadata": {
            "tags": []
          },
          "execution_count": 40
        }
      ]
    },
    {
      "cell_type": "markdown",
      "metadata": {
        "id": "-MXfaHEKZFmp"
      },
      "source": [
        "# Sentiment Analysis with LSTM model"
      ]
    },
    {
      "cell_type": "code",
      "metadata": {
        "id": "3MFf2wY83Tiw"
      },
      "source": [
        "embed_dimension = 200\n",
        "lstm_hidden_out = 50\n",
        "no_of_classes = 2"
      ],
      "execution_count": null,
      "outputs": []
    },
    {
      "cell_type": "code",
      "metadata": {
        "id": "cScMP0nPxeOM"
      },
      "source": [
        "@torch.no_grad()\n",
        "def prepare_embeddings_for_batch(corpus, labels, word_dict, trainedword2vec, lstm_batch_size, epoch):\n",
        "    in_batch = []\n",
        "    label_batch = []\n",
        "\n",
        "    indexes = range(epoch*lstm_batch_size,(epoch+1)*lstm_batch_size)\n",
        "    indexes = [r if r < len(corpus) else (r % len(corpus)) for r in indexes]\n",
        "\n",
        "    for i in indexes:\n",
        "        temp = []\n",
        "        for token in corpus[i]:\n",
        "            token_found = False\n",
        "            word_index = 0\n",
        "            try:\n",
        "                word_index = word_dict[token]\n",
        "                token_found = True\n",
        "            except: token_found = False\n",
        "            if token_found:\n",
        "                temp.append(trainedword2vec[word_index])\n",
        "            else: temp.append([0]*embed_dimension)\n",
        "        in_batch.append(temp)\n",
        "        label_batch.append(labels[i])\n",
        "    return np.array(in_batch), np.array(label_batch)"
      ],
      "execution_count": null,
      "outputs": []
    },
    {
      "cell_type": "code",
      "metadata": {
        "id": "Li-W2eOk7sYo"
      },
      "source": [
        "class LSTM_Sentiment_Analiser(nn.Module):\n",
        "    def __init__(self):\n",
        "        super(LSTM_Sentiment_Analiser, self).__init__()\n",
        "        self.lstm = nn.LSTM(embed_dimension, lstm_hidden_out, num_layers=2, batch_first =True, dropout=0.2)\n",
        "        self.linear = nn.Linear(lstm_hidden_out, no_of_classes)\n",
        "\n",
        "    def forward(self, x):\n",
        "        x, _ = self.lstm(x)\n",
        "        x = self.linear(x[:,-1,:])\n",
        "        x = F.log_softmax(x, dim=1)\n",
        "        return x"
      ],
      "execution_count": null,
      "outputs": []
    },
    {
      "cell_type": "code",
      "metadata": {
        "colab": {
          "base_uri": "https://localhost:8080/"
        },
        "id": "_N3MH5BQCIUz",
        "outputId": "72d10ca0-e63e-4a91-ecaf-39d365729f15"
      },
      "source": [
        "net = LSTM_Sentiment_Analiser().to(device)\n",
        "model_save_name = 'LSTM_sentiment_params.pt'\n",
        "path = F\"/content/gdrive/My Drive/Colab Notebooks/Saved_models/{model_save_name}\"\n",
        "net.load_state_dict(torch.load(path, map_location=device),strict=True)\n",
        "net.to(device)\n",
        "net.train()"
      ],
      "execution_count": null,
      "outputs": [
        {
          "output_type": "execute_result",
          "data": {
            "text/plain": [
              "LSTM_Sentiment_Analiser(\n",
              "  (lstm): LSTM(200, 50, num_layers=2, batch_first=True, dropout=0.2)\n",
              "  (linear): Linear(in_features=50, out_features=2, bias=True)\n",
              ")"
            ]
          },
          "metadata": {
            "tags": []
          },
          "execution_count": 66
        }
      ]
    },
    {
      "cell_type": "code",
      "metadata": {
        "colab": {
          "base_uri": "https://localhost:8080/",
          "height": 1000,
          "referenced_widgets": [
            "1397e4ce76634fc1bd8275c620653d45",
            "522b7abae749412b94c6a2a386c8fad5",
            "adbd678e0e704e18a21edabaa18bf27d",
            "504fd873e8ee4faa915e20e1762f6a01",
            "71f5a9488c7145ef8a8789f977f3207b",
            "1e1157ee371f4e5590995ab6e168245d",
            "049f66330c8043d9af29bae5cbb772a8",
            "5df95ae942d84f008b2694b85cfbd51d"
          ]
        },
        "id": "uX7VMY3YCjny",
        "outputId": "054fc474-7eaa-4406-c3a4-edef6aac76c8"
      },
      "source": [
        "lstm_batch_size = 256\n",
        "lstm_lr = 0.00001\n",
        "tot_epochs =  10000\n",
        "losses = []\n",
        "criterion = nn.NLLLoss()\n",
        "optimizer = optim.Adam(net.parameters(), lr=lstm_lr)\n",
        "model_save_name = 'LSTM_sentiment_params.pt'\n",
        "path = F\"/content/gdrive/My Drive/Colab Notebooks/Saved_models/{model_save_name}\"\n",
        "net.train()\n",
        "for epoch in tqdm(range(tot_epochs)):\n",
        "    if epoch%320 == 0 and epoch:\n",
        "        if lstm_lr <= 0.000001: lstm_lr = 0.000001\n",
        "        else: lstm_lr *= 0.95\n",
        "        optimizer = optim.Adam(net.parameters(), lr=lstm_lr)\n",
        "\n",
        "    previous_epoch_timestamp = time()\n",
        "    inputs, labels = prepare_embeddings_for_batch(x_train, y_train, word_dict, trainedword2vec, lstm_batch_size, epoch)\n",
        "    inputs = torch.from_numpy(inputs).float().to(device)\n",
        "    labels = torch.from_numpy(labels).view(-1).to(device)\n",
        "\n",
        "    preds =net(inputs)\n",
        "    loss = criterion(preds, labels)\n",
        "    losses.append(loss.item())\n",
        "\n",
        "    loss.backward()\n",
        "    optimizer.step()\n",
        "    optimizer.zero_grad(set_to_none=True)\n",
        "\n",
        "    if epoch%160 == 159:\n",
        "        acc = accuracy_score(torch.max(preds,1)[1].cpu().numpy(), labels.cpu().numpy())\n",
        "        print('Epoch: %d, loss: %.6f, train_acc: %.6f, lr: %.6f'%(epoch + 1, loss.item(), acc, lstm_lr),f', time took for this epoch: {(time()-previous_epoch_timestamp):.6f}')\n",
        "\n",
        "    if epoch%500 == 0: torch.save(net.state_dict(),path)\n",
        "\n",
        "torch.cuda.empty_cache()\n",
        "torch.save(net.state_dict(),path)"
      ],
      "execution_count": null,
      "outputs": [
        {
          "output_type": "display_data",
          "data": {
            "application/vnd.jupyter.widget-view+json": {
              "model_id": "1397e4ce76634fc1bd8275c620653d45",
              "version_minor": 0,
              "version_major": 2
            },
            "text/plain": [
              "HBox(children=(FloatProgress(value=0.0, max=10000.0), HTML(value='')))"
            ]
          },
          "metadata": {
            "tags": []
          }
        },
        {
          "output_type": "stream",
          "text": [
            "Epoch: 160, loss: 0.418715, train_acc: 0.796875, lr: 0.000010 , time took for this epoch: 0.557684\n",
            "Epoch: 320, loss: 0.328333, train_acc: 0.882812, lr: 0.000010 , time took for this epoch: 0.540524\n",
            "Epoch: 480, loss: 0.428008, train_acc: 0.824219, lr: 0.000010 , time took for this epoch: 0.547142\n",
            "Epoch: 640, loss: 0.404767, train_acc: 0.800781, lr: 0.000010 , time took for this epoch: 0.613017\n",
            "Epoch: 800, loss: 0.342930, train_acc: 0.851562, lr: 0.000009 , time took for this epoch: 0.582511\n",
            "Epoch: 960, loss: 0.343283, train_acc: 0.863281, lr: 0.000009 , time took for this epoch: 0.543780\n",
            "Epoch: 1120, loss: 0.441111, train_acc: 0.789062, lr: 0.000009 , time took for this epoch: 0.584797\n",
            "Epoch: 1280, loss: 0.382960, train_acc: 0.835938, lr: 0.000009 , time took for this epoch: 0.583856\n",
            "Epoch: 1440, loss: 0.318757, train_acc: 0.875000, lr: 0.000008 , time took for this epoch: 0.584506\n",
            "Epoch: 1600, loss: 0.373877, train_acc: 0.847656, lr: 0.000008 , time took for this epoch: 0.593933\n",
            "Epoch: 1760, loss: 0.367860, train_acc: 0.871094, lr: 0.000008 , time took for this epoch: 0.586015\n",
            "Epoch: 1920, loss: 0.322859, train_acc: 0.867188, lr: 0.000008 , time took for this epoch: 0.556623\n",
            "Epoch: 2080, loss: 0.489393, train_acc: 0.769531, lr: 0.000007 , time took for this epoch: 0.550250\n",
            "Epoch: 2240, loss: 0.360501, train_acc: 0.863281, lr: 0.000007 , time took for this epoch: 0.562028\n",
            "Epoch: 2400, loss: 0.372285, train_acc: 0.851562, lr: 0.000007 , time took for this epoch: 0.573917\n",
            "Epoch: 2560, loss: 0.368531, train_acc: 0.847656, lr: 0.000007 , time took for this epoch: 0.573553\n",
            "Epoch: 2720, loss: 0.387165, train_acc: 0.792969, lr: 0.000007 , time took for this epoch: 0.557374\n",
            "Epoch: 2880, loss: 0.388235, train_acc: 0.847656, lr: 0.000007 , time took for this epoch: 0.586030\n",
            "Epoch: 3040, loss: 0.402321, train_acc: 0.832031, lr: 0.000006 , time took for this epoch: 0.568877\n",
            "Epoch: 3200, loss: 0.400753, train_acc: 0.816406, lr: 0.000006 , time took for this epoch: 0.547223\n",
            "Epoch: 3360, loss: 0.350578, train_acc: 0.855469, lr: 0.000006 , time took for this epoch: 0.635827\n",
            "Epoch: 3520, loss: 0.328296, train_acc: 0.875000, lr: 0.000006 , time took for this epoch: 0.557491\n",
            "Epoch: 3680, loss: 0.419813, train_acc: 0.812500, lr: 0.000006 , time took for this epoch: 0.545887\n",
            "Epoch: 3840, loss: 0.315236, train_acc: 0.871094, lr: 0.000006 , time took for this epoch: 0.595349\n",
            "Epoch: 4000, loss: 0.346088, train_acc: 0.847656, lr: 0.000005 , time took for this epoch: 0.593775\n",
            "Epoch: 4160, loss: 0.359330, train_acc: 0.839844, lr: 0.000005 , time took for this epoch: 0.554810\n",
            "Epoch: 4320, loss: 0.302834, train_acc: 0.878906, lr: 0.000005 , time took for this epoch: 0.547451\n",
            "Epoch: 4480, loss: 0.369533, train_acc: 0.855469, lr: 0.000005 , time took for this epoch: 0.543165\n",
            "Epoch: 4640, loss: 0.325447, train_acc: 0.851562, lr: 0.000005 , time took for this epoch: 1.851282\n",
            "Epoch: 4800, loss: 0.383472, train_acc: 0.828125, lr: 0.000005 , time took for this epoch: 0.552993\n",
            "Epoch: 4960, loss: 0.373694, train_acc: 0.839844, lr: 0.000005 , time took for this epoch: 0.537086\n",
            "Epoch: 5120, loss: 0.356310, train_acc: 0.847656, lr: 0.000005 , time took for this epoch: 0.567954\n",
            "Epoch: 5280, loss: 0.410054, train_acc: 0.796875, lr: 0.000004 , time took for this epoch: 0.551357\n",
            "Epoch: 5440, loss: 0.357519, train_acc: 0.816406, lr: 0.000004 , time took for this epoch: 0.531079\n",
            "Epoch: 5600, loss: 0.402807, train_acc: 0.828125, lr: 0.000004 , time took for this epoch: 0.536597\n",
            "Epoch: 5760, loss: 0.362960, train_acc: 0.851562, lr: 0.000004 , time took for this epoch: 0.558547\n",
            "Epoch: 5920, loss: 0.354699, train_acc: 0.878906, lr: 0.000004 , time took for this epoch: 0.568531\n",
            "Epoch: 6080, loss: 0.387702, train_acc: 0.863281, lr: 0.000004 , time took for this epoch: 0.576994\n",
            "Epoch: 6240, loss: 0.435646, train_acc: 0.808594, lr: 0.000004 , time took for this epoch: 0.557981\n",
            "Epoch: 6400, loss: 0.378630, train_acc: 0.828125, lr: 0.000004 , time took for this epoch: 0.541198\n",
            "Epoch: 6560, loss: 0.354186, train_acc: 0.863281, lr: 0.000004 , time took for this epoch: 0.582426\n",
            "Epoch: 6720, loss: 0.355571, train_acc: 0.855469, lr: 0.000004 , time took for this epoch: 0.594514\n",
            "Epoch: 6880, loss: 0.336103, train_acc: 0.843750, lr: 0.000003 , time took for this epoch: 0.567595\n",
            "Epoch: 7040, loss: 0.463039, train_acc: 0.804688, lr: 0.000003 , time took for this epoch: 0.551506\n",
            "Epoch: 7200, loss: 0.383971, train_acc: 0.863281, lr: 0.000003 , time took for this epoch: 0.565923\n",
            "Epoch: 7360, loss: 0.441744, train_acc: 0.816406, lr: 0.000003 , time took for this epoch: 0.572548\n",
            "Epoch: 7520, loss: 0.361733, train_acc: 0.855469, lr: 0.000003 , time took for this epoch: 0.567945\n",
            "Epoch: 7680, loss: 0.332985, train_acc: 0.851562, lr: 0.000003 , time took for this epoch: 0.549771\n",
            "Epoch: 7840, loss: 0.349673, train_acc: 0.843750, lr: 0.000003 , time took for this epoch: 0.575183\n",
            "Epoch: 8000, loss: 0.361723, train_acc: 0.843750, lr: 0.000003 , time took for this epoch: 0.545695\n",
            "Epoch: 8160, loss: 0.301574, train_acc: 0.871094, lr: 0.000003 , time took for this epoch: 0.556888\n",
            "Epoch: 8320, loss: 0.366598, train_acc: 0.843750, lr: 0.000003 , time took for this epoch: 0.529723\n",
            "Epoch: 8480, loss: 0.387052, train_acc: 0.824219, lr: 0.000003 , time took for this epoch: 0.566820\n",
            "Epoch: 8640, loss: 0.339399, train_acc: 0.839844, lr: 0.000003 , time took for this epoch: 0.543912\n",
            "Epoch: 8800, loss: 0.411392, train_acc: 0.808594, lr: 0.000003 , time took for this epoch: 0.564110\n",
            "Epoch: 8960, loss: 0.405675, train_acc: 0.824219, lr: 0.000003 , time took for this epoch: 0.561848\n",
            "Epoch: 9120, loss: 0.396850, train_acc: 0.820312, lr: 0.000002 , time took for this epoch: 0.561998\n",
            "Epoch: 9280, loss: 0.441906, train_acc: 0.816406, lr: 0.000002 , time took for this epoch: 0.552503\n",
            "Epoch: 9440, loss: 0.363998, train_acc: 0.843750, lr: 0.000002 , time took for this epoch: 0.562073\n",
            "Epoch: 9600, loss: 0.395790, train_acc: 0.832031, lr: 0.000002 , time took for this epoch: 0.586216\n",
            "Epoch: 9760, loss: 0.373289, train_acc: 0.863281, lr: 0.000002 , time took for this epoch: 0.522914\n",
            "Epoch: 9920, loss: 0.301030, train_acc: 0.863281, lr: 0.000002 , time took for this epoch: 0.550526\n",
            "\n"
          ],
          "name": "stdout"
        }
      ]
    },
    {
      "cell_type": "code",
      "metadata": {
        "id": "raqqD9e3A_RM"
      },
      "source": [
        "torch.cuda.empty_cache()\n",
        "model_save_name = 'LSTM_sentiment_params.pt'\n",
        "path = F\"/content/gdrive/My Drive/Colab Notebooks/Saved_models/{model_save_name}\"\n",
        "torch.save(net.state_dict(),path)"
      ],
      "execution_count": null,
      "outputs": []
    },
    {
      "cell_type": "code",
      "metadata": {
        "colab": {
          "base_uri": "https://localhost:8080/",
          "height": 295
        },
        "id": "2j5qzsqbZ5kR",
        "outputId": "8763decf-15fe-449b-d4a1-0bea76d5ff18"
      },
      "source": [
        "plt.plot(np.arange(0,len(losses)),losses)\n",
        "plt.title('Loss vs epoch')\n",
        "plt.xlabel('epoch')\n",
        "plt.ylabel('Loss')\n",
        "plt.grid(1)\n",
        "plt.show()"
      ],
      "execution_count": null,
      "outputs": [
        {
          "output_type": "display_data",
          "data": {
            "image/png": "[encoded data removed]",
            "text/plain": [
              "<Figure size 432x288 with 1 Axes>"
            ]
          },
          "metadata": {
            "tags": [],
            "needs_background": "light"
          }
        }
      ]
    },
    {
      "cell_type": "markdown",
      "metadata": {
        "id": "q3uQAdheZbqd"
      },
      "source": [
        "# Evaluating the Network"
      ]
    },
    {
      "cell_type": "code",
      "metadata": {
        "id": "Qu8NTeeJlOl0"
      },
      "source": [
        "@torch.no_grad()\n",
        "def Evaluating_the_net():\n",
        "    all_test_preds = []\n",
        "    all_test_labels= []\n",
        "    net.eval()\n",
        "\n",
        "    for i in range(2):\n",
        "        inputs, labels = prepare_embeddings_for_batch(x_test, y_test, word_dict, trainedword2vec, 3719, i)\n",
        "        inputs = torch.from_numpy(inputs).float().to(device)\n",
        "\n",
        "        preds = torch.max(net(inputs), 1)[1]\n",
        "        all_test_preds.extend(preds.cpu().numpy())\n",
        "        all_test_labels.extend(labels)\n",
        "    \n",
        "    print(\"Total test accuracy: \",accuracy_score(all_test_preds, all_test_labels))\n",
        "    print(classification_report(all_test_labels, all_test_preds))"
      ],
      "execution_count": null,
      "outputs": []
    },
    {
      "cell_type": "code",
      "metadata": {
        "colab": {
          "base_uri": "https://localhost:8080/"
        },
        "id": "Ygltg6F9FZHS",
        "outputId": "d8b049c3-2a61-479f-ed7b-fa10c20e28ef"
      },
      "source": [
        "Evaluating_the_net()"
      ],
      "execution_count": null,
      "outputs": [
        {
          "output_type": "stream",
          "text": [
            "Total test accuracy:  0.8480774401720893\n",
            "              precision    recall  f1-score   support\n",
            "\n",
            "           0       0.84      0.86      0.85      3705\n",
            "           1       0.86      0.84      0.85      3733\n",
            "\n",
            "    accuracy                           0.85      7438\n",
            "   macro avg       0.85      0.85      0.85      7438\n",
            "weighted avg       0.85      0.85      0.85      7438\n",
            "\n"
          ],
          "name": "stdout"
        }
      ]
    }
  ]
}