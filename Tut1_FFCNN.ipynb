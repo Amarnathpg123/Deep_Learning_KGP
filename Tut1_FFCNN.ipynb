{
  "nbformat": 4,
  "nbformat_minor": 0,
  "metadata": {
    "kernelspec": {
      "name": "python3",
      "display_name": "Python 3.8.5 64-bit",
      "metadata": {
        "interpreter": {
          "hash": "db81c78c196f5269207f5750cda145ff8b39254dc99c909f6237f28ca2d3bfd7"
        }
      }
    },
    "language_info": {
      "codemirror_mode": {
        "name": "ipython",
        "version": 3
      },
      "file_extension": ".py",
      "mimetype": "text/x-python",
      "name": "python",
      "nbconvert_exporter": "python",
      "pygments_lexer": "ipython3",
      "version": "3.8.5-final"
    },
    "colab": {
      "name": "Tut1_FFCNN.ipynb",
      "provenance": []
    }
  },
  "cells": [
    {
      "cell_type": "code",
      "metadata": {
        "colab": {
          "base_uri": "https://localhost:8080/"
        },
        "id": "Ml64V4WE_Qvt",
        "outputId": "8890cc54-93e5-4882-8084-b898bb1e7206"
      },
      "source": [
        "import torch\n",
        "import torch.nn.functional as F\n",
        "import torch.nn as nn\n",
        "import torch.optim as optim\n",
        "import numpy as np\n",
        "from torchvision import transforms, datasets\n",
        "\n",
        "torch.set_printoptions(linewidth=120)\n",
        "torch.set_grad_enabled(False)"
      ],
      "execution_count": 24,
      "outputs": [
        {
          "output_type": "execute_result",
          "data": {
            "text/plain": [
              "<torch.autograd.grad_mode.set_grad_enabled at 0x28312d66b20>"
            ]
          },
          "metadata": {},
          "execution_count": 24
        }
      ]
    },
    {
      "cell_type": "code",
      "metadata": {
        "id": "cLLMLBGv_QwI"
      },
      "source": [
        "class LeNet(nn.Module):\n",
        "    def __init__(self):\n",
        "        super(LeNet, self).__init__()\n",
        "        \n",
        "        self.conv1 = nn.Conv2d(1,6,kernel_size=5) #1 channel image input and 6 channel image as output using 5x5 kernel\n",
        "        self.pool1 = nn.MaxPool2d(kernel_size=2,stride=2)\n",
        "        self.conv2 = nn.Conv2d(6,16,kernel_size=5)\n",
        "        self.pool2 = nn.MaxPool2d(kernel_size=2,stride=2)\n",
        "        self.fc1 = nn.Linear(400,120)\n",
        "        self.fc2 = nn.Linear(120,84)\n",
        "        self.fc3 = nn.Linear(84,10)\n",
        "        \n",
        "    def forward(self,x):\n",
        "        x = F.relu(self.conv1(x))\n",
        "        x = self.pool1(x)\n",
        "        x = F.relu(self.conv2(x))\n",
        "        x = self.pool2(x)\n",
        "        x = x.view(-1,400)\n",
        "        x = F.relu(self.fc1(x))\n",
        "        x = F.relu(self.fc2(x))\n",
        "        x = F.softmax(self.fc3(x),dim=1)\n",
        "        return x\n",
        "        "
      ],
      "execution_count": 25,
      "outputs": []
    },
    {
      "cell_type": "code",
      "metadata": {
        "colab": {
          "base_uri": "https://localhost:8080/"
        },
        "id": "3soQKRYT_QwJ",
        "outputId": "d42cd309-a49f-4ed2-d667-19f868ce071d"
      },
      "source": [
        "net = LeNet()\n",
        "print(net)"
      ],
      "execution_count": 26,
      "outputs": [
        {
          "output_type": "stream",
          "name": "stdout",
          "text": [
            "LeNet(\n  (conv1): Conv2d(1, 6, kernel_size=(5, 5), stride=(1, 1))\n  (pool1): MaxPool2d(kernel_size=2, stride=2, padding=0, dilation=1, ceil_mode=False)\n  (conv2): Conv2d(6, 16, kernel_size=(5, 5), stride=(1, 1))\n  (pool2): MaxPool2d(kernel_size=2, stride=2, padding=0, dilation=1, ceil_mode=False)\n  (fc1): Linear(in_features=400, out_features=120, bias=True)\n  (fc2): Linear(in_features=120, out_features=84, bias=True)\n  (fc3): Linear(in_features=84, out_features=10, bias=True)\n)\n"
          ]
        }
      ]
    },
    {
      "cell_type": "code",
      "metadata": {
        "colab": {
          "base_uri": "https://localhost:8080/"
        },
        "id": "jOGod0Ga_QwK",
        "outputId": "53da39a6-a6ed-4f94-cb15-f28d2582730f"
      },
      "source": [
        "params = list(net.named_parameters())\n",
        "\n",
        "tot_params = 0\n",
        "for name, param in params:\n",
        "    print(name, '--->',param.shape)\n",
        "    tot_params += np.sum(np.prod(param.size()))\n",
        "print('\\nTot no. of parameters: ',tot_params)"
      ],
      "execution_count": 27,
      "outputs": [
        {
          "output_type": "stream",
          "name": "stdout",
          "text": [
            "conv1.weight ---> torch.Size([6, 1, 5, 5])\nconv1.bias ---> torch.Size([6])\nconv2.weight ---> torch.Size([16, 6, 5, 5])\nconv2.bias ---> torch.Size([16])\nfc1.weight ---> torch.Size([120, 400])\nfc1.bias ---> torch.Size([120])\nfc2.weight ---> torch.Size([84, 120])\nfc2.bias ---> torch.Size([84])\nfc3.weight ---> torch.Size([10, 84])\nfc3.bias ---> torch.Size([10])\n\nTot no. of parameters:  61706\n"
          ]
        }
      ]
    },
    {
      "cell_type": "code",
      "metadata": {
        "id": "Ib0-9XCV_QwL"
      },
      "source": [
        "apply_transform = transforms.Compose([transforms.Resize(32), transforms.ToTensor()])\n",
        "\n",
        "Batch = 100\n",
        "train_set = datasets.MNIST(root='./data', train=True, download=False, transform=apply_transform)\n",
        "train_loader = torch.utils.data.DataLoader(train_set, batch_size=Batch, shuffle=True,num_workers=4)\n",
        "#optimizer = optim.Adam(net.parameters(), lr=0.001)"
      ],
      "execution_count": 28,
      "outputs": []
    },
    {
      "cell_type": "code",
      "metadata": {
        "id": "u6QNrArO_QwM"
      },
      "source": [
        "#for i,data in enumerate(train_loader):\n",
        "    #inputs,labels = data\n",
        "    #outputs = net(inputs)"
      ],
      "execution_count": 29,
      "outputs": []
    },
    {
      "cell_type": "code",
      "execution_count": 30,
      "metadata": {},
      "outputs": [
        {
          "output_type": "stream",
          "name": "stdout",
          "text": [
            "torch.Size([1, 1, 32, 32])\ntensor([[0.1021, 0.0978, 0.0938, 0.0936, 0.1003, 0.0924, 0.1024, 0.1083, 0.0987, 0.1106]])\n"
          ]
        }
      ],
      "source": [
        "data1 = next(iter(train_set))\n",
        "input1, label1 = data1\n",
        "\n",
        "input1 = input1.unsqueeze(0)\n",
        "pred1 = net(input1)\n",
        "\n",
        "print(input1.shape)\n",
        "print(pred1)"
      ]
    },
    {
      "cell_type": "code",
      "execution_count": 31,
      "metadata": {},
      "outputs": [
        {
          "output_type": "stream",
          "name": "stdout",
          "text": [
            "Input label is:  5\n",
            "Predicted label is:  9\n"
          ]
        }
      ],
      "source": [
        "print('Input label is: ',label1)\n",
        "print('Predicted label is: ',pred1.argmax().item())"
      ]
    },
    {
      "cell_type": "code",
      "metadata": {
        "id": "IAiDvWgh_QwM"
      },
      "source": [
        "data = next(iter(train_loader)) #As a batch from the train_loader\n",
        "inputs,labels = data\n",
        "preds = net(inputs)"
      ],
      "execution_count": 32,
      "outputs": []
    },
    {
      "cell_type": "code",
      "execution_count": 33,
      "metadata": {},
      "outputs": [
        {
          "output_type": "execute_result",
          "data": {
            "text/plain": [
              "torch.Size([100, 1, 32, 32])"
            ]
          },
          "metadata": {},
          "execution_count": 33
        }
      ],
      "source": [
        "inputs.shape"
      ]
    },
    {
      "cell_type": "code",
      "execution_count": 34,
      "metadata": {},
      "outputs": [],
      "source": [
        "def get_num_corects(preds,labels):\n",
        "    return preds.argmax(dim=1).eq(labels).sum().item()"
      ]
    },
    {
      "cell_type": "code",
      "metadata": {
        "colab": {
          "base_uri": "https://localhost:8080/"
        },
        "id": "sVSPNO3o_QwN",
        "outputId": "358a1ce0-fe34-4a95-85e2-974525b994c6"
      },
      "source": [
        "get_num_corects(preds,labels) #number of correct labels were predicted by the Feed Forward method for a batch"
      ],
      "execution_count": 35,
      "outputs": [
        {
          "output_type": "execute_result",
          "data": {
            "text/plain": [
              "11"
            ]
          },
          "metadata": {},
          "execution_count": 35
        }
      ]
    }
  ]
}