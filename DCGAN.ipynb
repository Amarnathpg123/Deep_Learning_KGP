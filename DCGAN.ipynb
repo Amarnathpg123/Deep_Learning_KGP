{
 "cells": [
  {
   "cell_type": "code",
   "execution_count": 77,
   "metadata": {},
   "outputs": [
    {
     "output_type": "execute_result",
     "data": {
      "text/plain": [
       "<torch.autograd.grad_mode.set_grad_enabled at 0x238f4ec8e50>"
      ]
     },
     "metadata": {},
     "execution_count": 77
    }
   ],
   "source": [
    "import torch\n",
    "import torch.nn.functional as F\n",
    "import torch.nn as nn\n",
    "import numpy as np\n",
    "from torchvision import transforms, datasets\n",
    "\n",
    "torch.set_printoptions(linewidth=120)\n",
    "torch.set_grad_enabled(False)"
   ]
  },
  {
   "cell_type": "code",
   "execution_count": 63,
   "metadata": {},
   "outputs": [],
   "source": [
    "class FFNN(nn.Module):\n",
    "    def __init__(self):\n",
    "        super(FFNN,self).__init__()\n",
    "        self.fc1 = nn.Linear(784,100) #784 nodes of input and 100 nodes of output\n",
    "        self.fc2 = nn.Linear(100,10)\n",
    "        self.sigmoid = nn.Sigmoid()\n",
    "        \n",
    "    def forward(self,x):\n",
    "        x = self.sigmoid(self.fc1(x))\n",
    "        x = F.softmax(self.fc2(x),dim=1)\n",
    "        print(x.size())\n",
    "        return x"
   ]
  },
  {
   "cell_type": "code",
   "execution_count": 64,
   "metadata": {},
   "outputs": [
    {
     "output_type": "stream",
     "name": "stdout",
     "text": [
      "FFNN(\n  (fc1): Linear(in_features=784, out_features=100, bias=True)\n  (fc2): Linear(in_features=100, out_features=10, bias=True)\n  (sigmoid): Sigmoid()\n)\n"
     ]
    }
   ],
   "source": [
    "net = FFNN()\n",
    "print(net)"
   ]
  },
  {
   "cell_type": "code",
   "execution_count": 65,
   "metadata": {
    "scrolled": true
   },
   "outputs": [
    {
     "output_type": "stream",
     "name": "stdout",
     "text": [
      "Dim. of fc1 weights:  torch.Size([100, 784])\nDim. of fc1 bias:  torch.Size([100])\nDim. of fc2 weights:  torch.Size([10, 100])\nDim. of fc2 bias:  torch.Size([10])\n\nTotal parameters in the NN:  79510\n"
     ]
    }
   ],
   "source": [
    "params = list(net.parameters())\n",
    "print(\"Dim. of fc1 weights: \",params[0].size())\n",
    "print(\"Dim. of fc1 bias: \",params[1].size())\n",
    "print(\"Dim. of fc2 weights: \",params[2].size())\n",
    "print(\"Dim. of fc2 bias: \",params[3].size())\n",
    "\n",
    "tot_params = 0\n",
    "for param in params:\n",
    "    tot_params += np.sum(np.prod(param.size()))\n",
    "print(\"\\nTotal parameters in the NN: \",tot_params)"
   ]
  },
  {
   "cell_type": "code",
   "execution_count": 66,
   "metadata": {
    "scrolled": true
   },
   "outputs": [],
   "source": [
    "apply_transform = transforms.Compose([transforms.ToTensor()])\n",
    "\n",
    "train_set = datasets.MNIST(root='./data', train=True, download=False, transform=apply_transform)\n",
    "train_loader = torch.utils.data.DataLoader(train_set, batch_size=1, shuffle=True,num_workers=4)"
   ]
  },
  {
   "cell_type": "code",
   "execution_count": 67,
   "metadata": {},
   "outputs": [],
   "source": [
    "#for i,data in enumerate(train_loader):\n",
    "    #inputs,labels = data\n",
    "    #print(inputs.shape)\n",
    "    #outputs = net(input1.squeeze().reshape(1,-1))"
   ]
  },
  {
   "cell_type": "code",
   "execution_count": 68,
   "metadata": {},
   "outputs": [],
   "source": [
    "data1 = next(iter(train_loader))\n",
    "input1,label = data1"
   ]
  },
  {
   "cell_type": "code",
   "execution_count": 69,
   "metadata": {},
   "outputs": [
    {
     "output_type": "execute_result",
     "data": {
      "text/plain": [
       "torch.Size([1, 1, 28, 28])"
      ]
     },
     "metadata": {},
     "execution_count": 69
    }
   ],
   "source": [
    "input1.shape"
   ]
  },
  {
   "cell_type": "code",
   "execution_count": 70,
   "metadata": {},
   "outputs": [
    {
     "output_type": "stream",
     "name": "stdout",
     "text": [
      "torch.Size([1, 10])\ntensor([[0.1530, 0.1028, 0.0781, 0.0617, 0.0916, 0.0787, 0.1330, 0.0779, 0.1086, 0.1148]])\n"
     ]
    }
   ],
   "source": [
    "out1 = net(input1.squeeze().reshape(1,-1))\n",
    "print(out1)\n",
    "#net.forward(input1.view(input1.shape[0],-1))"
   ]
  },
  {
   "cell_type": "code",
   "execution_count": 71,
   "metadata": {},
   "outputs": [
    {
     "output_type": "stream",
     "name": "stdout",
     "text": [
      "Input label is:  4\nPredicted label is:  0\n"
     ]
    }
   ],
   "source": [
    "print('Input label is: ',label.item())\n",
    "print('Predicted label is: ',out1.argmax().item())"
   ]
  },
  {
   "cell_type": "code",
   "execution_count": 72,
   "metadata": {},
   "outputs": [],
   "source": [
    "imag = input1.view(input1.shape[2],input1.shape[3])\n",
    "transforms.ToPILImage()(imag).show()"
   ]
  },
  {
   "cell_type": "code",
   "execution_count": 73,
   "metadata": {},
   "outputs": [
    {
     "output_type": "execute_result",
     "data": {
      "text/plain": [
       "Parameter containing:\n",
       "tensor([[-0.0018, -0.0098,  0.0267,  ...,  0.0199,  0.0272, -0.0294],\n",
       "        [-0.0030, -0.0315, -0.0217,  ..., -0.0065,  0.0113,  0.0007],\n",
       "        [-0.0143, -0.0194, -0.0054,  ..., -0.0003,  0.0041,  0.0165],\n",
       "        ...,\n",
       "        [-0.0125,  0.0200, -0.0276,  ..., -0.0089, -0.0318, -0.0072],\n",
       "        [ 0.0087,  0.0080, -0.0156,  ..., -0.0026, -0.0306, -0.0153],\n",
       "        [-0.0355, -0.0296, -0.0263,  ..., -0.0202, -0.0087,  0.0055]], requires_grad=True)"
      ]
     },
     "metadata": {},
     "execution_count": 73
    }
   ],
   "source": [
    "net.fc1.weight\n",
    "#net.fc2.weight"
   ]
  }
 ],
 "metadata": {
  "kernelspec": {
   "name": "python3",
   "display_name": "Python 3.8.5 64-bit",
   "metadata": {
    "interpreter": {
     "hash": "db81c78c196f5269207f5750cda145ff8b39254dc99c909f6237f28ca2d3bfd7"
    }
   }
  },
  "language_info": {
   "codemirror_mode": {
    "name": "ipython",
    "version": 3
   },
   "file_extension": ".py",
   "mimetype": "text/x-python",
   "name": "python",
   "nbconvert_exporter": "python",
   "pygments_lexer": "ipython3",
   "version": "3.8.5-final"
  }
 },
 "nbformat": 4,
 "nbformat_minor": 4
}